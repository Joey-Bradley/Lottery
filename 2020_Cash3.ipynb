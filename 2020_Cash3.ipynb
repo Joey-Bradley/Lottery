{
 "cells": [
  {
   "cell_type": "markdown",
   "metadata": {},
   "source": [
    "# Reading the Web Page into Python"
   ]
  },
  {
   "cell_type": "markdown",
   "metadata": {},
   "source": [
    "# Wrangling Data"
   ]
  },
  {
   "cell_type": "code",
   "execution_count": 1,
   "metadata": {},
   "outputs": [],
   "source": [
    "import requests\n",
    "from bs4 import BeautifulSoup\n",
    "import pandas as pd\n",
    "import numpy as np\n",
    "from itertools import permutations\n",
    "from itertools import combinations\n",
    "import matplotlib.pyplot as plt\n",
    "import calendar\n",
    "#def get_url(url):\n",
    "url=['https://www.lotterycorner.com/ga/cash-3-midday/2019',\n",
    "     'https://www.lotterycorner.com/ga/cash-3-evening/2019',\n",
    "    'https://www.lotterycorner.com/ga/cash-3-night/2019',\n",
    "    'https://www.lotterycorner.com/ga/cash-3-midday/2020',\n",
    "     'https://www.lotterycorner.com/ga/cash-3-evening/2020',\n",
    "    'https://www.lotterycorner.com/ga/cash-3-night/2020']\n",
    "yr= 0\n",
    "#url=['https://www.lotterycorner.com/ga/cash-3-midday/2018']\n",
    "dfc3 = pd.DataFrame([])\n",
    "for i in url:\n",
    "    r = requests.get(url[yr])\n",
    "    soup= BeautifulSoup(r.text, 'html.parser')\n",
    "    table = soup.find_all('table')[0] \n",
    "    df= pd.read_html(str(table))[0]\n",
    "    #Make first row the column headers\n",
    "    df.columns = df.iloc[0]\n",
    "    df = df[1:]\n",
    "    # Remove all rows with nulls\n",
    "    #df.dropna(inplace=True)----\n",
    "    # Remove the \"Jackpot\" columns\n",
    "    df.rename(columns={'Jackpot': 'TimeOfDay'}, inplace=True)\n",
    "    df['TimeOfDay']= i[42:].rstrip('/2020')\n",
    "    df['TimeOfDay']= i[42:].rstrip('/2019')\n",
    "    #Separate and expand data from the 'Winning Numbers' column into other columns beginning with 'Digit'\n",
    "    df = df.join(df['Winning Numbers'].str.split(' ', expand=True).add_prefix('Digit'))\n",
    "        #remove white spaces\n",
    "    df['Winning Numbers'] = df['Winning Numbers'].str.replace(\" \",\"\")\n",
    "        #Add two new columns to dataframe\n",
    "    df['First2']=df['Winning Numbers'].str[0:2]\n",
    "    df['FirstLast']=df['Winning Numbers'].str[0] + df['Winning Numbers'].str[2]\n",
    "    df['Last2']=df['Winning Numbers'].str[1:3]\n",
    "    \n",
    "        #Make the Date column a date type\n",
    "    df['Date'] = pd.to_datetime(df['Date'])\n",
    "        #Set the Date column as the indate\n",
    "    df.set_index('Date', inplace=True)  #Makes Date column the Index\n",
    "    #df.index.name = None\n",
    "        #Rename Column\n",
    "    df.rename(columns={'Winning Numbers': 'WinNum'}, inplace=True)\n",
    "        #Change data type from object to integer\n",
    "    cols = ['Digit0', 'Digit1', 'Digit2']\n",
    "    df[cols] = df[cols].apply(pd.to_numeric, errors='coerce', axis=1)    \n",
    "    yr=yr+1\n",
    "    dfc3=dfc3.append(df)\n",
    "    dfc3 = dfc3.sort_values(by = ['Date', 'TimeOfDay'], ascending = [True, True])\n",
    "    #dfc3['TimeOfDay']=df['TimeOfDay'].str.replace(\"ght\",\"night\")\n",
    "   \n",
    "    "
   ]
  },
  {
   "cell_type": "code",
   "execution_count": 2,
   "metadata": {},
   "outputs": [],
   "source": [
    "dfc3['TimeOfDay']=dfc3['TimeOfDay'].replace(\"ght\",\"Night\")\n",
    "dfc3['TimeOfDay']=dfc3['TimeOfDay'].replace(\"dday\",\"Midday\")\n",
    "dfc3['TimeOfDay']=dfc3['TimeOfDay'].replace(\"ening\",\"Evening\")\n",
    "\n"
   ]
  },
  {
   "cell_type": "code",
   "execution_count": 3,
   "metadata": {},
   "outputs": [],
   "source": [
    "# Reset index to start at zero (default)\n",
    "dfc3.reset_index(drop=False, inplace=True)"
   ]
  },
  {
   "cell_type": "code",
   "execution_count": 4,
   "metadata": {},
   "outputs": [
    {
     "data": {
      "text/html": [
       "<div>\n",
       "<style scoped>\n",
       "    .dataframe tbody tr th:only-of-type {\n",
       "        vertical-align: middle;\n",
       "    }\n",
       "\n",
       "    .dataframe tbody tr th {\n",
       "        vertical-align: top;\n",
       "    }\n",
       "\n",
       "    .dataframe thead th {\n",
       "        text-align: right;\n",
       "    }\n",
       "</style>\n",
       "<table border=\"1\" class=\"dataframe\">\n",
       "  <thead>\n",
       "    <tr style=\"text-align: right;\">\n",
       "      <th></th>\n",
       "      <th>Date</th>\n",
       "      <th>WinNum</th>\n",
       "      <th>TimeOfDay</th>\n",
       "      <th>Digit0</th>\n",
       "      <th>Digit1</th>\n",
       "      <th>Digit2</th>\n",
       "      <th>First2</th>\n",
       "      <th>FirstLast</th>\n",
       "      <th>Last2</th>\n",
       "    </tr>\n",
       "  </thead>\n",
       "  <tbody>\n",
       "    <tr>\n",
       "      <th>1269</th>\n",
       "      <td>2020-02-28</td>\n",
       "      <td>858</td>\n",
       "      <td>Midday</td>\n",
       "      <td>8</td>\n",
       "      <td>5</td>\n",
       "      <td>8</td>\n",
       "      <td>85</td>\n",
       "      <td>88</td>\n",
       "      <td>58</td>\n",
       "    </tr>\n",
       "    <tr>\n",
       "      <th>1270</th>\n",
       "      <td>2020-02-28</td>\n",
       "      <td>139</td>\n",
       "      <td>Evening</td>\n",
       "      <td>1</td>\n",
       "      <td>3</td>\n",
       "      <td>9</td>\n",
       "      <td>13</td>\n",
       "      <td>19</td>\n",
       "      <td>39</td>\n",
       "    </tr>\n",
       "    <tr>\n",
       "      <th>1271</th>\n",
       "      <td>2020-02-28</td>\n",
       "      <td>415</td>\n",
       "      <td>Night</td>\n",
       "      <td>4</td>\n",
       "      <td>1</td>\n",
       "      <td>5</td>\n",
       "      <td>41</td>\n",
       "      <td>45</td>\n",
       "      <td>15</td>\n",
       "    </tr>\n",
       "    <tr>\n",
       "      <th>1272</th>\n",
       "      <td>2020-02-29</td>\n",
       "      <td>290</td>\n",
       "      <td>Midday</td>\n",
       "      <td>2</td>\n",
       "      <td>9</td>\n",
       "      <td>0</td>\n",
       "      <td>29</td>\n",
       "      <td>20</td>\n",
       "      <td>90</td>\n",
       "    </tr>\n",
       "    <tr>\n",
       "      <th>1273</th>\n",
       "      <td>2020-02-29</td>\n",
       "      <td>898</td>\n",
       "      <td>Evening</td>\n",
       "      <td>8</td>\n",
       "      <td>9</td>\n",
       "      <td>8</td>\n",
       "      <td>89</td>\n",
       "      <td>88</td>\n",
       "      <td>98</td>\n",
       "    </tr>\n",
       "  </tbody>\n",
       "</table>\n",
       "</div>"
      ],
      "text/plain": [
       "           Date WinNum TimeOfDay  Digit0  Digit1  Digit2 First2 FirstLast  \\\n",
       "1269 2020-02-28    858    Midday       8       5       8     85        88   \n",
       "1270 2020-02-28    139   Evening       1       3       9     13        19   \n",
       "1271 2020-02-28    415     Night       4       1       5     41        45   \n",
       "1272 2020-02-29    290    Midday       2       9       0     29        20   \n",
       "1273 2020-02-29    898   Evening       8       9       8     89        88   \n",
       "\n",
       "     Last2  \n",
       "1269    58  \n",
       "1270    39  \n",
       "1271    15  \n",
       "1272    90  \n",
       "1273    98  "
      ]
     },
     "execution_count": 4,
     "metadata": {},
     "output_type": "execute_result"
    }
   ],
   "source": [
    "dfc3.tail()"
   ]
  },
  {
   "cell_type": "code",
   "execution_count": 5,
   "metadata": {},
   "outputs": [
    {
     "data": {
      "text/html": [
       "<div>\n",
       "<style scoped>\n",
       "    .dataframe tbody tr th:only-of-type {\n",
       "        vertical-align: middle;\n",
       "    }\n",
       "\n",
       "    .dataframe tbody tr th {\n",
       "        vertical-align: top;\n",
       "    }\n",
       "\n",
       "    .dataframe thead th {\n",
       "        text-align: right;\n",
       "    }\n",
       "</style>\n",
       "<table border=\"1\" class=\"dataframe\">\n",
       "  <thead>\n",
       "    <tr style=\"text-align: right;\">\n",
       "      <th></th>\n",
       "      <th>Date</th>\n",
       "      <th>WinNum</th>\n",
       "      <th>TimeOfDay</th>\n",
       "      <th>Digit0</th>\n",
       "      <th>Digit1</th>\n",
       "      <th>Digit2</th>\n",
       "      <th>First2</th>\n",
       "      <th>FirstLast</th>\n",
       "      <th>Last2</th>\n",
       "      <th>TwoDigits</th>\n",
       "      <th>AnySame</th>\n",
       "      <th>SameDigits</th>\n",
       "      <th>Combination</th>\n",
       "    </tr>\n",
       "  </thead>\n",
       "  <tbody>\n",
       "    <tr>\n",
       "      <th>1269</th>\n",
       "      <td>2020-02-28</td>\n",
       "      <td>858</td>\n",
       "      <td>Midday</td>\n",
       "      <td>8</td>\n",
       "      <td>5</td>\n",
       "      <td>8</td>\n",
       "      <td>85</td>\n",
       "      <td>88</td>\n",
       "      <td>58</td>\n",
       "      <td>EndsSame</td>\n",
       "      <td>Yes</td>\n",
       "      <td>88</td>\n",
       "      <td>588</td>\n",
       "    </tr>\n",
       "    <tr>\n",
       "      <th>1270</th>\n",
       "      <td>2020-02-28</td>\n",
       "      <td>139</td>\n",
       "      <td>Evening</td>\n",
       "      <td>1</td>\n",
       "      <td>3</td>\n",
       "      <td>9</td>\n",
       "      <td>13</td>\n",
       "      <td>19</td>\n",
       "      <td>39</td>\n",
       "      <td>NoneSame</td>\n",
       "      <td>No</td>\n",
       "      <td>--</td>\n",
       "      <td>139</td>\n",
       "    </tr>\n",
       "    <tr>\n",
       "      <th>1271</th>\n",
       "      <td>2020-02-28</td>\n",
       "      <td>415</td>\n",
       "      <td>Night</td>\n",
       "      <td>4</td>\n",
       "      <td>1</td>\n",
       "      <td>5</td>\n",
       "      <td>41</td>\n",
       "      <td>45</td>\n",
       "      <td>15</td>\n",
       "      <td>NoneSame</td>\n",
       "      <td>No</td>\n",
       "      <td>--</td>\n",
       "      <td>145</td>\n",
       "    </tr>\n",
       "    <tr>\n",
       "      <th>1272</th>\n",
       "      <td>2020-02-29</td>\n",
       "      <td>290</td>\n",
       "      <td>Midday</td>\n",
       "      <td>2</td>\n",
       "      <td>9</td>\n",
       "      <td>0</td>\n",
       "      <td>29</td>\n",
       "      <td>20</td>\n",
       "      <td>90</td>\n",
       "      <td>NoneSame</td>\n",
       "      <td>No</td>\n",
       "      <td>--</td>\n",
       "      <td>029</td>\n",
       "    </tr>\n",
       "    <tr>\n",
       "      <th>1273</th>\n",
       "      <td>2020-02-29</td>\n",
       "      <td>898</td>\n",
       "      <td>Evening</td>\n",
       "      <td>8</td>\n",
       "      <td>9</td>\n",
       "      <td>8</td>\n",
       "      <td>89</td>\n",
       "      <td>88</td>\n",
       "      <td>98</td>\n",
       "      <td>EndsSame</td>\n",
       "      <td>Yes</td>\n",
       "      <td>88</td>\n",
       "      <td>889</td>\n",
       "    </tr>\n",
       "  </tbody>\n",
       "</table>\n",
       "</div>"
      ],
      "text/plain": [
       "           Date WinNum TimeOfDay  Digit0  Digit1  Digit2 First2 FirstLast  \\\n",
       "1269 2020-02-28    858    Midday       8       5       8     85        88   \n",
       "1270 2020-02-28    139   Evening       1       3       9     13        19   \n",
       "1271 2020-02-28    415     Night       4       1       5     41        45   \n",
       "1272 2020-02-29    290    Midday       2       9       0     29        20   \n",
       "1273 2020-02-29    898   Evening       8       9       8     89        88   \n",
       "\n",
       "     Last2 TwoDigits AnySame SameDigits Combination  \n",
       "1269    58  EndsSame     Yes         88         588  \n",
       "1270    39  NoneSame      No         --         139  \n",
       "1271    15  NoneSame      No         --         145  \n",
       "1272    90  NoneSame      No         --         029  \n",
       "1273    98  EndsSame     Yes         88         889  "
      ]
     },
     "execution_count": 5,
     "metadata": {},
     "output_type": "execute_result"
    }
   ],
   "source": [
    "#Reordering Digit0 - 2 lowest to highest and placing in tuple into the Combination Column\n",
    "#reset index to start at zero\n",
    "\n",
    "for index, row in dfc3.iterrows():\n",
    "    num3=(row['Digit0'] ,row['Digit1'],row['Digit2'])\n",
    "    combo=list(num3)\n",
    "    if combo[0]==combo[1]:\n",
    "        dfc3.at[index, 'TwoDigits']=\"First2Same\"\n",
    "        dfc3.at[index, 'AnySame']=\"Yes\"\n",
    "        dfc3.at[index,'SameDigits']=row['First2']\n",
    "    elif combo[1]==combo[2]:\n",
    "        dfc3.at[index, 'TwoDigits']=\"Last2Same\"\n",
    "        dfc3.at[index, 'AnySame']=\"Yes\"\n",
    "        dfc3.at[index,'SameDigits']=row['Last2']\n",
    "    elif combo[0]==combo[2]:\n",
    "        dfc3.at[index, 'TwoDigits']=\"EndsSame\"\n",
    "        dfc3.at[index, 'AnySame']=\"Yes\"\n",
    "        dfc3.at[index,'SameDigits']=row['FirstLast']\n",
    "    else:\n",
    "        dfc3.at[index, 'TwoDigits']=\"NoneSame\"\n",
    "        dfc3.at[index, 'AnySame']=\"No\"\n",
    "        dfc3.at[index,'SameDigits']='--'\n",
    "    combo= [int(x) for x in combo]\n",
    "    combo.sort()\n",
    "    b = ''.join(map(str, combo)) \n",
    "    #print(i, end=\"\") \n",
    "    dfc3.at[index,'Combination']=b\n",
    "   \n",
    "    \n",
    "    \n",
    "dfc3.tail()\n",
    "#print(cash3list)"
   ]
  },
  {
   "cell_type": "code",
   "execution_count": 6,
   "metadata": {},
   "outputs": [],
   "source": [
    "#Set date column as Index\n",
    "dfc3 = dfc3.set_index('Date')"
   ]
  },
  {
   "cell_type": "code",
   "execution_count": 7,
   "metadata": {
    "scrolled": true
   },
   "outputs": [
    {
     "data": {
      "text/html": [
       "<div>\n",
       "<style scoped>\n",
       "    .dataframe tbody tr th:only-of-type {\n",
       "        vertical-align: middle;\n",
       "    }\n",
       "\n",
       "    .dataframe tbody tr th {\n",
       "        vertical-align: top;\n",
       "    }\n",
       "\n",
       "    .dataframe thead th {\n",
       "        text-align: right;\n",
       "    }\n",
       "</style>\n",
       "<table border=\"1\" class=\"dataframe\">\n",
       "  <thead>\n",
       "    <tr style=\"text-align: right;\">\n",
       "      <th></th>\n",
       "      <th>WinNum</th>\n",
       "      <th>TimeOfDay</th>\n",
       "      <th>Digit0</th>\n",
       "      <th>Digit1</th>\n",
       "      <th>Digit2</th>\n",
       "      <th>First2</th>\n",
       "      <th>FirstLast</th>\n",
       "      <th>Last2</th>\n",
       "      <th>TwoDigits</th>\n",
       "      <th>AnySame</th>\n",
       "      <th>SameDigits</th>\n",
       "      <th>Combination</th>\n",
       "    </tr>\n",
       "    <tr>\n",
       "      <th>Date</th>\n",
       "      <th></th>\n",
       "      <th></th>\n",
       "      <th></th>\n",
       "      <th></th>\n",
       "      <th></th>\n",
       "      <th></th>\n",
       "      <th></th>\n",
       "      <th></th>\n",
       "      <th></th>\n",
       "      <th></th>\n",
       "      <th></th>\n",
       "      <th></th>\n",
       "    </tr>\n",
       "  </thead>\n",
       "  <tbody>\n",
       "    <tr>\n",
       "      <th>2020-01-26</th>\n",
       "      <td>477</td>\n",
       "      <td>Night</td>\n",
       "      <td>4</td>\n",
       "      <td>7</td>\n",
       "      <td>7</td>\n",
       "      <td>47</td>\n",
       "      <td>47</td>\n",
       "      <td>77</td>\n",
       "      <td>Last2Same</td>\n",
       "      <td>Yes</td>\n",
       "      <td>77</td>\n",
       "      <td>477</td>\n",
       "    </tr>\n",
       "    <tr>\n",
       "      <th>2020-02-21</th>\n",
       "      <td>677</td>\n",
       "      <td>Evening</td>\n",
       "      <td>6</td>\n",
       "      <td>7</td>\n",
       "      <td>7</td>\n",
       "      <td>67</td>\n",
       "      <td>67</td>\n",
       "      <td>77</td>\n",
       "      <td>Last2Same</td>\n",
       "      <td>Yes</td>\n",
       "      <td>77</td>\n",
       "      <td>677</td>\n",
       "    </tr>\n",
       "    <tr>\n",
       "      <th>2020-02-25</th>\n",
       "      <td>707</td>\n",
       "      <td>Night</td>\n",
       "      <td>7</td>\n",
       "      <td>0</td>\n",
       "      <td>7</td>\n",
       "      <td>70</td>\n",
       "      <td>77</td>\n",
       "      <td>07</td>\n",
       "      <td>EndsSame</td>\n",
       "      <td>Yes</td>\n",
       "      <td>77</td>\n",
       "      <td>077</td>\n",
       "    </tr>\n",
       "  </tbody>\n",
       "</table>\n",
       "</div>"
      ],
      "text/plain": [
       "           WinNum TimeOfDay  Digit0  Digit1  Digit2 First2 FirstLast Last2  \\\n",
       "Date                                                                         \n",
       "2020-01-26    477     Night       4       7       7     47        47    77   \n",
       "2020-02-21    677   Evening       6       7       7     67        67    77   \n",
       "2020-02-25    707     Night       7       0       7     70        77    07   \n",
       "\n",
       "            TwoDigits AnySame SameDigits Combination  \n",
       "Date                                                  \n",
       "2020-01-26  Last2Same     Yes         77         477  \n",
       "2020-02-21  Last2Same     Yes         77         677  \n",
       "2020-02-25   EndsSame     Yes         77         077  "
      ]
     },
     "execution_count": 7,
     "metadata": {},
     "output_type": "execute_result"
    }
   ],
   "source": [
    "dfc3['2020'][dfc3['2020']['SameDigits']=='77']"
   ]
  },
  {
   "cell_type": "code",
   "execution_count": 8,
   "metadata": {
    "scrolled": true
   },
   "outputs": [
    {
     "data": {
      "text/plain": [
       "NoneSame      0.728767\n",
       "EndsSame      0.097717\n",
       "Last2Same     0.086758\n",
       "First2Same    0.086758\n",
       "Name: TwoDigits, dtype: float64"
      ]
     },
     "execution_count": 8,
     "metadata": {},
     "output_type": "execute_result"
    }
   ],
   "source": [
    "dfc3['2019'].TwoDigits.value_counts(normalize=True)"
   ]
  },
  {
   "cell_type": "code",
   "execution_count": 9,
   "metadata": {
    "scrolled": false
   },
   "outputs": [
    {
     "data": {
      "text/plain": [
       "Date        TwoDigits \n",
       "2020-01-31  NoneSame      67\n",
       "            Last2Same     10\n",
       "            EndsSame       9\n",
       "            First2Same     7\n",
       "2020-02-29  NoneSame      62\n",
       "            EndsSame       9\n",
       "            Last2Same      8\n",
       "            First2Same     7\n",
       "Name: TwoDigits, dtype: int64"
      ]
     },
     "execution_count": 9,
     "metadata": {},
     "output_type": "execute_result"
    }
   ],
   "source": [
    "dfc3['2020'].resample('M').TwoDigits.value_counts()"
   ]
  },
  {
   "cell_type": "code",
   "execution_count": 10,
   "metadata": {
    "scrolled": true
   },
   "outputs": [
    {
     "data": {
      "text/plain": [
       "TwoDigits   SameDigits\n",
       "EndsSame    44             2\n",
       "            88             2\n",
       "            00             1\n",
       "            33             1\n",
       "            66             1\n",
       "            77             1\n",
       "            99             1\n",
       "First2Same  99             3\n",
       "            22             2\n",
       "            44             1\n",
       "            55             1\n",
       "Last2Same   66             2\n",
       "            00             1\n",
       "            11             1\n",
       "            33             1\n",
       "            55             1\n",
       "            77             1\n",
       "            99             1\n",
       "NoneSame    --            62\n",
       "Name: SameDigits, dtype: int64"
      ]
     },
     "execution_count": 10,
     "metadata": {},
     "output_type": "execute_result"
    }
   ],
   "source": [
    "dfc3['2020-02'].groupby(['TwoDigits']).SameDigits.value_counts()"
   ]
  },
  {
   "cell_type": "code",
   "execution_count": 15,
   "metadata": {},
   "outputs": [
    {
     "data": {
      "text/plain": [
       "8    12\n",
       "3    10\n",
       "1    10\n",
       "0    10\n",
       "9     9\n",
       "7     9\n",
       "5     9\n",
       "4     9\n",
       "2     9\n",
       "6     6\n",
       "Name: Digit1, dtype: int64"
      ]
     },
     "execution_count": 15,
     "metadata": {},
     "output_type": "execute_result"
    }
   ],
   "source": [
    "dfc3['2019-03'].Digit1.value_counts()"
   ]
  },
  {
   "cell_type": "code",
   "execution_count": 11,
   "metadata": {
    "scrolled": true
   },
   "outputs": [
    {
     "data": {
      "text/plain": [
       "TwoDigits   SameDigits\n",
       "EndsSame    44             2\n",
       "            99             2\n",
       "            00             1\n",
       "            66             1\n",
       "            88             1\n",
       "First2Same  11             2\n",
       "            00             1\n",
       "            33             1\n",
       "            44             1\n",
       "            55             1\n",
       "            77             1\n",
       "            88             1\n",
       "            99             1\n",
       "Last2Same   22             2\n",
       "            11             1\n",
       "            55             1\n",
       "            77             1\n",
       "            99             1\n",
       "NoneSame    --            71\n",
       "Name: SameDigits, dtype: int64"
      ]
     },
     "execution_count": 11,
     "metadata": {},
     "output_type": "execute_result"
    }
   ],
   "source": [
    "dfc3['2019-03'].groupby(['TwoDigits']).SameDigits.value_counts()"
   ]
  },
  {
   "cell_type": "code",
   "execution_count": 12,
   "metadata": {
    "scrolled": true
   },
   "outputs": [
    {
     "data": {
      "text/plain": [
       "TwoDigits   SameDigits\n",
       "EndsSame    44             2\n",
       "            99             2\n",
       "            00             1\n",
       "            66             1\n",
       "            88             1\n",
       "First2Same  11             2\n",
       "            00             1\n",
       "            33             1\n",
       "            44             1\n",
       "            55             1\n",
       "            77             1\n",
       "            88             1\n",
       "            99             1\n",
       "Last2Same   22             2\n",
       "            11             1\n",
       "            55             1\n",
       "            77             1\n",
       "            99             1\n",
       "NoneSame    --            71\n",
       "Name: SameDigits, dtype: int64"
      ]
     },
     "execution_count": 12,
     "metadata": {},
     "output_type": "execute_result"
    }
   ],
   "source": [
    "dfc3['2019-03'].groupby(['TwoDigits']).SameDigits.value_counts()"
   ]
  },
  {
   "cell_type": "code",
   "execution_count": 12,
   "metadata": {
    "scrolled": true
   },
   "outputs": [
    {
     "data": {
      "text/plain": [
       "TwoDigits   SameDigits\n",
       "EndsSame    44             2\n",
       "            99             2\n",
       "            00             1\n",
       "            66             1\n",
       "            88             1\n",
       "First2Same  11             2\n",
       "            00             1\n",
       "            33             1\n",
       "            44             1\n",
       "            55             1\n",
       "            77             1\n",
       "            88             1\n",
       "            99             1\n",
       "Last2Same   22             2\n",
       "            11             1\n",
       "            55             1\n",
       "            77             1\n",
       "            99             1\n",
       "NoneSame    --            71\n",
       "Name: SameDigits, dtype: int64"
      ]
     },
     "execution_count": 12,
     "metadata": {},
     "output_type": "execute_result"
    }
   ],
   "source": [
    "dfc3['2019-03'].groupby(['TwoDigits']).SameDigits.value_counts()"
   ]
  },
  {
   "cell_type": "code",
   "execution_count": 13,
   "metadata": {
    "scrolled": true
   },
   "outputs": [
    {
     "data": {
      "text/plain": [
       "TwoDigits   SameDigits\n",
       "EndsSame    88             2\n",
       "            33             1\n",
       "            77             1\n",
       "First2Same  99             2\n",
       "            44             1\n",
       "Last2Same   00             1\n",
       "            33             1\n",
       "            77             1\n",
       "            99             1\n",
       "NoneSame    --            25\n",
       "Name: SameDigits, dtype: int64"
      ]
     },
     "execution_count": 13,
     "metadata": {},
     "output_type": "execute_result"
    }
   ],
   "source": [
    "dfc3.tail(36).groupby(['TwoDigits']).SameDigits.value_counts()"
   ]
  },
  {
   "cell_type": "code",
   "execution_count": 24,
   "metadata": {},
   "outputs": [
    {
     "data": {
      "text/plain": [
       "TwoDigits   SameDigits\n",
       "EndsSame    44              4\n",
       "            33              3\n",
       "            99              3\n",
       "            00              1\n",
       "            11              1\n",
       "            22              1\n",
       "            66              1\n",
       "            77              1\n",
       "            88              1\n",
       "First2Same  99              4\n",
       "            22              3\n",
       "            44              2\n",
       "            55              2\n",
       "            88              2\n",
       "            00              1\n",
       "Last2Same   00              3\n",
       "            11              3\n",
       "            55              3\n",
       "            66              3\n",
       "            33              2\n",
       "            77              2\n",
       "            44              1\n",
       "            99              1\n",
       "NoneSame    --            120\n",
       "Name: SameDigits, dtype: int64"
      ]
     },
     "execution_count": 24,
     "metadata": {},
     "output_type": "execute_result"
    }
   ],
   "source": [
    "dfc3['2020'].groupby(['TwoDigits']).SameDigits.value_counts()"
   ]
  },
  {
   "cell_type": "code",
   "execution_count": 28,
   "metadata": {
    "scrolled": true
   },
   "outputs": [
    {
     "data": {
      "text/plain": [
       "018    4\n",
       "458    4\n",
       "578    3\n",
       "359    3\n",
       "257    3\n",
       "025    3\n",
       "347    3\n",
       "069    3\n",
       "169    3\n",
       "158    3\n",
       "267    3\n",
       "689    3\n",
       "147    3\n",
       "029    3\n",
       "014    3\n",
       "089    3\n",
       "199    3\n",
       "156    2\n",
       "459    2\n",
       "448    2\n",
       "679    2\n",
       "016    2\n",
       "288    2\n",
       "124    2\n",
       "334    2\n",
       "269    2\n",
       "038    2\n",
       "145    2\n",
       "134    2\n",
       "299    2\n",
       "      ..\n",
       "256    1\n",
       "049    1\n",
       "249    1\n",
       "024    1\n",
       "677    1\n",
       "227    1\n",
       "346    1\n",
       "135    1\n",
       "345    1\n",
       "068    1\n",
       "137    1\n",
       "048    1\n",
       "477    1\n",
       "033    1\n",
       "235    1\n",
       "446    1\n",
       "224    1\n",
       "066    1\n",
       "399    1\n",
       "017    1\n",
       "027    1\n",
       "127    1\n",
       "129    1\n",
       "013    1\n",
       "001    1\n",
       "355    1\n",
       "899    1\n",
       "588    1\n",
       "157    1\n",
       "222    1\n",
       "Name: Combination, Length: 113, dtype: int64"
      ]
     },
     "execution_count": 28,
     "metadata": {},
     "output_type": "execute_result"
    }
   ],
   "source": [
    "dfc3['2020'].Combination.value_counts()"
   ]
  },
  {
   "cell_type": "code",
   "execution_count": 26,
   "metadata": {
    "scrolled": true
   },
   "outputs": [
    {
     "data": {
      "text/plain": [
       "479    0.012785\n",
       "567    0.012785\n",
       "247    0.011872\n",
       "457    0.011872\n",
       "159    0.010959\n",
       "049    0.010959\n",
       "058    0.010046\n",
       "136    0.010046\n",
       "379    0.010046\n",
       "069    0.010046\n",
       "135    0.010046\n",
       "127    0.010046\n",
       "259    0.010046\n",
       "024    0.010046\n",
       "047    0.009132\n",
       "579    0.009132\n",
       "358    0.009132\n",
       "445    0.009132\n",
       "347    0.009132\n",
       "146    0.009132\n",
       "128    0.009132\n",
       "459    0.008219\n",
       "188    0.008219\n",
       "089    0.008219\n",
       "016    0.008219\n",
       "019    0.008219\n",
       "578    0.008219\n",
       "168    0.008219\n",
       "258    0.008219\n",
       "137    0.008219\n",
       "         ...   \n",
       "115    0.001826\n",
       "669    0.001826\n",
       "246    0.001826\n",
       "889    0.001826\n",
       "779    0.001826\n",
       "088    0.001826\n",
       "055    0.001826\n",
       "099    0.001826\n",
       "778    0.000913\n",
       "116    0.000913\n",
       "477    0.000913\n",
       "199    0.000913\n",
       "999    0.000913\n",
       "011    0.000913\n",
       "599    0.000913\n",
       "799    0.000913\n",
       "777    0.000913\n",
       "338    0.000913\n",
       "335    0.000913\n",
       "117    0.000913\n",
       "228    0.000913\n",
       "677    0.000913\n",
       "666    0.000913\n",
       "444    0.000913\n",
       "119    0.000913\n",
       "466    0.000913\n",
       "145    0.000913\n",
       "033    0.000913\n",
       "233    0.000913\n",
       "222    0.000913\n",
       "Name: Combination, Length: 214, dtype: float64"
      ]
     },
     "execution_count": 26,
     "metadata": {},
     "output_type": "execute_result"
    }
   ],
   "source": [
    "dfc3['2019'].Combination.value_counts(normalize=True)"
   ]
  },
  {
   "cell_type": "code",
   "execution_count": 14,
   "metadata": {},
   "outputs": [
    {
     "data": {
      "text/plain": [
       "No     0.727778\n",
       "Yes    0.272222\n",
       "Name: AnySame, dtype: float64"
      ]
     },
     "execution_count": 14,
     "metadata": {},
     "output_type": "execute_result"
    }
   ],
   "source": [
    "dfc3.AnySame.value_counts(normalize=True)"
   ]
  },
  {
   "cell_type": "code",
   "execution_count": 18,
   "metadata": {},
   "outputs": [
    {
     "data": {
      "text/plain": [
       "<matplotlib.axes._subplots.AxesSubplot at 0x7fac5be532b0>"
      ]
     },
     "execution_count": 18,
     "metadata": {},
     "output_type": "execute_result"
    },
    {
     "data": {
      "image/png": "[encoded data removed]",
      "text/plain": [
       "<Figure size 432x288 with 1 Axes>"
      ]
     },
     "metadata": {
      "needs_background": "light"
     },
     "output_type": "display_data"
    }
   ],
   "source": [
    "lotto9= df['2020'][['Digit0', 'Digit1', 'Digit2']].stack().value_counts(normalize=True)\n",
    "lotto9.plot(kind='bar')"
   ]
  },
  {
   "cell_type": "code",
   "execution_count": 10,
   "metadata": {},
   "outputs": [
    {
     "name": "stdout",
     "output_type": "stream",
     "text": [
      "['Ray Brabury', 'Arthur C. Clarke', 'Robert Heinlein', 'Isaac zsimov']\n"
     ]
    }
   ],
   "source": [
    "scifi_authors = [\"Isaac zsimov\", \"Ray Brabury\", \"Robert Heinlein\", \"Arthur C. Clarke\"]\n",
    "scifi_authors.sort(key=lambda name: name.split()[-1].lower())\n",
    "print(scifi_authors)"
   ]
  },
  {
   "cell_type": "code",
   "execution_count": 14,
   "metadata": {},
   "outputs": [
    {
     "data": {
      "text/plain": [
       "Date        AnySame\n",
       "2020-01-01  No         0.777778\n",
       "            Yes        0.222222\n",
       "2020-01-04  No         0.888889\n",
       "            Yes        0.111111\n",
       "2020-01-07  No         0.555556\n",
       "            Yes        0.444444\n",
       "2020-01-10  No         1.000000\n",
       "2020-01-13  No         0.888889\n",
       "            Yes        0.111111\n",
       "2020-01-16  No         0.666667\n",
       "            Yes        0.333333\n",
       "2020-01-19  Yes        0.555556\n",
       "            No         0.444444\n",
       "2020-01-22  No         0.666667\n",
       "            Yes        0.333333\n",
       "2020-01-25  No         0.777778\n",
       "            Yes        0.222222\n",
       "2020-01-28  No         0.555556\n",
       "            Yes        0.444444\n",
       "2020-01-31  No         0.666667\n",
       "            Yes        0.333333\n",
       "2020-02-03  No         0.888889\n",
       "            Yes        0.111111\n",
       "2020-02-06  No         0.888889\n",
       "            Yes        0.111111\n",
       "2020-02-09  Yes        0.555556\n",
       "            No         0.444444\n",
       "2020-02-12  No         0.666667\n",
       "            Yes        0.333333\n",
       "2020-02-15  No         0.888889\n",
       "            Yes        0.111111\n",
       "2020-02-18  No         0.666667\n",
       "            Yes        0.333333\n",
       "2020-02-21  No         0.555556\n",
       "            Yes        0.444444\n",
       "2020-02-24  No         0.777778\n",
       "            Yes        0.222222\n",
       "2020-02-27  No         0.750000\n",
       "            Yes        0.250000\n",
       "Name: AnySame, dtype: float64"
      ]
     },
     "execution_count": 14,
     "metadata": {},
     "output_type": "execute_result"
    }
   ],
   "source": [
    "dfc3['2020'].resample('3d').AnySame.value_counts(normalize=True)"
   ]
  },
  {
   "cell_type": "code",
   "execution_count": 10,
   "metadata": {},
   "outputs": [
    {
     "name": "stdout",
     "output_type": "stream",
     "text": [
      "Date        AnySame\n",
      "2020-01-03  No         6\n",
      "2020-01-11  No         6\n",
      "2020-02-04  No         6\n",
      "2020-02-06  No         6\n",
      "Name: AnySame, dtype: int64\n",
      "134\n"
     ]
    }
   ],
   "source": [
    "weekAs=dfc3['2020'].resample('2d').AnySame.value_counts()\n",
    "#weekAs[weekAs]\n",
    "print((weekAs[weekAs==6]))\n",
    "print(len(dfc3['2020']))"
   ]
  },
  {
   "cell_type": "code",
   "execution_count": 125,
   "metadata": {},
   "outputs": [
    {
     "name": "stdout",
     "output_type": "stream",
     "text": [
      "64\n",
      "200.5\n",
      "337\n"
     ]
    }
   ],
   "source": [
    "#rowsofdata=111\n",
    "\n",
    "days=6\n",
    "dailySample=dfc3.resample('2d').AnySame.value_counts()\n",
    "print(len(dailySample[dailySample==days]))\n",
    "print(len(dfc3)/days)\n",
    "#print((len(dailySample[dailySample==days])/(len(dfc3)/days))\n",
    "#print(dailySample[dailySample==6]) # % of time No digit same will happen \n",
    "print(len(dailySample))\n",
    "\n"
   ]
  },
  {
   "cell_type": "code",
   "execution_count": 100,
   "metadata": {},
   "outputs": [
    {
     "name": "stdout",
     "output_type": "stream",
     "text": [
      "0.5405405405405406\n"
     ]
    },
    {
     "data": {
      "text/plain": [
       "Date        AnySame\n",
       "2019-12-31  No         3\n",
       "2020-01-01  No         3\n",
       "2020-01-02  No         2\n",
       "            Yes        1\n",
       "2020-01-03  No         3\n",
       "2020-01-04  No         3\n",
       "2020-01-05  No         2\n",
       "            Yes        1\n",
       "2020-01-06  No         3\n",
       "2020-01-07  No         2\n",
       "            Yes        1\n",
       "2020-01-08  No         3\n",
       "2020-01-09  No         2\n",
       "            Yes        1\n",
       "2020-01-10  No         3\n",
       "2020-01-11  No         3\n",
       "2020-01-12  No         3\n",
       "2020-01-13  No         3\n",
       "2020-01-14  No         2\n",
       "            Yes        1\n",
       "2020-01-15  No         3\n",
       "2020-01-16  No         2\n",
       "            Yes        1\n",
       "2020-01-17  No         3\n",
       "2020-01-18  No         2\n",
       "            Yes        1\n",
       "2020-01-19  No         2\n",
       "            Yes        1\n",
       "2020-01-20  No         2\n",
       "            Yes        1\n",
       "2020-01-21  No         3\n",
       "2020-01-22  Yes        2\n",
       "            No         1\n",
       "2020-01-23  No         2\n",
       "            Yes        1\n",
       "2020-01-24  No         3\n",
       "2020-01-25  No         2\n",
       "            Yes        1\n",
       "2020-01-26  No         2\n",
       "            Yes        1\n",
       "2020-01-27  No         3\n",
       "2020-01-28  No         3\n",
       "2020-01-29  Yes        2\n",
       "            No         1\n",
       "2020-01-30  No         3\n",
       "2020-01-31  No         2\n",
       "            Yes        1\n",
       "2020-02-01  No         3\n",
       "2020-02-02  No         2\n",
       "            Yes        1\n",
       "2020-02-03  No         2\n",
       "            Yes        1\n",
       "2020-02-04  No         3\n",
       "2020-02-05  No         3\n",
       "Name: AnySame, dtype: int64"
      ]
     },
     "execution_count": 100,
     "metadata": {},
     "output_type": "execute_result"
    }
   ],
   "source": [
    "rowsofdata=111\n",
    "dailySample=dfc3.tail(rowsofdata).resample('1d').AnySame.value_counts()\n",
    "print(dailySample[dailySample==3].count()/(rowsofdata/3)) # % of time No digit same will happen \n",
    "dailySample.tail(rowsofdata)"
   ]
  },
  {
   "cell_type": "code",
   "execution_count": 31,
   "metadata": {},
   "outputs": [
    {
     "name": "stdout",
     "output_type": "stream",
     "text": [
      "Date        AnySame\n",
      "2020-01-27  No         3\n",
      "2020-01-28  No         3\n",
      "2020-01-30  No         3\n",
      "2020-02-01  No         3\n",
      "2020-02-04  No         3\n",
      "2020-02-05  No         3\n",
      "Name: AnySame, dtype: int64 \n",
      "\n",
      "No     0.833333\n",
      "Yes    0.166667\n",
      "Name: AnySame, dtype: float64 \n",
      "\n",
      "Date        AnySame\n",
      "2020-01-27  No         3\n",
      "2020-01-28  No         3\n",
      "2020-01-29  Yes        2\n",
      "            No         1\n",
      "2020-01-30  No         3\n",
      "2020-01-31  No         2\n",
      "            Yes        1\n",
      "2020-02-01  No         3\n",
      "2020-02-02  No         2\n",
      "            Yes        1\n",
      "2020-02-03  No         2\n",
      "            Yes        1\n",
      "2020-02-04  No         3\n",
      "2020-02-05  No         3\n",
      "Name: AnySame, dtype: int64\n"
     ]
    }
   ],
   "source": [
    "rowsOfData=30\n",
    "OneDayResample=dfc3.tail(rowsOfData).resample('1d').AnySame.value_counts()\n",
    "print(OneDayResample[OneDayResample==3] , '\\n')\n",
    "print(dfc3.tail(days).AnySame.value_counts(normalize=\"True\"), '\\n')\n",
    "print(OneDayResample)"
   ]
  },
  {
   "cell_type": "markdown",
   "metadata": {},
   "source": [
    "#df1=dfc3.set_index(['Date'])\n",
    "#gb = df1.groupby([\"TwoDigits\"])\n",
    "dfc3.tail(100).groupby(['TwoDigits']).resample('7d').count()"
   ]
  },
  {
   "cell_type": "code",
   "execution_count": 55,
   "metadata": {
    "scrolled": true
   },
   "outputs": [
    {
     "data": {
      "text/html": [
       "<div>\n",
       "<style scoped>\n",
       "    .dataframe tbody tr th:only-of-type {\n",
       "        vertical-align: middle;\n",
       "    }\n",
       "\n",
       "    .dataframe tbody tr th {\n",
       "        vertical-align: top;\n",
       "    }\n",
       "\n",
       "    .dataframe thead th {\n",
       "        text-align: right;\n",
       "    }\n",
       "</style>\n",
       "<table border=\"1\" class=\"dataframe\">\n",
       "  <thead>\n",
       "    <tr style=\"text-align: right;\">\n",
       "      <th></th>\n",
       "      <th>WinNum</th>\n",
       "      <th>TimeOfDay</th>\n",
       "      <th>Digit0</th>\n",
       "      <th>Digit1</th>\n",
       "      <th>Digit2</th>\n",
       "      <th>First2</th>\n",
       "      <th>FirstLast</th>\n",
       "      <th>Last2</th>\n",
       "      <th>TwoDigits</th>\n",
       "      <th>AnySame</th>\n",
       "      <th>Combination</th>\n",
       "    </tr>\n",
       "    <tr>\n",
       "      <th>Date</th>\n",
       "      <th></th>\n",
       "      <th></th>\n",
       "      <th></th>\n",
       "      <th></th>\n",
       "      <th></th>\n",
       "      <th></th>\n",
       "      <th></th>\n",
       "      <th></th>\n",
       "      <th></th>\n",
       "      <th></th>\n",
       "      <th></th>\n",
       "    </tr>\n",
       "  </thead>\n",
       "  <tbody>\n",
       "    <tr>\n",
       "      <th>2020-01-02</th>\n",
       "      <td>353</td>\n",
       "      <td>Midday</td>\n",
       "      <td>3</td>\n",
       "      <td>5</td>\n",
       "      <td>3</td>\n",
       "      <td>35</td>\n",
       "      <td>33</td>\n",
       "      <td>53</td>\n",
       "      <td>EndsSame</td>\n",
       "      <td>Yes</td>\n",
       "      <td>335</td>\n",
       "    </tr>\n",
       "    <tr>\n",
       "      <th>2020-01-02</th>\n",
       "      <td>882</td>\n",
       "      <td>Evening</td>\n",
       "      <td>8</td>\n",
       "      <td>8</td>\n",
       "      <td>2</td>\n",
       "      <td>88</td>\n",
       "      <td>82</td>\n",
       "      <td>82</td>\n",
       "      <td>First2Same</td>\n",
       "      <td>Yes</td>\n",
       "      <td>288</td>\n",
       "    </tr>\n",
       "    <tr>\n",
       "      <th>2020-01-05</th>\n",
       "      <td>200</td>\n",
       "      <td>Midday</td>\n",
       "      <td>2</td>\n",
       "      <td>0</td>\n",
       "      <td>0</td>\n",
       "      <td>20</td>\n",
       "      <td>20</td>\n",
       "      <td>00</td>\n",
       "      <td>Last2Same</td>\n",
       "      <td>Yes</td>\n",
       "      <td>002</td>\n",
       "    </tr>\n",
       "    <tr>\n",
       "      <th>2020-01-07</th>\n",
       "      <td>355</td>\n",
       "      <td>Night</td>\n",
       "      <td>3</td>\n",
       "      <td>5</td>\n",
       "      <td>5</td>\n",
       "      <td>35</td>\n",
       "      <td>35</td>\n",
       "      <td>55</td>\n",
       "      <td>Last2Same</td>\n",
       "      <td>Yes</td>\n",
       "      <td>355</td>\n",
       "    </tr>\n",
       "    <tr>\n",
       "      <th>2020-01-08</th>\n",
       "      <td>939</td>\n",
       "      <td>Midday</td>\n",
       "      <td>9</td>\n",
       "      <td>3</td>\n",
       "      <td>9</td>\n",
       "      <td>93</td>\n",
       "      <td>99</td>\n",
       "      <td>39</td>\n",
       "      <td>EndsSame</td>\n",
       "      <td>Yes</td>\n",
       "      <td>399</td>\n",
       "    </tr>\n",
       "  </tbody>\n",
       "</table>\n",
       "</div>"
      ],
      "text/plain": [
       "           WinNum TimeOfDay  Digit0  Digit1  Digit2 First2 FirstLast Last2  \\\n",
       "Date                                                                         \n",
       "2020-01-02    353    Midday       3       5       3     35        33    53   \n",
       "2020-01-02    882   Evening       8       8       2     88        82    82   \n",
       "2020-01-05    200    Midday       2       0       0     20        20    00   \n",
       "2020-01-07    355     Night       3       5       5     35        35    55   \n",
       "2020-01-08    939    Midday       9       3       9     93        99    39   \n",
       "\n",
       "             TwoDigits AnySame Combination  \n",
       "Date                                        \n",
       "2020-01-02    EndsSame     Yes         335  \n",
       "2020-01-02  First2Same     Yes         288  \n",
       "2020-01-05   Last2Same     Yes         002  \n",
       "2020-01-07   Last2Same     Yes         355  \n",
       "2020-01-08    EndsSame     Yes         399  "
      ]
     },
     "execution_count": 55,
     "metadata": {},
     "output_type": "execute_result"
    }
   ],
   "source": [
    "doubles=dfc3['2020'][dfc3['2020']['AnySame']=='Yes']\n",
    "FirstLastQry=doubles['TwoDigits']=='EndSame'\n",
    "#First2Qry=doubles['TwoDigits'].En).First2.value_counts()\n",
    "#Last2Qry=doubles.groupby(['TwoDigits']).Last2.value_counts()\n",
    "#print(FirstLastQry)\n",
    "#print(First2Qry)\n",
    "#print(Last2Qry)\n",
    "doubles.head()"
   ]
  },
  {
   "cell_type": "code",
   "execution_count": 32,
   "metadata": {
    "scrolled": true
   },
   "outputs": [
    {
     "data": {
      "text/plain": [
       "NoneSame      0.728435\n",
       "EndsSame      0.096645\n",
       "Last2Same     0.089457\n",
       "First2Same    0.085463\n",
       "Name: TwoDigits, dtype: float64"
      ]
     },
     "execution_count": 32,
     "metadata": {},
     "output_type": "execute_result"
    }
   ],
   "source": [
    "dfc3.TwoDigits.value_counts(normalize=True)"
   ]
  },
  {
   "cell_type": "code",
   "execution_count": 25,
   "metadata": {
    "scrolled": true
   },
   "outputs": [
    {
     "data": {
      "text/plain": [
       "TwoDigits   TimeOfDay\n",
       "EndsSame    Evening      0.347107\n",
       "            Night        0.347107\n",
       "            Midday       0.305785\n",
       "First2Same  Evening      0.364486\n",
       "            Midday       0.317757\n",
       "            Night        0.317757\n",
       "Last2Same   Night        0.357143\n",
       "            Evening      0.321429\n",
       "            Midday       0.321429\n",
       "NoneSame    Midday       0.341009\n",
       "            Night        0.330044\n",
       "            Evening      0.328947\n",
       "Name: TimeOfDay, dtype: float64"
      ]
     },
     "execution_count": 25,
     "metadata": {},
     "output_type": "execute_result"
    }
   ],
   "source": [
    "dfc3['2019':'2020'].groupby(['TwoDigits']).TimeOfDay.value_counts(normalize=True)"
   ]
  },
  {
   "cell_type": "code",
   "execution_count": 6,
   "metadata": {},
   "outputs": [
    {
     "name": "stdout",
     "output_type": "stream",
     "text": [
      "Count of Pick 3 no repeat digits: 720\n",
      "Count of Pick 2 no repeat digits: 90\n"
     ]
    }
   ],
   "source": [
    "rng0to999t=[\"%.3d\" % i for i in range(1000)]\n",
    "\n",
    "#Numbers not played from 2016 -2018\n",
    "#vcWin=df.Win.value_counts().sort_index()\n",
    "#vcWinIndex=vcWin.index\n",
    "#NumsNotPlayed=set(rng0to999t).difference(vcWinIndex)\n",
    "#print('Count of total numbers not played:',len(NumsNotPlayed))\n",
    "#Filter repeating digits numbers out of Numbers not played  \n",
    "Pick3NoRepeat=[i for i in rng0to999t if i[0]+ i[1]!='00' if i[0]+ i[1]!='11'\n",
    "                       if i[0]+ i[1]!='22' if i[0]+ i[1]!='33' if i[0]+ i[1]!='44' \n",
    "                       if i[0]+ i[1]!='55' if i[0]+ i[1]!='66' if i[0]+ i[1]!='77' \n",
    "                       if i[0]+ i[1]!='88' if i[0]+ i[1]!='99' if i[1]+ i[2]!='00' \n",
    "                       if i[1]+ i[2]!='11' if i[1]+ i[2]!='22' if i[1]+ i[2]!='33' \n",
    "                       if i[1]+ i[2]!='44' if i[1]+ i[2]!='55' if i[1]+ i[2]!='66' \n",
    "                       if i[1]+ i[2]!='77' if i[1]+ i[2]!='88' if i[1]+ i[2]!='99' \n",
    "                       if i[0]+ i[2]!='00' if i[0]+ i[2]!='11' if i[0]+ i[2]!='22' \n",
    "                       if i[0]+ i[2]!='33' if i[0]+ i[2]!='44' if i[0]+ i[2]!='55' \n",
    "                       if i[0]+ i[2]!='66' if i[0]+ i[2]!='77' if i[0]+ i[2]!='88' \n",
    "                       if i[0]+ i[2]!='99']\n",
    "\n",
    "#print(NoRepeatDigits)\n",
    "\n",
    "Pick2NoRepeat=list(set([i[0:2] for i in Pick3NoRepeat]))\n",
    "#len(set(Pick2NoRepeat))\n",
    "print('Count of Pick 3 no repeat digits:',len(Pick3NoRepeat))\n",
    "print('Count of Pick 2 no repeat digits:',len(Pick2NoRepeat))"
   ]
  },
  {
   "cell_type": "markdown",
   "metadata": {},
   "source": [
    "dfc3.drop(['Combination'],inplace=True, axis=1)\n",
    "dfc3.head()"
   ]
  },
  {
   "cell_type": "code",
   "execution_count": 7,
   "metadata": {},
   "outputs": [],
   "source": [
    "#Reordering Digit0 - 2 lowest to highest and placing in tuple into the Combination Column\n",
    "for index, row in dfc3.iterrows():\n",
    "    a=(row['Digit0'] ,row['Digit1'],row['Digit2'])\n",
    "    Maxa = max(a)\n",
    "    Mina = min(a)\n",
    "    maxmin=(Mina,Maxa)\n",
    "    ChkDigitCount=list(set([x for x in a if a.count(x) > 1]))    \n",
    " #Check if digit exist more than once\n",
    "    if (row['Digit0']==row['Digit1']) & (row['Digit0']==row['Digit2']):\n",
    "        dfc3.at[index,'Combination']= a\n",
    "        dfc3.at[index,'PermComb']=('AllDigitSame')\n",
    "    elif ChkDigitCount==[]:\n",
    "        MiddleNum =set(maxmin).symmetric_difference(a)\n",
    "        result=str(MiddleNum).replace('{',\"\").replace('}',\"\")\n",
    "        MiddleNum=result *1  #change string to integer\n",
    "        #df18.set_value(index,'Combination', (Mina,MiddleNum,Maxa))\n",
    "        dfc3.at[index,'Combination']=(Mina,MiddleNum,Maxa)\n",
    "        dfc3.at[index,'PermComb']=('NoDigitSame') \n",
    "    elif ChkDigitCount[0] >= 0:\n",
    "        #row['Combination']=(Mina,ChkDigitCount[0],Maxa)\n",
    "        dfc3.at[index,'Combination']=(Mina,ChkDigitCount[0],Maxa) \n",
    "        dfc3.at[index,'PermComb']=('TwoDigitSame') "
   ]
  },
  {
   "cell_type": "code",
   "execution_count": 53,
   "metadata": {},
   "outputs": [
    {
     "data": {
      "text/plain": [
       "<matplotlib.axes._subplots.AxesSubplot at 0x7f8d77f1ff28>"
      ]
     },
     "execution_count": 53,
     "metadata": {},
     "output_type": "execute_result"
    },
    {
     "data": {
      "image/png": "[encoded data removed]",
      "text/plain": [
       "<Figure size 432x288 with 1 Axes>"
      ]
     },
     "metadata": {
      "needs_background": "light"
     },
     "output_type": "display_data"
    }
   ],
   "source": [
    "dfc3.tail(70).AnySame.value_counts(normalize=True).plot(kind='bar')"
   ]
  },
  {
   "cell_type": "markdown",
   "metadata": {},
   "source": [
    "#Deletes last row\n",
    "dfc3 = dfc3.iloc[:-1]"
   ]
  },
  {
   "cell_type": "markdown",
   "metadata": {},
   "source": [
    "#Able to search for a First2 data\n",
    "print('Count of Digit pulled', len(dfc3[dfc3['First2'] == '00']))\n",
    "dfc3[dfc3['First2'] == '00']"
   ]
  },
  {
   "cell_type": "markdown",
   "metadata": {},
   "source": [
    "days=41\n",
    "# Last row in dataframe\n",
    "lastrow=len(dfc3)\n",
    "CurrentNumber=dfc3[-1:].WinNum.item()\n",
    "#VcDays=dfc3.tail(days).First2.value_counts()\n",
    "RangeNumPlayed=dfc3.iloc[lastrow-days:lastrow-1, 6:7].First2.value_counts()\n",
    "NumPlayed=RangeNumPlayed.index\n",
    "# String Numbers 0 - 99\n",
    "rng0to99s=[\"%.2d\" % i for i in range(100)] # Text range 0 to 99\n",
    "rng0to9s=[\"%.1d\" % i for i in range(10)] # Text range 0 to 99\n",
    "NumNotPlayed=set(Pick2NoRepeat).difference(NumPlayed)\n",
    "#last100=dfc3.iloc[lastrow-101:lastrow-1, 6:7]\n",
    "#Gr1=(VcDays[VcDays >1])\n",
    "#Digit 0 Filter\n",
    "VcDigit0=dfc3.tail(days).Digit0.value_counts(normalize=True)\n",
    "VcD0Filter=list(dfc3.iloc[lastrow-4:lastrow-1].Digit0)\n",
    "VcD0FilterS=[str(i)for i in VcD0Filter]\n",
    "VcD0=set(rng0to9s).difference(VcD0FilterS)\n",
    "#VcD0Filter=list([VcDigit0[VcDigit0>VcDigit0.min()]][0].index)\n",
    "NumsToPlayD0Filter=[i for i in NumNotPlayed for c in VcD0 if i[0]==c] \n",
    "#Digit 1 Filter\n",
    "VcDigit1=dfc3.tail(days).Digit1.value_counts(normalize=True)\n",
    "VcD1Filter=list(dfc3.iloc[lastrow-4:lastrow-1].Digit1)\n",
    "VcD1FilterS=[str(i)for i in VcD1Filter]\n",
    "VcD1=set(rng0to9s).difference(VcD1FilterS)\n",
    "NumsToPlayD1Filter=[i for i in NumsToPlayD0Filter for c in VcD1 if i[1]==c] \n",
    "print('Current Number;', CurrentNumber)\n",
    "\n",
    "#Digit 2 Filter\n",
    "VcDigit2=dfc3.tail(days).Digit2.value_counts(normalize=True)\n",
    "VcD2Filter=list(dfc3.iloc[lastrow-4:lastrow-1].Digit2)\n",
    "VcD2FilterS=[str(i)for i in VcD2Filter]\n",
    "VcD2=set(rng0to9s).difference(VcD2FilterS)\n",
    "#NumsToPlayD2Filter=[i for i in NumsToPlayD0Filter for c in VcD1 if i[1]==c] \n",
    "#print('Percentange of Numbers Played More Than Once',(Gr1.sum()/days) * 100)\n",
    "print(len(RangeNumPlayed),'Numbers were played in the last:', days, 'days')\n",
    "print(list(NumPlayed),  '\\n')\n",
    "print(len(NumNotPlayed),'Numbers were not played in last ', days, 'days')\n",
    "print(NumNotPlayed, '\\n')\n",
    "print(len(NumsToPlayD0Filter),'Numbers To play After Digit 0 Filter ', VcD0)\n",
    "print(NumsToPlayD0Filter)\n",
    "print('\\n',len(NumsToPlayD1Filter),'Numbers To play After Digit 1 Filter', VcD1)\n",
    "print(NumsToPlayD1Filter, '\\n')\n",
    "print('\\n',len(VcD2),'Numbers To play After Digit 2 Filter', VcD2)\n",
    "\n",
    "if CurrentNumber in VcD0Filter:\n",
    "    print('True')\n",
    "else:\n",
    "    print(CurrentNumber, \"was not played i last\", days, 'days ')\n",
    "\n",
    "#dfc3.tail(15)\n",
    "\n",
    "#stack First2 & Last2 Columns\n",
    "#numcount=dfc3.iloc[lastrow-days:lastrow-1, [6,8]].stack().value_counts()\n",
    "#print((numcount[numcount>1]))\n"
   ]
  },
  {
   "cell_type": "markdown",
   "metadata": {},
   "source": [
    "dfc3.tail(100).First2.value_counts()"
   ]
  },
  {
   "cell_type": "code",
   "execution_count": 20,
   "metadata": {},
   "outputs": [
    {
     "data": {
      "text/plain": [
       "<matplotlib.axes._subplots.AxesSubplot at 0x7efd29ef7f60>"
      ]
     },
     "execution_count": 20,
     "metadata": {},
     "output_type": "execute_result"
    },
    {
     "data": {
      "image/png": "[encoded data removed]",
      "text/plain": [
       "<Figure size 1152x288 with 1 Axes>"
      ]
     },
     "metadata": {
      "needs_background": "light"
     },
     "output_type": "display_data"
    }
   ],
   "source": [
    "dfc3.tail(100).First2.value_counts().plot(kind='bar', figsize=(16,4))"
   ]
  },
  {
   "cell_type": "markdown",
   "metadata": {},
   "source": [
    "# Start Data Analysis for 2018"
   ]
  },
  {
   "cell_type": "code",
   "execution_count": 52,
   "metadata": {},
   "outputs": [],
   "source": [
    "dfc3.fillna(0, inplace=True)"
   ]
  },
  {
   "cell_type": "code",
   "execution_count": null,
   "metadata": {},
   "outputs": [],
   "source": []
  },
  {
   "cell_type": "code",
   "execution_count": 33,
   "metadata": {},
   "outputs": [
    {
     "data": {
      "text/plain": [
       "[<matplotlib.lines.Line2D at 0x7f706bf7f780>]"
      ]
     },
     "execution_count": 33,
     "metadata": {},
     "output_type": "execute_result"
    },
    {
     "data": {
      "image/png": "[encoded data removed]",
      "text/plain": [
       "<Figure size 1152x288 with 1 Axes>"
      ]
     },
     "metadata": {
      "needs_background": "light"
     },
     "output_type": "display_data"
    }
   ],
   "source": [
    "#df18['2018-08':'2018-10'].Digit0.value_counts(normalize=True).plot(kind='bar')\n",
    "#df18['2018-08':'2018-10'].Digit0.plot()\n",
    "plt.figure(1, figsize=(16, 4))\n",
    "#plt.scatter(df18.index, df18.ShiftUp0Diff)\n",
    "plt.plot(df19.index, df19.ShiftUp0Diff)"
   ]
  },
  {
   "cell_type": "markdown",
   "metadata": {},
   "source": [
    "# Analysis for Evening Cash 3"
   ]
  },
  {
   "cell_type": "code",
   "execution_count": null,
   "metadata": {},
   "outputs": [],
   "source": [
    "#Percentage of First2 numbers picked more or less than once in a 100 day interval\n",
    "import matplotlib.pyplot as plt\n",
    "\n",
    "# Pie chart, where the slices will be ordered and plotted counter-clockwise:\n",
    "labels = 'NumPkMoreThanOnce', 'NumPkOnce'\n",
    "sizes = [len(NumPkMoreThanOnce),len(NumPkOnce)]\n",
    "explode = (0, 0.1)  # only \"explode\" the 2nd slice (i.e. 'Hogs')\n",
    "fig1, ax1 = plt.subplots()\n",
    "ax1.pie(sizes, explode=explode, labels=labels, autopct='%1.1f%%',\n",
    "        shadow=True, startangle=90)\n",
    "ax1.axis('equal')  # Equal aspect ratio ensures that pie is drawn as a circle.\n",
    "plt.show()"
   ]
  }
 ],
 "metadata": {
  "kernelspec": {
   "display_name": "Python 3",
   "language": "python",
   "name": "python3"
  },
  "language_info": {
   "codemirror_mode": {
    "name": "ipython",
    "version": 3
   },
   "file_extension": ".py",
   "mimetype": "text/x-python",
   "name": "python",
   "nbconvert_exporter": "python",
   "pygments_lexer": "ipython3",
   "version": "3.6.6"
  }
 },
 "nbformat": 4,
 "nbformat_minor": 2
}
