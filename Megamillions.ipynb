{
 "cells": [
  {
   "cell_type": "markdown",
   "metadata": {},
   "source": [
    "# Reading the Web Page into Python"
   ]
  },
  {
   "cell_type": "code",
   "execution_count": 1,
   "metadata": {},
   "outputs": [],
   "source": [
    "import requests\n",
    "import pandas as pd\n",
    "import numpy as np\n",
    "\n",
    "# url with data\n",
    "r = requests.get('https://www.lotteryusa.com/mega-millions/mm-year.html')\n"
   ]
  },
  {
   "cell_type": "code",
   "execution_count": 2,
   "metadata": {},
   "outputs": [],
   "source": [
    "from bs4 import BeautifulSoup\n",
    "soup = BeautifulSoup(r.text, 'html.parser')"
   ]
  },
  {
   "cell_type": "code",
   "execution_count": 3,
   "metadata": {},
   "outputs": [],
   "source": [
    "# Get table data and load in a pandas data frame\n",
    "\n",
    "table = soup.find_all('table')[0] \n",
    "df = pd.read_html(str(table))[0]"
   ]
  },
  {
   "cell_type": "code",
   "execution_count": 4,
   "metadata": {},
   "outputs": [],
   "source": [
    "# Remove all rows with nulls\n",
    "df.dropna(inplace=True)"
   ]
  },
  {
   "cell_type": "code",
   "execution_count": 5,
   "metadata": {},
   "outputs": [],
   "source": [
    "#Convert 'Date' column to actual dates\n",
    "df['Date']=pd.to_datetime(df['Date'])"
   ]
  },
  {
   "cell_type": "code",
   "execution_count": 6,
   "metadata": {},
   "outputs": [],
   "source": [
    "# Remove the 'Date' and \"Jackpot\" columns\n",
    "#df.drop(['Date', 'Jackpot'], axis=1, inplace= True)\n",
    "df.drop(['Jackpot'], axis=1, inplace= True)"
   ]
  },
  {
   "cell_type": "code",
   "execution_count": 7,
   "metadata": {},
   "outputs": [],
   "source": [
    "# Expand 'Result' Column into multiple columns\n",
    "df = df.join(df['Result'].str.split(' ', expand=True).add_prefix('D'))"
   ]
  },
  {
   "cell_type": "code",
   "execution_count": 8,
   "metadata": {},
   "outputs": [],
   "source": [
    "# Remove the 'Result' columns\n",
    "df.drop(['Result', 'D6','D7','D8', 'D9'], axis=1, inplace= True)"
   ]
  },
  {
   "cell_type": "code",
   "execution_count": 9,
   "metadata": {},
   "outputs": [],
   "source": [
    "# Rename Column \"Digit5\" to \"PB'\n",
    "df.rename(index=str, columns={\"D5\": \"PB\"}, inplace=True)"
   ]
  },
  {
   "cell_type": "code",
   "execution_count": 10,
   "metadata": {},
   "outputs": [],
   "source": [
    "# Set Date column as index\n",
    "df.set_index('Date', inplace=True)"
   ]
  },
  {
   "cell_type": "code",
   "execution_count": 11,
   "metadata": {},
   "outputs": [],
   "source": [
    "# Remove row index name\n",
    "df.index.name = None\n"
   ]
  },
  {
   "cell_type": "code",
   "execution_count": 12,
   "metadata": {},
   "outputs": [],
   "source": [
    "df=df.sort_index(ascending=False)"
   ]
  },
  {
   "cell_type": "code",
   "execution_count": 13,
   "metadata": {
    "scrolled": true
   },
   "outputs": [
    {
     "name": "stdout",
     "output_type": "stream",
     "text": [
      "<class 'pandas.core.frame.DataFrame'>\n",
      "DatetimeIndex: 104 entries, 2020-03-06 to 2019-03-12\n",
      "Data columns (total 6 columns):\n",
      "D0    104 non-null int64\n",
      "D1    104 non-null int64\n",
      "D2    104 non-null int64\n",
      "D3    104 non-null int64\n",
      "D4    104 non-null int64\n",
      "PB    104 non-null int64\n",
      "dtypes: int64(6)\n",
      "memory usage: 5.7 KB\n"
     ]
    }
   ],
   "source": [
    "cols = ['D0', 'D1', 'D2', 'D3', 'D4','PB']\n",
    "df[cols] = df[cols].apply(pd.to_numeric, errors='coerce', axis=1)\n",
    "df.info()"
   ]
  },
  {
   "cell_type": "code",
   "execution_count": 14,
   "metadata": {
    "scrolled": true
   },
   "outputs": [
    {
     "data": {
      "text/html": [
       "<div>\n",
       "<style scoped>\n",
       "    .dataframe tbody tr th:only-of-type {\n",
       "        vertical-align: middle;\n",
       "    }\n",
       "\n",
       "    .dataframe tbody tr th {\n",
       "        vertical-align: top;\n",
       "    }\n",
       "\n",
       "    .dataframe thead th {\n",
       "        text-align: right;\n",
       "    }\n",
       "</style>\n",
       "<table border=\"1\" class=\"dataframe\">\n",
       "  <thead>\n",
       "    <tr style=\"text-align: right;\">\n",
       "      <th></th>\n",
       "      <th>D0</th>\n",
       "      <th>D1</th>\n",
       "      <th>D2</th>\n",
       "      <th>D3</th>\n",
       "      <th>D4</th>\n",
       "      <th>PB</th>\n",
       "    </tr>\n",
       "  </thead>\n",
       "  <tbody>\n",
       "    <tr>\n",
       "      <th>2020-03-06</th>\n",
       "      <td>15</td>\n",
       "      <td>48</td>\n",
       "      <td>56</td>\n",
       "      <td>58</td>\n",
       "      <td>70</td>\n",
       "      <td>4</td>\n",
       "    </tr>\n",
       "    <tr>\n",
       "      <th>2020-03-03</th>\n",
       "      <td>8</td>\n",
       "      <td>12</td>\n",
       "      <td>33</td>\n",
       "      <td>56</td>\n",
       "      <td>64</td>\n",
       "      <td>2</td>\n",
       "    </tr>\n",
       "    <tr>\n",
       "      <th>2020-02-28</th>\n",
       "      <td>2</td>\n",
       "      <td>3</td>\n",
       "      <td>14</td>\n",
       "      <td>41</td>\n",
       "      <td>64</td>\n",
       "      <td>17</td>\n",
       "    </tr>\n",
       "    <tr>\n",
       "      <th>2020-02-25</th>\n",
       "      <td>2</td>\n",
       "      <td>9</td>\n",
       "      <td>43</td>\n",
       "      <td>49</td>\n",
       "      <td>63</td>\n",
       "      <td>15</td>\n",
       "    </tr>\n",
       "    <tr>\n",
       "      <th>2020-02-21</th>\n",
       "      <td>4</td>\n",
       "      <td>7</td>\n",
       "      <td>13</td>\n",
       "      <td>16</td>\n",
       "      <td>60</td>\n",
       "      <td>6</td>\n",
       "    </tr>\n",
       "  </tbody>\n",
       "</table>\n",
       "</div>"
      ],
      "text/plain": [
       "            D0  D1  D2  D3  D4  PB\n",
       "2020-03-06  15  48  56  58  70   4\n",
       "2020-03-03   8  12  33  56  64   2\n",
       "2020-02-28   2   3  14  41  64  17\n",
       "2020-02-25   2   9  43  49  63  15\n",
       "2020-02-21   4   7  13  16  60   6"
      ]
     },
     "execution_count": 14,
     "metadata": {},
     "output_type": "execute_result"
    }
   ],
   "source": [
    "df.head()"
   ]
  },
  {
   "cell_type": "code",
   "execution_count": 46,
   "metadata": {},
   "outputs": [
    {
     "name": "stdout",
     "output_type": "stream",
     "text": [
      "[63, 56, 17, 31, 23, 61, 40, 20, 46, 53, 60, 30, 27, 18, 69, 21, 22, 3, 66, 35, 29, 34, 37, 39, 43, 44, 48, 49, 54, 55, 64]\n",
      "31\n",
      "63    3\n",
      "56    3\n",
      "17    2\n",
      "31    2\n",
      "23    2\n",
      "61    2\n",
      "40    2\n",
      "20    2\n",
      "46    2\n",
      "53    2\n",
      "60    2\n",
      "30    2\n",
      "27    1\n",
      "18    1\n",
      "69    1\n",
      "21    1\n",
      "22    1\n",
      "3     1\n",
      "66    1\n",
      "35    1\n",
      "29    1\n",
      "34    1\n",
      "37    1\n",
      "39    1\n",
      "43    1\n",
      "44    1\n",
      "48    1\n",
      "49    1\n",
      "54    1\n",
      "55    1\n",
      "64    1\n",
      "dtype: int64\n"
     ]
    }
   ],
   "source": [
    "dec19=df['2019-12'][['D0', 'D1', 'D2', 'D3', 'D4']].stack().value_counts()\n",
    "print(list(dec19.index))\n",
    "print(len(dec19))\n",
    "print(dec19)"
   ]
  },
  {
   "cell_type": "code",
   "execution_count": 33,
   "metadata": {},
   "outputs": [
    {
     "name": "stdout",
     "output_type": "stream",
     "text": [
      "[31, 41, 62, 25, 37, 18, 17, 47, 51, 3, 13, 28, 16, 11, 9, 70, 23, 4, 27, 63, 29, 30, 33, 36, 38, 40, 42, 49, 52, 53, 54, 56, 57, 66]\n",
      "34\n"
     ]
    }
   ],
   "source": [
    "jan20=df['2020-01'][['D0', 'D1', 'D2', 'D3', 'D4']].stack().value_counts().index\n",
    "print(list(jan20))\n",
    "print(len(jan20))"
   ]
  },
  {
   "cell_type": "code",
   "execution_count": 36,
   "metadata": {},
   "outputs": [
    {
     "name": "stdout",
     "output_type": "stream",
     "text": [
      "[64, 32, 2, 4, 6, 52, 9, 48, 14, 27, 3, 7, 10, 12, 13, 16, 63, 61, 39, 41, 43, 49, 50, 51, 54, 55, 70, 60, 36]\n",
      "Count  29\n"
     ]
    }
   ],
   "source": [
    "feb20=df['2020-02'][['D0', 'D1', 'D2', 'D3', 'D4']].stack().value_counts().index\n",
    "print(list(feb20))\n",
    "print('Count ',len(feb20))"
   ]
  },
  {
   "cell_type": "code",
   "execution_count": 41,
   "metadata": {},
   "outputs": [
    {
     "name": "stdout",
     "output_type": "stream",
     "text": [
      "[56, 15, 12, 58, 8, 70, 64, 33, 48]\n",
      "Count  9\n"
     ]
    }
   ],
   "source": [
    "mar20=df['2020-03'][['D0', 'D1', 'D2', 'D3', 'D4']].stack().value_counts().index\n",
    "print(list(mar20))\n",
    "print('Count ',len(mar20))"
   ]
  },
  {
   "cell_type": "code",
   "execution_count": 40,
   "metadata": {},
   "outputs": [
    {
     "name": "stdout",
     "output_type": "stream",
     "text": [
      "[33, 66, 37, 38, 40, 42, 11, 57, 47, 17, 18, 62, 53, 23, 56, 25, 28, 29, 30, 31]\n",
      "Count  20\n"
     ]
    }
   ],
   "source": [
    "diffJF=list(set(jan20) - set(feb20))\n",
    "print((diffJF))\n",
    "print('Count ',len(diffJF))"
   ]
  },
  {
   "cell_type": "code",
   "execution_count": 38,
   "metadata": {},
   "outputs": [
    {
     "data": {
      "text/html": [
       "<div>\n",
       "<style scoped>\n",
       "    .dataframe tbody tr th:only-of-type {\n",
       "        vertical-align: middle;\n",
       "    }\n",
       "\n",
       "    .dataframe tbody tr th {\n",
       "        vertical-align: top;\n",
       "    }\n",
       "\n",
       "    .dataframe thead th {\n",
       "        text-align: right;\n",
       "    }\n",
       "</style>\n",
       "<table border=\"1\" class=\"dataframe\">\n",
       "  <thead>\n",
       "    <tr style=\"text-align: right;\">\n",
       "      <th></th>\n",
       "      <th>D0</th>\n",
       "      <th>D1</th>\n",
       "      <th>D2</th>\n",
       "      <th>D3</th>\n",
       "      <th>D4</th>\n",
       "      <th>PB</th>\n",
       "    </tr>\n",
       "  </thead>\n",
       "  <tbody>\n",
       "    <tr>\n",
       "      <th>2020-03-06</th>\n",
       "      <td>15</td>\n",
       "      <td>48</td>\n",
       "      <td>56</td>\n",
       "      <td>58</td>\n",
       "      <td>70</td>\n",
       "      <td>4</td>\n",
       "    </tr>\n",
       "    <tr>\n",
       "      <th>2020-03-03</th>\n",
       "      <td>8</td>\n",
       "      <td>12</td>\n",
       "      <td>33</td>\n",
       "      <td>56</td>\n",
       "      <td>64</td>\n",
       "      <td>2</td>\n",
       "    </tr>\n",
       "    <tr>\n",
       "      <th>2020-02-28</th>\n",
       "      <td>2</td>\n",
       "      <td>3</td>\n",
       "      <td>14</td>\n",
       "      <td>41</td>\n",
       "      <td>64</td>\n",
       "      <td>17</td>\n",
       "    </tr>\n",
       "    <tr>\n",
       "      <th>2020-02-25</th>\n",
       "      <td>2</td>\n",
       "      <td>9</td>\n",
       "      <td>43</td>\n",
       "      <td>49</td>\n",
       "      <td>63</td>\n",
       "      <td>15</td>\n",
       "    </tr>\n",
       "    <tr>\n",
       "      <th>2020-02-21</th>\n",
       "      <td>4</td>\n",
       "      <td>7</td>\n",
       "      <td>13</td>\n",
       "      <td>16</td>\n",
       "      <td>60</td>\n",
       "      <td>6</td>\n",
       "    </tr>\n",
       "    <tr>\n",
       "      <th>2020-02-18</th>\n",
       "      <td>6</td>\n",
       "      <td>12</td>\n",
       "      <td>39</td>\n",
       "      <td>61</td>\n",
       "      <td>70</td>\n",
       "      <td>4</td>\n",
       "    </tr>\n",
       "    <tr>\n",
       "      <th>2020-02-14</th>\n",
       "      <td>10</td>\n",
       "      <td>32</td>\n",
       "      <td>48</td>\n",
       "      <td>54</td>\n",
       "      <td>55</td>\n",
       "      <td>18</td>\n",
       "    </tr>\n",
       "    <tr>\n",
       "      <th>2020-02-11</th>\n",
       "      <td>4</td>\n",
       "      <td>6</td>\n",
       "      <td>32</td>\n",
       "      <td>52</td>\n",
       "      <td>64</td>\n",
       "      <td>6</td>\n",
       "    </tr>\n",
       "    <tr>\n",
       "      <th>2020-02-07</th>\n",
       "      <td>9</td>\n",
       "      <td>14</td>\n",
       "      <td>27</td>\n",
       "      <td>36</td>\n",
       "      <td>52</td>\n",
       "      <td>4</td>\n",
       "    </tr>\n",
       "    <tr>\n",
       "      <th>2020-02-04</th>\n",
       "      <td>32</td>\n",
       "      <td>48</td>\n",
       "      <td>50</td>\n",
       "      <td>51</td>\n",
       "      <td>64</td>\n",
       "      <td>10</td>\n",
       "    </tr>\n",
       "    <tr>\n",
       "      <th>2020-01-31</th>\n",
       "      <td>28</td>\n",
       "      <td>31</td>\n",
       "      <td>33</td>\n",
       "      <td>57</td>\n",
       "      <td>62</td>\n",
       "      <td>19</td>\n",
       "    </tr>\n",
       "    <tr>\n",
       "      <th>2020-01-28</th>\n",
       "      <td>17</td>\n",
       "      <td>36</td>\n",
       "      <td>47</td>\n",
       "      <td>51</td>\n",
       "      <td>62</td>\n",
       "      <td>21</td>\n",
       "    </tr>\n",
       "  </tbody>\n",
       "</table>\n",
       "</div>"
      ],
      "text/plain": [
       "            D0  D1  D2  D3  D4  PB\n",
       "2020-03-06  15  48  56  58  70   4\n",
       "2020-03-03   8  12  33  56  64   2\n",
       "2020-02-28   2   3  14  41  64  17\n",
       "2020-02-25   2   9  43  49  63  15\n",
       "2020-02-21   4   7  13  16  60   6\n",
       "2020-02-18   6  12  39  61  70   4\n",
       "2020-02-14  10  32  48  54  55  18\n",
       "2020-02-11   4   6  32  52  64   6\n",
       "2020-02-07   9  14  27  36  52   4\n",
       "2020-02-04  32  48  50  51  64  10\n",
       "2020-01-31  28  31  33  57  62  19\n",
       "2020-01-28  17  36  47  51  62  21"
      ]
     },
     "execution_count": 38,
     "metadata": {},
     "output_type": "execute_result"
    }
   ],
   "source": [
    "df.head(12)"
   ]
  },
  {
   "cell_type": "markdown",
   "metadata": {},
   "source": [
    "# Start Analysis"
   ]
  },
  {
   "cell_type": "code",
   "execution_count": 15,
   "metadata": {},
   "outputs": [],
   "source": [
    "%matplotlib inline\n",
    "import seaborn as sns\n",
    "import matplotlib.pyplot as plt"
   ]
  },
  {
   "cell_type": "code",
   "execution_count": 16,
   "metadata": {},
   "outputs": [
    {
     "data": {
      "text/plain": [
       "70"
      ]
     },
     "execution_count": 16,
     "metadata": {},
     "output_type": "execute_result"
    }
   ],
   "source": [
    "#Ranges\n",
    "rng0to999=[\"%.2d\" % i for i in range(1000)]\n",
    "rng1to70t=[\"%.2d\" % i for i in range(1 ,71)]\n",
    "rng1to25=[\"%.1d\" % i for i in range(26)]\n",
    "rng1to70=[i for i in range(1,71)]\n",
    "len(rng1to70)"
   ]
  },
  {
   "cell_type": "code",
   "execution_count": 17,
   "metadata": {},
   "outputs": [
    {
     "name": "stdout",
     "output_type": "stream",
     "text": [
      "Numbers picked more than once in period: 24 \n",
      "Sum of numbers picked more than once: 96\n",
      "List of numbers picked more than once Int64Index([ 3,  4,  8, 10, 11, 17, 12,  7,  9,  5,  6, 18, 16, 13, 15,  2, 14,\n",
      "             1, 19, 20, 22, 23, 24, 25],\n",
      "           dtype='int64')\n",
      "Count of numbers picked once in period: 8\n",
      "List of numbers picked once in period:\n",
      " 34    1\n",
      "27    1\n",
      "28    1\n",
      "29    1\n",
      "30    1\n",
      "32    1\n",
      "33    1\n",
      "37    1\n",
      "Name: D0, dtype: int64\n"
     ]
    },
    {
     "data": {
      "text/plain": [
       "count    32.000000\n",
       "mean      3.250000\n",
       "std       2.369157\n",
       "min       1.000000\n",
       "25%       1.750000\n",
       "50%       2.000000\n",
       "75%       5.000000\n",
       "max       9.000000\n",
       "Name: D0, dtype: float64"
      ]
     },
     "execution_count": 17,
     "metadata": {},
     "output_type": "execute_result"
    }
   ],
   "source": [
    "vcd0=df.D0.value_counts()\n",
    "#vcd0=df[:14].D0.value_counts()\n",
    "print('Numbers picked more than once in period:',len(vcd0[vcd0>1]), '\\nSum of numbers picked more than once:',(vcd0[vcd0>1]).sum())\n",
    "print('List of numbers picked more than once', vcd0[vcd0>1].index)\n",
    "print('Count of numbers picked once in period:',len(vcd0[vcd0==1]))\n",
    "print('List of numbers picked once in period:\\n',vcd0[vcd0==1])\n",
    "vcd0.describe()"
   ]
  },
  {
   "cell_type": "code",
   "execution_count": 18,
   "metadata": {},
   "outputs": [
    {
     "name": "stdout",
     "output_type": "stream",
     "text": [
      "Numbers picked more than once in period: 30 \n",
      "Sum of numbers picked more than once: 95\n",
      "List of numbers picked more than once\n",
      " Int64Index([24, 14, 20, 12,  9, 16, 17, 25, 27, 22, 30, 31,  4, 37, 11,  8,  6,\n",
      "            38, 18, 19, 21, 15, 29, 33, 34, 36, 40, 41, 43, 47],\n",
      "           dtype='int64')\n",
      "Count of numbers picked once in period: 9\n",
      "List of numbers picked once in period:\n",
      " 26    1\n",
      "58    1\n",
      "35    1\n",
      "42    1\n",
      "44    1\n",
      "48    1\n",
      "50    1\n",
      "53    1\n",
      "59    1\n",
      "Name: D1, dtype: int64\n"
     ]
    },
    {
     "data": {
      "text/plain": [
       "count    39.000000\n",
       "mean      2.666667\n",
       "std       1.561601\n",
       "min       1.000000\n",
       "25%       2.000000\n",
       "50%       2.000000\n",
       "75%       3.000000\n",
       "max       7.000000\n",
       "Name: D1, dtype: float64"
      ]
     },
     "execution_count": 18,
     "metadata": {},
     "output_type": "execute_result"
    }
   ],
   "source": [
    "vcd0=df.D1.value_counts()\n",
    "#vcd0=df[:14].D0.value_counts()\n",
    "print('Numbers picked more than once in period:',len(vcd0[vcd0>1]), '\\nSum of numbers picked more than once:',(vcd0[vcd0>1]).sum())\n",
    "print('List of numbers picked more than once\\n', vcd0[vcd0>1].index)\n",
    "print('Count of numbers picked once in period:',len(vcd0[vcd0==1]))\n",
    "print('List of numbers picked once in period:\\n',vcd0[vcd0==1])\n",
    "vcd0.describe()"
   ]
  },
  {
   "cell_type": "code",
   "execution_count": 19,
   "metadata": {},
   "outputs": [
    {
     "name": "stdout",
     "output_type": "stream",
     "text": [
      "Numbers picked more than once in period: 32 \n",
      "Sum of numbers picked more than once: 93\n",
      "List of numbers picked more than once Int64Index([34, 31, 44, 30, 23, 24, 40, 42, 29, 37, 28, 39, 27, 25, 47, 49, 22,\n",
      "            14, 26, 13, 32, 17, 11, 10, 53, 36, 58, 41, 56, 46, 48, 60],\n",
      "           dtype='int64')\n",
      "Count of numbers picked once in period: 11\n",
      "List of numbers picked once in period:\n",
      " 33    1\n",
      "55    1\n",
      "15    1\n",
      "16    1\n",
      "50    1\n",
      "18    1\n",
      "21    1\n",
      "45    1\n",
      "43    1\n",
      "38    1\n",
      "66    1\n",
      "Name: D2, dtype: int64\n"
     ]
    },
    {
     "data": {
      "text/plain": [
       "count    43.000000\n",
       "mean      2.418605\n",
       "std       1.257976\n",
       "min       1.000000\n",
       "25%       1.500000\n",
       "50%       2.000000\n",
       "75%       3.000000\n",
       "max       6.000000\n",
       "Name: D2, dtype: float64"
      ]
     },
     "execution_count": 19,
     "metadata": {},
     "output_type": "execute_result"
    }
   ],
   "source": [
    "vcd0=df.D2.value_counts()\n",
    "#vcd0=df[:14].D0.value_counts()\n",
    "print('Numbers picked more than once in period:',len(vcd0[vcd0>1]), '\\nSum of numbers picked more than once:',(vcd0[vcd0>1]).sum())\n",
    "print('List of numbers picked more than once', vcd0[vcd0>1].index)\n",
    "print('Count of numbers picked once in period:',len(vcd0[vcd0==1]))\n",
    "print('List of numbers picked once in period:\\n',vcd0[vcd0==1])\n",
    "vcd0.describe()"
   ]
  },
  {
   "cell_type": "code",
   "execution_count": 20,
   "metadata": {},
   "outputs": [
    {
     "name": "stdout",
     "output_type": "stream",
     "text": [
      "Numbers picked more than once in period: 30 \n",
      "Sum of numbers picked more than once: 93\n",
      "List of numbers picked more than once Int64Index([48, 43, 56, 51, 40, 54, 52, 42, 35, 34, 49, 50, 39, 53, 57, 59, 61,\n",
      "            62, 63, 38, 31, 33, 24, 37, 23, 67, 44, 47, 60, 65],\n",
      "           dtype='int64')\n",
      "Count of numbers picked once in period: 11\n",
      "List of numbers picked once in period:\n",
      " 41    1\n",
      "36    1\n",
      "66    1\n",
      "46    1\n",
      "32    1\n",
      "55    1\n",
      "30    1\n",
      "27    1\n",
      "26    1\n",
      "19    1\n",
      "17    1\n",
      "Name: D3, dtype: int64\n"
     ]
    },
    {
     "data": {
      "text/plain": [
       "count    41.000000\n",
       "mean      2.536585\n",
       "std       1.566805\n",
       "min       1.000000\n",
       "25%       1.000000\n",
       "50%       2.000000\n",
       "75%       3.000000\n",
       "max       9.000000\n",
       "Name: D3, dtype: float64"
      ]
     },
     "execution_count": 20,
     "metadata": {},
     "output_type": "execute_result"
    }
   ],
   "source": [
    "vcd0=df.D3.value_counts()\n",
    "#vcd0=df[:14].D0.value_counts()\n",
    "print('Numbers picked more than once in period:',len(vcd0[vcd0>1]), '\\nSum of numbers picked more than once:',(vcd0[vcd0>1]).sum())\n",
    "print('List of numbers picked more than once', vcd0[vcd0>1].index)\n",
    "print('Count of numbers picked once in period:',len(vcd0[vcd0==1]))\n",
    "print('List of numbers picked once in period:\\n',vcd0[vcd0==1])\n",
    "vcd0.describe()"
   ]
  },
  {
   "cell_type": "code",
   "execution_count": 21,
   "metadata": {},
   "outputs": [
    {
     "name": "stdout",
     "output_type": "stream",
     "text": [
      "Numbers picked more than once in period: 24 \n",
      "Sum of numbers picked more than once: 97\n",
      "List of numbers picked more than once Int64Index([68, 62, 64, 63, 70, 65, 66, 60, 56, 58, 55, 67, 48, 46, 57, 54, 52,\n",
      "            61, 38, 39, 43, 45, 59, 53],\n",
      "           dtype='int64')\n",
      "Count of numbers picked once in period: 7\n",
      "List of numbers picked once in period:\n",
      " 47    1\n",
      "50    1\n",
      "51    1\n",
      "69    1\n",
      "37    1\n",
      "31    1\n",
      "25    1\n",
      "Name: D4, dtype: int64\n"
     ]
    },
    {
     "data": {
      "text/plain": [
       "count    31.000000\n",
       "mean      3.354839\n",
       "std       2.153267\n",
       "min       1.000000\n",
       "25%       2.000000\n",
       "50%       3.000000\n",
       "75%       4.000000\n",
       "max       8.000000\n",
       "Name: D4, dtype: float64"
      ]
     },
     "execution_count": 21,
     "metadata": {},
     "output_type": "execute_result"
    }
   ],
   "source": [
    "vcd0=df.D4.value_counts()\n",
    "#vcd0=df[:14].D0.value_counts()\n",
    "print('Numbers picked more than once in period:',len(vcd0[vcd0>1]), '\\nSum of numbers picked more than once:',(vcd0[vcd0>1]).sum())\n",
    "print('List of numbers picked more than once', vcd0[vcd0>1].index)\n",
    "print('Count of numbers picked once in period:',len(vcd0[vcd0==1]))\n",
    "print('List of numbers picked once in period:\\n',vcd0[vcd0==1])\n",
    "vcd0.describe()"
   ]
  },
  {
   "cell_type": "code",
   "execution_count": 22,
   "metadata": {},
   "outputs": [
    {
     "name": "stdout",
     "output_type": "stream",
     "text": [
      "Numbers picked more than the mean in period: 10 \n",
      "Sum of numbers picked more than once: 104\n",
      "List of numbers picked more than once Int64Index([10, 21, 11, 4, 20, 19, 6, 9, 24, 22], dtype='int64')\n",
      "\n",
      "Count of numbers picked less than the mean in period: 15\n",
      "List of numbers picked once in period:\n",
      " Series([], Name: PB, dtype: int64)\n"
     ]
    },
    {
     "data": {
      "text/plain": [
       "count    25.000000\n",
       "mean      4.160000\n",
       "std       1.885913\n",
       "min       2.000000\n",
       "25%       3.000000\n",
       "50%       4.000000\n",
       "75%       6.000000\n",
       "max       8.000000\n",
       "Name: PB, dtype: float64"
      ]
     },
     "execution_count": 22,
     "metadata": {},
     "output_type": "execute_result"
    }
   ],
   "source": [
    "vcd0=df.PB.value_counts()\n",
    "#vcd0=df[:14].D0.value_counts()\n",
    "print('Numbers picked more than the mean in period:',len(vcd0[vcd0>vcd0.mean()]), '\\nSum of numbers picked more than once:',(vcd0[vcd0>1]).sum())\n",
    "print('List of numbers picked more than once', vcd0[vcd0>vcd0.mean()].index)\n",
    "print('\\nCount of numbers picked less than the mean in period:',len(vcd0[vcd0<vcd0.mean()]))\n",
    "print('List of numbers picked once in period:\\n',vcd0[vcd0<1])\n",
    "vcd0.describe()"
   ]
  },
  {
   "cell_type": "code",
   "execution_count": 23,
   "metadata": {
    "scrolled": true
   },
   "outputs": [
    {
     "data": {
      "text/plain": [
       "3     9\n",
       "4     8\n",
       "8     7\n",
       "10    7\n",
       "11    7\n",
       "17    6\n",
       "12    5\n",
       "7     5\n",
       "9     5\n",
       "5     4\n",
       "6     4\n",
       "18    4\n",
       "16    3\n",
       "13    2\n",
       "15    2\n",
       "2     2\n",
       "14    2\n",
       "1     2\n",
       "19    2\n",
       "20    2\n",
       "22    2\n",
       "23    2\n",
       "24    2\n",
       "25    2\n",
       "34    1\n",
       "27    1\n",
       "28    1\n",
       "29    1\n",
       "30    1\n",
       "32    1\n",
       "33    1\n",
       "37    1\n",
       "Name: D0, dtype: int64"
      ]
     },
     "execution_count": 23,
     "metadata": {},
     "output_type": "execute_result"
    }
   ],
   "source": [
    "df.D0.value_counts()"
   ]
  },
  {
   "cell_type": "code",
   "execution_count": 24,
   "metadata": {
    "scrolled": true
   },
   "outputs": [
    {
     "data": {
      "text/plain": [
       "24    7\n",
       "14    7\n",
       "20    6\n",
       "12    5\n",
       "9     4\n",
       "16    4\n",
       "17    4\n",
       "25    4\n",
       "27    3\n",
       "22    3\n",
       "30    3\n",
       "31    3\n",
       "4     3\n",
       "37    3\n",
       "11    3\n",
       "8     3\n",
       "6     3\n",
       "38    3\n",
       "18    2\n",
       "19    2\n",
       "21    2\n",
       "15    2\n",
       "29    2\n",
       "33    2\n",
       "34    2\n",
       "36    2\n",
       "40    2\n",
       "41    2\n",
       "43    2\n",
       "47    2\n",
       "26    1\n",
       "58    1\n",
       "35    1\n",
       "42    1\n",
       "44    1\n",
       "48    1\n",
       "50    1\n",
       "53    1\n",
       "59    1\n",
       "Name: D1, dtype: int64"
      ]
     },
     "execution_count": 24,
     "metadata": {},
     "output_type": "execute_result"
    }
   ],
   "source": [
    "df.D1.value_counts()"
   ]
  },
  {
   "cell_type": "code",
   "execution_count": 17,
   "metadata": {},
   "outputs": [
    {
     "name": "stdout",
     "output_type": "stream",
     "text": [
      "These are the numbers that have been picked Oct-Nov 2019\n",
      "count of num: 31\n",
      "Int64Index([63, 53, 56, 17, 30, 37, 54, 55, 66,  3, 60, 18, 20, 21, 22, 23, 27,\n",
      "            29, 31, 49, 34, 35, 61, 39, 40, 41, 42, 44, 46, 48, 64],\n",
      "           dtype='int64')\n",
      "39\n",
      "{1, 2, 4, 5, 6, 7, 8, 9, 10, 11, 12, 13, 14, 15, 16, 19, 24, 25, 26, 28, 32, 33, 36, 38, 43, 45, 47, 50, 51, 52, 57, 58, 59, 62, 65, 67, 68, 69, 70}\n"
     ]
    }
   ],
   "source": [
    "print(\"These are the numbers that have been picked Oct-Nov 2019\")\n",
    "vcMG=df[1:9][['D0', 'D1', 'D2', 'D3', 'D4']].stack().value_counts()\n",
    "#print(len(vcMG[vcMG>vcMG.mean()]))\n",
    "print('count of num:',len(vcMG.index))\n",
    "print(vcMG.index)\n",
    "np=set(rng1to70).difference(vcMG.index)\n",
    "print(len(np))\n",
    "print(np)"
   ]
  },
  {
   "cell_type": "markdown",
   "metadata": {},
   "source": [
    "### Current data Analysis"
   ]
  },
  {
   "cell_type": "code",
   "execution_count": 19,
   "metadata": {},
   "outputs": [
    {
     "name": "stdout",
     "output_type": "stream",
     "text": [
      "These are the numbers that have been picked Oct-Nov 2019\n",
      "Int64Index([], dtype='int64')\n",
      "70\n",
      "{1, 2, 3, 4, 5, 6, 7, 8, 9, 10, 11, 12, 13, 14, 15, 16, 17, 18, 19, 20, 21, 22, 23, 24, 25, 26, 27, 28, 29, 30, 31, 32, 33, 34, 35, 36, 37, 38, 39, 40, 41, 42, 43, 44, 45, 46, 47, 48, 49, 50, 51, 52, 53, 54, 55, 56, 57, 58, 59, 60, 61, 62, 63, 64, 65, 66, 67, 68, 69, 70}\n"
     ]
    }
   ],
   "source": [
    "print(\"These are the numbers that have been picked Oct-Nov 2019\")\n",
    "vcMG=df['2018-10':'2018-11'][['D0', 'D1', 'D2', 'D3', 'D4']].stack().value_counts()\n",
    "#print(len(vcMG[vcMG>vcMG.mean()]))\n",
    "print(vcMG.index)\n",
    "np=set(rng1to70).difference(vcMG.index)\n",
    "print(len(np))\n",
    "print(np)"
   ]
  },
  {
   "cell_type": "markdown",
   "metadata": {},
   "source": [
    "df['2018'][['D0', 'D1', 'D2', 'D3', 'D4']].stack().value_counts(normalize=True)"
   ]
  },
  {
   "cell_type": "code",
   "execution_count": 25,
   "metadata": {},
   "outputs": [],
   "source": [
    "vcD0=df.D0.value_counts()#Plot Customizations\n",
    "sns.set() # matplotlib defaults\n",
    "\n",
    "plt.rcParams['figure.figsize'] = (12,3)\n",
    "%config InlineBackend.figure_format='retina'"
   ]
  },
  {
   "cell_type": "code",
   "execution_count": 26,
   "metadata": {},
   "outputs": [
    {
     "data": {
      "text/plain": [
       "<matplotlib.axes._subplots.AxesSubplot at 0x7f72534bef60>"
      ]
     },
     "execution_count": 26,
     "metadata": {},
     "output_type": "execute_result"
    },
    {
     "data": {
      "image/png": "[encoded data removed]",
      "text/plain": [
       "<Figure size 864x216 with 1 Axes>"
      ]
     },
     "metadata": {
      "image/png": {
       "height": 205,
       "width": 721
      }
     },
     "output_type": "display_data"
    }
   ],
   "source": [
    "vcD1=df.D1.value_counts(normalize=True)\n",
    "vcD1[vcD1>vcD1.mean()].plot(kind='bar')"
   ]
  },
  {
   "cell_type": "code",
   "execution_count": 28,
   "metadata": {},
   "outputs": [],
   "source": [
    "#Combine ShiftUp and ShiftUpDiff columns\n",
    "df['DN0']=df.D0.astype(str) + '_'+df.S_Up0.astype(str)\n",
    "#df['DN0']=df['DN0'].str[:2]"
   ]
  },
  {
   "cell_type": "code",
   "execution_count": 29,
   "metadata": {},
   "outputs": [],
   "source": [
    "#Combine ShiftUp and ShiftUpDiff columns\n",
    "df['DN1']=df.D1.astype(str) + '_'+df.S_Up1.astype(str)\n",
    "#df['DN1']=df['DN1'].str[:2]"
   ]
  },
  {
   "cell_type": "code",
   "execution_count": 30,
   "metadata": {},
   "outputs": [],
   "source": [
    "#Combine ShiftUp and ShiftUpDiff columns\n",
    "df['DN2']=df.D2.astype(str) + '_'+df.S_Up2.astype(str)\n",
    "#df['DN2']=df['DN2'].str[:2]"
   ]
  },
  {
   "cell_type": "code",
   "execution_count": 31,
   "metadata": {},
   "outputs": [],
   "source": [
    "#Combine ShiftUp and ShiftUpDiff columns\n",
    "df['DN3']=df.D3.astype(str) + '_'+df.S_Up3.astype(str)\n",
    "#df['DN3']=df['DN3'].str[:2]"
   ]
  },
  {
   "cell_type": "code",
   "execution_count": 32,
   "metadata": {},
   "outputs": [],
   "source": [
    "#Combine ShiftUp and ShiftUpDiff columns\n",
    "df['DN4']=df.D4.astype(str) + '_'+df.S_Up4.astype(str)\n",
    "#df['DN4']=df['DN4'].str[:2]"
   ]
  },
  {
   "cell_type": "code",
   "execution_count": 33,
   "metadata": {},
   "outputs": [],
   "source": [
    "#Combine ShiftUp and ShiftUpDiff columns\n",
    "df['DNPB']=df.PB.astype(str) + '_'+df.S_PB.astype(str)\n",
    "#df['DN0']=df['DN0'].str[:2]"
   ]
  },
  {
   "cell_type": "code",
   "execution_count": 34,
   "metadata": {},
   "outputs": [
    {
     "data": {
      "text/plain": [
       "33"
      ]
     },
     "execution_count": 34,
     "metadata": {},
     "output_type": "execute_result"
    }
   ],
   "source": [
    "vcMG=df[['D0', 'D1', 'D2', 'D3', 'D4']].stack().value_counts()\n",
    "len(vcMG[vcMG>vcMG.mean()])"
   ]
  },
  {
   "cell_type": "code",
   "execution_count": 35,
   "metadata": {},
   "outputs": [
    {
     "data": {
      "text/html": [
       "<div>\n",
       "<style scoped>\n",
       "    .dataframe tbody tr th:only-of-type {\n",
       "        vertical-align: middle;\n",
       "    }\n",
       "\n",
       "    .dataframe tbody tr th {\n",
       "        vertical-align: top;\n",
       "    }\n",
       "\n",
       "    .dataframe thead th {\n",
       "        text-align: right;\n",
       "    }\n",
       "</style>\n",
       "<table border=\"1\" class=\"dataframe\">\n",
       "  <thead>\n",
       "    <tr style=\"text-align: right;\">\n",
       "      <th></th>\n",
       "      <th>D0</th>\n",
       "      <th>D1</th>\n",
       "      <th>D2</th>\n",
       "      <th>D3</th>\n",
       "      <th>D4</th>\n",
       "      <th>PB</th>\n",
       "      <th>S_Up0</th>\n",
       "      <th>S_Up1</th>\n",
       "      <th>S_Up2</th>\n",
       "      <th>S_Up3</th>\n",
       "      <th>S_Up4</th>\n",
       "      <th>S_PB</th>\n",
       "      <th>DN0</th>\n",
       "      <th>DN1</th>\n",
       "      <th>DN2</th>\n",
       "      <th>DN3</th>\n",
       "      <th>DN4</th>\n",
       "      <th>DNPB</th>\n",
       "    </tr>\n",
       "  </thead>\n",
       "  <tbody>\n",
       "    <tr>\n",
       "      <th>2018-11-13</th>\n",
       "      <td>34</td>\n",
       "      <td>46</td>\n",
       "      <td>57</td>\n",
       "      <td>65</td>\n",
       "      <td>69</td>\n",
       "      <td>11</td>\n",
       "      <td>33</td>\n",
       "      <td>36</td>\n",
       "      <td>63</td>\n",
       "      <td>68</td>\n",
       "      <td>69</td>\n",
       "      <td>16</td>\n",
       "      <td>34_33</td>\n",
       "      <td>46_36</td>\n",
       "      <td>57_63</td>\n",
       "      <td>65_68</td>\n",
       "      <td>69_69</td>\n",
       "      <td>11_16</td>\n",
       "    </tr>\n",
       "    <tr>\n",
       "      <th>2018-11-16</th>\n",
       "      <td>33</td>\n",
       "      <td>36</td>\n",
       "      <td>63</td>\n",
       "      <td>68</td>\n",
       "      <td>69</td>\n",
       "      <td>16</td>\n",
       "      <td>10</td>\n",
       "      <td>16</td>\n",
       "      <td>31</td>\n",
       "      <td>42</td>\n",
       "      <td>66</td>\n",
       "      <td>10</td>\n",
       "      <td>33_10</td>\n",
       "      <td>36_16</td>\n",
       "      <td>63_31</td>\n",
       "      <td>68_42</td>\n",
       "      <td>69_66</td>\n",
       "      <td>16_10</td>\n",
       "    </tr>\n",
       "    <tr>\n",
       "      <th>2018-11-20</th>\n",
       "      <td>10</td>\n",
       "      <td>16</td>\n",
       "      <td>31</td>\n",
       "      <td>42</td>\n",
       "      <td>66</td>\n",
       "      <td>10</td>\n",
       "      <td>7</td>\n",
       "      <td>10</td>\n",
       "      <td>30</td>\n",
       "      <td>33</td>\n",
       "      <td>59</td>\n",
       "      <td>23</td>\n",
       "      <td>10_7</td>\n",
       "      <td>16_10</td>\n",
       "      <td>31_30</td>\n",
       "      <td>42_33</td>\n",
       "      <td>66_59</td>\n",
       "      <td>10_23</td>\n",
       "    </tr>\n",
       "    <tr>\n",
       "      <th>2018-11-23</th>\n",
       "      <td>7</td>\n",
       "      <td>10</td>\n",
       "      <td>30</td>\n",
       "      <td>33</td>\n",
       "      <td>59</td>\n",
       "      <td>23</td>\n",
       "      <td>12</td>\n",
       "      <td>24</td>\n",
       "      <td>37</td>\n",
       "      <td>42</td>\n",
       "      <td>57</td>\n",
       "      <td>18</td>\n",
       "      <td>7_12</td>\n",
       "      <td>10_24</td>\n",
       "      <td>30_37</td>\n",
       "      <td>33_42</td>\n",
       "      <td>59_57</td>\n",
       "      <td>23_18</td>\n",
       "    </tr>\n",
       "    <tr>\n",
       "      <th>2018-11-27</th>\n",
       "      <td>12</td>\n",
       "      <td>24</td>\n",
       "      <td>37</td>\n",
       "      <td>42</td>\n",
       "      <td>57</td>\n",
       "      <td>18</td>\n",
       "      <td>0</td>\n",
       "      <td>0</td>\n",
       "      <td>2</td>\n",
       "      <td>3</td>\n",
       "      <td>4</td>\n",
       "      <td>0</td>\n",
       "      <td>12_0</td>\n",
       "      <td>24_0</td>\n",
       "      <td>37_2</td>\n",
       "      <td>42_3</td>\n",
       "      <td>57_4</td>\n",
       "      <td>18_0</td>\n",
       "    </tr>\n",
       "  </tbody>\n",
       "</table>\n",
       "</div>"
      ],
      "text/plain": [
       "            D0  D1  D2  D3  D4  PB  S_Up0  S_Up1  S_Up2  S_Up3  S_Up4  S_PB  \\\n",
       "2018-11-13  34  46  57  65  69  11     33     36     63     68     69    16   \n",
       "2018-11-16  33  36  63  68  69  16     10     16     31     42     66    10   \n",
       "2018-11-20  10  16  31  42  66  10      7     10     30     33     59    23   \n",
       "2018-11-23   7  10  30  33  59  23     12     24     37     42     57    18   \n",
       "2018-11-27  12  24  37  42  57  18      0      0      2      3      4     0   \n",
       "\n",
       "              DN0    DN1    DN2    DN3    DN4   DNPB  \n",
       "2018-11-13  34_33  46_36  57_63  65_68  69_69  11_16  \n",
       "2018-11-16  33_10  36_16  63_31  68_42  69_66  16_10  \n",
       "2018-11-20   10_7  16_10  31_30  42_33  66_59  10_23  \n",
       "2018-11-23   7_12  10_24  30_37  33_42  59_57  23_18  \n",
       "2018-11-27   12_0   24_0   37_2   42_3   57_4   18_0  "
      ]
     },
     "execution_count": 35,
     "metadata": {},
     "output_type": "execute_result"
    }
   ],
   "source": [
    "df.tail()"
   ]
  },
  {
   "cell_type": "code",
   "execution_count": 36,
   "metadata": {},
   "outputs": [
    {
     "data": {
      "text/plain": [
       "23    7\n",
       "9     7\n",
       "1     6\n",
       "11    6\n",
       "22    6\n",
       "20    6\n",
       "2     5\n",
       "17    5\n",
       "16    5\n",
       "14    5\n",
       "10    5\n",
       "5     4\n",
       "7     4\n",
       "13    4\n",
       "12    4\n",
       "24    3\n",
       "8     3\n",
       "18    3\n",
       "19    3\n",
       "4     3\n",
       "3     3\n",
       "25    3\n",
       "6     2\n",
       "21    2\n",
       "15    1\n",
       "Name: PB, dtype: int64"
      ]
     },
     "execution_count": 36,
     "metadata": {},
     "output_type": "execute_result"
    }
   ],
   "source": [
    "mg0=df['PB'].value_counts()\n",
    "mg0[mg0>mg0.mean()]\n",
    "mg0"
   ]
  },
  {
   "cell_type": "code",
   "execution_count": 37,
   "metadata": {},
   "outputs": [
    {
     "data": {
      "text/plain": [
       "11_17    2\n",
       "17_22    2\n",
       "4_17     2\n",
       "Name: DN1, dtype: int64"
      ]
     },
     "execution_count": 37,
     "metadata": {},
     "output_type": "execute_result"
    }
   ],
   "source": [
    "mg1=df['DN1'].value_counts().sort_index()\n",
    "mg1[mg1>mg1.mean()]\n"
   ]
  },
  {
   "cell_type": "code",
   "execution_count": 38,
   "metadata": {},
   "outputs": [
    {
     "data": {
      "text/plain": [
       "1     6\n",
       "2     5\n",
       "9     7\n",
       "10    5\n",
       "11    6\n",
       "14    5\n",
       "16    5\n",
       "17    5\n",
       "20    6\n",
       "22    6\n",
       "23    7\n",
       "Name: PB, dtype: int64"
      ]
     },
     "execution_count": 38,
     "metadata": {},
     "output_type": "execute_result"
    }
   ],
   "source": [
    "vcPB=df.PB.value_counts().sort_index()\n",
    "vcPBMn=vcPB.mean()\n",
    "vcPB[vcPB>vcPBMn]"
   ]
  },
  {
   "cell_type": "code",
   "execution_count": 39,
   "metadata": {},
   "outputs": [
    {
     "ename": "KeyError",
     "evalue": "\"['Digit0' 'Digit1' 'Digit2' 'Digit3' 'Digit4'] not in index\"",
     "output_type": "error",
     "traceback": [
      "\u001b[0;31m---------------------------------------------------------------------------\u001b[0m",
      "\u001b[0;31mKeyError\u001b[0m                                  Traceback (most recent call last)",
      "\u001b[0;32m<ipython-input-39-14c356ad1eab>\u001b[0m in \u001b[0;36m<module>\u001b[0;34m()\u001b[0m\n\u001b[0;32m----> 1\u001b[0;31m \u001b[0mpicked09\u001b[0m\u001b[0;34m=\u001b[0m\u001b[0mdf\u001b[0m\u001b[0;34m[\u001b[0m\u001b[0;34m:\u001b[0m\u001b[0;36m14\u001b[0m\u001b[0;34m]\u001b[0m\u001b[0;34m[\u001b[0m\u001b[0;34m[\u001b[0m\u001b[0;34m'Digit0'\u001b[0m\u001b[0;34m,\u001b[0m \u001b[0;34m'Digit1'\u001b[0m\u001b[0;34m,\u001b[0m \u001b[0;34m'Digit2'\u001b[0m\u001b[0;34m,\u001b[0m \u001b[0;34m'Digit3'\u001b[0m\u001b[0;34m,\u001b[0m \u001b[0;34m'Digit4'\u001b[0m\u001b[0;34m]\u001b[0m\u001b[0;34m]\u001b[0m\u001b[0;34m.\u001b[0m\u001b[0mstack\u001b[0m\u001b[0;34m(\u001b[0m\u001b[0;34m)\u001b[0m\u001b[0;34m.\u001b[0m\u001b[0mvalue_counts\u001b[0m\u001b[0;34m(\u001b[0m\u001b[0;34m)\u001b[0m\u001b[0;34m\u001b[0m\u001b[0m\n\u001b[0m\u001b[1;32m      2\u001b[0m \u001b[0mvcMn\u001b[0m\u001b[0;34m=\u001b[0m\u001b[0mpicked09\u001b[0m\u001b[0;34m.\u001b[0m\u001b[0mmean\u001b[0m\u001b[0;34m(\u001b[0m\u001b[0;34m)\u001b[0m\u001b[0;34m\u001b[0m\u001b[0m\n\u001b[1;32m      3\u001b[0m \u001b[0;31m#picked[picked> vcMn]\u001b[0m\u001b[0;34m\u001b[0m\u001b[0;34m\u001b[0m\u001b[0m\n\u001b[1;32m      4\u001b[0m \u001b[0mprint\u001b[0m\u001b[0;34m(\u001b[0m\u001b[0;34m\"Count of numbers picked in 14 days\"\u001b[0m\u001b[0;34m,\u001b[0m \u001b[0mlen\u001b[0m\u001b[0;34m(\u001b[0m\u001b[0mpicked09\u001b[0m\u001b[0;34m)\u001b[0m\u001b[0;34m)\u001b[0m\u001b[0;34m\u001b[0m\u001b[0m\n\u001b[1;32m      5\u001b[0m \u001b[0;31m#print(picked[picked> vcMn])\u001b[0m\u001b[0;34m\u001b[0m\u001b[0;34m\u001b[0m\u001b[0m\n",
      "\u001b[0;32m~/anaconda3/lib/python3.6/site-packages/pandas/core/frame.py\u001b[0m in \u001b[0;36m__getitem__\u001b[0;34m(self, key)\u001b[0m\n\u001b[1;32m   2677\u001b[0m         \u001b[0;32mif\u001b[0m \u001b[0misinstance\u001b[0m\u001b[0;34m(\u001b[0m\u001b[0mkey\u001b[0m\u001b[0;34m,\u001b[0m \u001b[0;34m(\u001b[0m\u001b[0mSeries\u001b[0m\u001b[0;34m,\u001b[0m \u001b[0mnp\u001b[0m\u001b[0;34m.\u001b[0m\u001b[0mndarray\u001b[0m\u001b[0;34m,\u001b[0m \u001b[0mIndex\u001b[0m\u001b[0;34m,\u001b[0m \u001b[0mlist\u001b[0m\u001b[0;34m)\u001b[0m\u001b[0;34m)\u001b[0m\u001b[0;34m:\u001b[0m\u001b[0;34m\u001b[0m\u001b[0m\n\u001b[1;32m   2678\u001b[0m             \u001b[0;31m# either boolean or fancy integer index\u001b[0m\u001b[0;34m\u001b[0m\u001b[0;34m\u001b[0m\u001b[0m\n\u001b[0;32m-> 2679\u001b[0;31m             \u001b[0;32mreturn\u001b[0m \u001b[0mself\u001b[0m\u001b[0;34m.\u001b[0m\u001b[0m_getitem_array\u001b[0m\u001b[0;34m(\u001b[0m\u001b[0mkey\u001b[0m\u001b[0;34m)\u001b[0m\u001b[0;34m\u001b[0m\u001b[0m\n\u001b[0m\u001b[1;32m   2680\u001b[0m         \u001b[0;32melif\u001b[0m \u001b[0misinstance\u001b[0m\u001b[0;34m(\u001b[0m\u001b[0mkey\u001b[0m\u001b[0;34m,\u001b[0m \u001b[0mDataFrame\u001b[0m\u001b[0;34m)\u001b[0m\u001b[0;34m:\u001b[0m\u001b[0;34m\u001b[0m\u001b[0m\n\u001b[1;32m   2681\u001b[0m             \u001b[0;32mreturn\u001b[0m \u001b[0mself\u001b[0m\u001b[0;34m.\u001b[0m\u001b[0m_getitem_frame\u001b[0m\u001b[0;34m(\u001b[0m\u001b[0mkey\u001b[0m\u001b[0;34m)\u001b[0m\u001b[0;34m\u001b[0m\u001b[0m\n",
      "\u001b[0;32m~/anaconda3/lib/python3.6/site-packages/pandas/core/frame.py\u001b[0m in \u001b[0;36m_getitem_array\u001b[0;34m(self, key)\u001b[0m\n\u001b[1;32m   2721\u001b[0m             \u001b[0;32mreturn\u001b[0m \u001b[0mself\u001b[0m\u001b[0;34m.\u001b[0m\u001b[0m_take\u001b[0m\u001b[0;34m(\u001b[0m\u001b[0mindexer\u001b[0m\u001b[0;34m,\u001b[0m \u001b[0maxis\u001b[0m\u001b[0;34m=\u001b[0m\u001b[0;36m0\u001b[0m\u001b[0;34m)\u001b[0m\u001b[0;34m\u001b[0m\u001b[0m\n\u001b[1;32m   2722\u001b[0m         \u001b[0;32melse\u001b[0m\u001b[0;34m:\u001b[0m\u001b[0;34m\u001b[0m\u001b[0m\n\u001b[0;32m-> 2723\u001b[0;31m             \u001b[0mindexer\u001b[0m \u001b[0;34m=\u001b[0m \u001b[0mself\u001b[0m\u001b[0;34m.\u001b[0m\u001b[0mloc\u001b[0m\u001b[0;34m.\u001b[0m\u001b[0m_convert_to_indexer\u001b[0m\u001b[0;34m(\u001b[0m\u001b[0mkey\u001b[0m\u001b[0;34m,\u001b[0m \u001b[0maxis\u001b[0m\u001b[0;34m=\u001b[0m\u001b[0;36m1\u001b[0m\u001b[0;34m)\u001b[0m\u001b[0;34m\u001b[0m\u001b[0m\n\u001b[0m\u001b[1;32m   2724\u001b[0m             \u001b[0;32mreturn\u001b[0m \u001b[0mself\u001b[0m\u001b[0;34m.\u001b[0m\u001b[0m_take\u001b[0m\u001b[0;34m(\u001b[0m\u001b[0mindexer\u001b[0m\u001b[0;34m,\u001b[0m \u001b[0maxis\u001b[0m\u001b[0;34m=\u001b[0m\u001b[0;36m1\u001b[0m\u001b[0;34m)\u001b[0m\u001b[0;34m\u001b[0m\u001b[0m\n\u001b[1;32m   2725\u001b[0m \u001b[0;34m\u001b[0m\u001b[0m\n",
      "\u001b[0;32m~/anaconda3/lib/python3.6/site-packages/pandas/core/indexing.py\u001b[0m in \u001b[0;36m_convert_to_indexer\u001b[0;34m(self, obj, axis, is_setter)\u001b[0m\n\u001b[1;32m   1325\u001b[0m                 \u001b[0;32mif\u001b[0m \u001b[0mmask\u001b[0m\u001b[0;34m.\u001b[0m\u001b[0many\u001b[0m\u001b[0;34m(\u001b[0m\u001b[0;34m)\u001b[0m\u001b[0;34m:\u001b[0m\u001b[0;34m\u001b[0m\u001b[0m\n\u001b[1;32m   1326\u001b[0m                     raise KeyError('{mask} not in index'\n\u001b[0;32m-> 1327\u001b[0;31m                                    .format(mask=objarr[mask]))\n\u001b[0m\u001b[1;32m   1328\u001b[0m \u001b[0;34m\u001b[0m\u001b[0m\n\u001b[1;32m   1329\u001b[0m                 \u001b[0;32mreturn\u001b[0m \u001b[0mcom\u001b[0m\u001b[0;34m.\u001b[0m\u001b[0m_values_from_object\u001b[0m\u001b[0;34m(\u001b[0m\u001b[0mindexer\u001b[0m\u001b[0;34m)\u001b[0m\u001b[0;34m\u001b[0m\u001b[0m\n",
      "\u001b[0;31mKeyError\u001b[0m: \"['Digit0' 'Digit1' 'Digit2' 'Digit3' 'Digit4'] not in index\""
     ]
    }
   ],
   "source": [
    "picked09=df[:14][['Digit0', 'Digit1', 'Digit2', 'Digit3', 'Digit4']].stack().value_counts()\n",
    "vcMn=picked09.mean()\n",
    "#picked[picked> vcMn]\n",
    "print(\"Count of numbers picked in 14 days\", len(picked09))\n",
    "#print(picked[picked> vcMn])\n",
    "print(picked09)"
   ]
  },
  {
   "cell_type": "code",
   "execution_count": null,
   "metadata": {},
   "outputs": [],
   "source": [
    "vcD0=df.Digit0.value_counts()#.plot(kind='bar')\n",
    "vcD0Mn=vcD0.mean()\n",
    "vcD0[vcD0>=vcD0Mn+2].plot(kind='bar')"
   ]
  },
  {
   "cell_type": "code",
   "execution_count": null,
   "metadata": {},
   "outputs": [],
   "source": [
    "vcD1=df.Digit1.value_counts()#.plot(kind='bar')\n",
    "vcD1Mn=vcD1.mean()\n",
    "vcD1[vcD1>=vcD1Mn+2].plot(kind='bar')"
   ]
  },
  {
   "cell_type": "code",
   "execution_count": null,
   "metadata": {},
   "outputs": [],
   "source": [
    "vcD2=df.Digit2.value_counts()#.plot(kind='bar')\n",
    "vcD2Mn=vcD2.mean()\n",
    "vcD2[vcD2>=vcD2Mn+1].plot(kind='bar')"
   ]
  },
  {
   "cell_type": "code",
   "execution_count": null,
   "metadata": {},
   "outputs": [],
   "source": [
    "vcD3=df.Digit3.value_counts()#.plot(kind='bar')\n",
    "vcD3Mn=vcD3.mean()\n",
    "vcD3[vcD3>=vcD3Mn+1].plot(kind='bar')"
   ]
  },
  {
   "cell_type": "code",
   "execution_count": null,
   "metadata": {},
   "outputs": [],
   "source": [
    "picked11=df['2018-11'][['Digit0', 'Digit1', 'Digit2', 'Digit3', 'Digit4']].stack().value_counts().sort_index()\n",
    "vcMn11=picked11.mean()\n",
    "#picked[picked> vcMn]\n",
    "print(\"Count of numbers picked in 14 days\", len(picked11))\n",
    "#print(picked[picked> vcMn])\n",
    "print(picked11)"
   ]
  },
  {
   "cell_type": "code",
   "execution_count": null,
   "metadata": {},
   "outputs": [],
   "source": [
    "picked10=df['2018-10'][['Digit0', 'Digit1', 'Digit2', 'Digit3', 'Digit4']].stack().value_counts().sort_index()\n",
    "vcMn=picked10.mean()\n",
    "#picked[picked> vcMn]\n",
    "print(\"Count of numbers picked in 14 days\", len(picked10))\n",
    "#print(picked[picked> vcMn])\n",
    "print(picked10)"
   ]
  },
  {
   "cell_type": "code",
   "execution_count": null,
   "metadata": {},
   "outputs": [],
   "source": [
    "SD9_10 = set(picked10.index).symmetric_difference(picked09.index)\n",
    "#Notpicked = set(picked10.index).intersection(picked09.index)\n",
    "\n",
    "\n",
    "set(SD9_10).symmetric_difference(picked11.index)"
   ]
  },
  {
   "cell_type": "code",
   "execution_count": null,
   "metadata": {},
   "outputs": [],
   "source": [
    "#Percentage of First2 numbers picked and not picked in a 100 day interval\n",
    "#import matplotlib.pyplot as plt\n",
    "\n",
    "# Pie chart, where the slices will be ordered and plotted counter-clockwise:\n",
    "labels = 'Numbers Not Picked', 'Numbers picked'\n",
    "sizes = [len(Notpicked),len(picked)]\n",
    "explode = (0, 0.1)  # only \"explode\" the 2nd slice (i.e. 'Hogs')\n",
    "fig1, ax1 = plt.subplots()\n",
    "ax1.pie(sizes, explode=explode, labels=labels, autopct='%1.1f%%',\n",
    "        shadow=True, startangle=90)\n",
    "ax1.axis('equal')  # Equal aspect ratio ensures that pie is drawn as a circle.\n",
    "plt.show()"
   ]
  },
  {
   "cell_type": "code",
   "execution_count": null,
   "metadata": {},
   "outputs": [],
   "source": [
    "NumPkMoreThanOnce = picked[picked>1]\n",
    "#NumPkOnce=df18[:100]['First2'].value_counts()\n",
    "NumPkOnce = picked[picked==1]"
   ]
  },
  {
   "cell_type": "code",
   "execution_count": null,
   "metadata": {},
   "outputs": [],
   "source": [
    "#Percentage of First2 numbers picked more or less than once in a 100 day interval\n",
    "import matplotlib.pyplot as plt\n",
    "\n",
    "# Pie chart, where the slices will be ordered and plotted counter-clockwise:\n",
    "labels = 'NumPkMoreThanOnce', 'NumPkOnce'\n",
    "sizes = [len(NumPkMoreThanOnce),len(NumPkOnce)]\n",
    "explode = (0, 0.1)  # only \"explode\" the 2nd slice (i.e. 'Hogs')\n",
    "fig1, ax1 = plt.subplots()\n",
    "ax1.pie(sizes, explode=explode, labels=labels, autopct='%1.1f%%',\n",
    "        shadow=True, startangle=90)\n",
    "ax1.axis('equal')  # Equal aspect ratio ensures that pie is drawn as a circle.\n",
    "plt.show()"
   ]
  },
  {
   "cell_type": "code",
   "execution_count": null,
   "metadata": {},
   "outputs": [],
   "source": [
    "test=df.stack()"
   ]
  },
  {
   "cell_type": "code",
   "execution_count": null,
   "metadata": {},
   "outputs": [],
   "source": [
    "df.iloc[:14]['PB'].plot(5)"
   ]
  },
  {
   "cell_type": "code",
   "execution_count": null,
   "metadata": {},
   "outputs": [],
   "source": [
    "df[:14][['Digit0', 'Digit1', 'Digit2', 'Digit3', 'Digit4']].stack().value_counts().plot(kind='bar', figsize=(15,4))\n",
    "#df18[:100]['Digit0'].value_counts().plot(kind='bar')\n",
    "plt.show()"
   ]
  },
  {
   "cell_type": "code",
   "execution_count": null,
   "metadata": {},
   "outputs": [],
   "source": [
    "df.head()"
   ]
  },
  {
   "cell_type": "markdown",
   "metadata": {},
   "source": [
    "# Analysis PowerBall"
   ]
  },
  {
   "cell_type": "code",
   "execution_count": null,
   "metadata": {},
   "outputs": [],
   "source": [
    "df[:14]['PB'].value_counts().plot(kind='bar', figsize=(10,4))"
   ]
  },
  {
   "cell_type": "code",
   "execution_count": null,
   "metadata": {},
   "outputs": [],
   "source": [
    "df[:28]['PB'].value_counts().plot(kind='bar', figsize=(10,4))"
   ]
  },
  {
   "cell_type": "code",
   "execution_count": null,
   "metadata": {},
   "outputs": [],
   "source": [
    "df[:56]['PB'].value_counts().plot(kind='bar', figsize=(10,4))"
   ]
  },
  {
   "cell_type": "code",
   "execution_count": null,
   "metadata": {},
   "outputs": [],
   "source": [
    "df[:140]['PB'].value_counts().plot(kind='bar', figsize=(10,4))"
   ]
  },
  {
   "cell_type": "markdown",
   "metadata": {},
   "source": [
    "# Convert columns from objects to integers"
   ]
  },
  {
   "cell_type": "code",
   "execution_count": null,
   "metadata": {},
   "outputs": [],
   "source": [
    "df['Digit0'] = df['Digit0'].astype(str).astype(int)"
   ]
  },
  {
   "cell_type": "code",
   "execution_count": null,
   "metadata": {},
   "outputs": [],
   "source": [
    "df['Digit1'] = df['Digit1'].astype(str).astype(int)"
   ]
  },
  {
   "cell_type": "code",
   "execution_count": null,
   "metadata": {},
   "outputs": [],
   "source": [
    "df['Digit2'] = df['Digit2'].astype(str).astype(int)"
   ]
  },
  {
   "cell_type": "code",
   "execution_count": null,
   "metadata": {},
   "outputs": [],
   "source": [
    "df['Digit3'] = df['Digit3'].astype(str).astype(int)"
   ]
  },
  {
   "cell_type": "code",
   "execution_count": null,
   "metadata": {},
   "outputs": [],
   "source": [
    "df['Digit4'] = df['Digit4'].astype(str).astype(int)"
   ]
  },
  {
   "cell_type": "code",
   "execution_count": null,
   "metadata": {},
   "outputs": [],
   "source": [
    "df['PB'] = df['PB'].astype(str).astype(int)"
   ]
  },
  {
   "cell_type": "markdown",
   "metadata": {},
   "source": [
    "q = df[\"Digit0\"].quantile(0.8)\n",
    "q"
   ]
  },
  {
   "cell_type": "code",
   "execution_count": null,
   "metadata": {},
   "outputs": [],
   "source": [
    "df.set_index('Date', inplace=True)\n",
    "df.head()"
   ]
  },
  {
   "cell_type": "code",
   "execution_count": null,
   "metadata": {},
   "outputs": [],
   "source": [
    "#stack digit columns toget total value counts of most recent 14 drawings\n",
    " \n",
    "lotto14= df[:14][['Digit0', 'Digit1', 'Digit2', 'Digit3', 'Digit4']].stack().value_counts()\n",
    "MostRecent14=lotto14.index\n",
    "\n",
    "lotto28= df[:28][['Digit0', 'Digit1', 'Digit2', 'Digit3', 'Digit4']].stack().value_counts()\n",
    "MostRecent28=lotto28.index"
   ]
  },
  {
   "cell_type": "markdown",
   "metadata": {},
   "source": [
    "MostRecent14.value_counts()"
   ]
  },
  {
   "cell_type": "markdown",
   "metadata": {},
   "source": [
    "MostRecent28.value_counts()"
   ]
  },
  {
   "cell_type": "code",
   "execution_count": null,
   "metadata": {},
   "outputs": [],
   "source": [
    "#Range of megamilion numbers\n",
    "    #print(i)\n",
    "numrange = []\n",
    "for i in range(1, 71):\n",
    "    numrange.append(i)\n",
    "  "
   ]
  },
  {
   "cell_type": "code",
   "execution_count": null,
   "metadata": {},
   "outputs": [],
   "source": [
    "diff28 = set(numrange).symmetric_difference(MostRecent28)\n",
    "diff28"
   ]
  },
  {
   "cell_type": "markdown",
   "metadata": {},
   "source": [
    "#Select from these numbers\n",
    "#diff of numbers that were not pull between the 14 & 28 drawings\n",
    "a=diff28\n",
    "b=numrange\n",
    "set(a).symmetric_difference(b)"
   ]
  },
  {
   "cell_type": "code",
   "execution_count": null,
   "metadata": {},
   "outputs": [],
   "source": [
    "#Select from these numbers\n",
    "#diff of numbers that were not pull between the 14 & 28 drawings\n",
    "a=diff14\n",
    "b=diff28\n",
    "set(a).symmetric_difference(b)"
   ]
  },
  {
   "cell_type": "code",
   "execution_count": null,
   "metadata": {},
   "outputs": [],
   "source": [
    "df[['Digit0', 'Digit1', 'Digit2', 'Digit3', 'Digit4']].stack().value_counts().head(40)"
   ]
  },
  {
   "cell_type": "code",
   "execution_count": null,
   "metadata": {},
   "outputs": [],
   "source": [
    "#Range of megamilion PB numbers\n",
    "PwrballRange = []\n",
    "for i in range(1, 26):\n",
    "    PwrballRange.append(i)"
   ]
  },
  {
   "cell_type": "code",
   "execution_count": null,
   "metadata": {},
   "outputs": [],
   "source": [
    "df.head()"
   ]
  },
  {
   "cell_type": "code",
   "execution_count": null,
   "metadata": {},
   "outputs": [],
   "source": [
    "numcountall=df[['Digit0', 'Digit1', 'Digit2', 'Digit3', 'Digit4']].stack().value_counts()"
   ]
  },
  {
   "cell_type": "code",
   "execution_count": null,
   "metadata": {},
   "outputs": [],
   "source": [
    "PB14 = df[:14][['PB']].stack().value_counts()\n",
    "PB14i =PB14.index\n",
    "PB28 = df[:28][['PB']].stack().value_counts()\n",
    "PB28i =PB28.index"
   ]
  },
  {
   "cell_type": "code",
   "execution_count": null,
   "metadata": {},
   "outputs": [],
   "source": [
    "#Select from these numbers\n",
    "#all the power numbers that were not pull for the last 20 drawings\n",
    "\n",
    "c=PB14i\n",
    "d=PB28i\n",
    "set(c).symmetric_difference(d)"
   ]
  },
  {
   "cell_type": "code",
   "execution_count": null,
   "metadata": {},
   "outputs": [],
   "source": [
    "PB14i"
   ]
  },
  {
   "cell_type": "code",
   "execution_count": null,
   "metadata": {},
   "outputs": [],
   "source": [
    "df['PB'].value_counts(normalize=True).head(11)"
   ]
  },
  {
   "cell_type": "markdown",
   "metadata": {},
   "source": [
    "#pb diff between 14 and 28 drawings\n",
    "diffpb=PB28.index\n",
    "e=diffpb\n",
    "f=pb2.index\n",
    "set(f).intersection(e)"
   ]
  },
  {
   "cell_type": "code",
   "execution_count": null,
   "metadata": {},
   "outputs": [],
   "source": [
    "sns.pairplot(df)"
   ]
  },
  {
   "cell_type": "code",
   "execution_count": null,
   "metadata": {},
   "outputs": [],
   "source": [
    "# Assign feature columns as list:feature_cols\n",
    "feature_cols = ['Date']\n",
    "\n",
    "# Assign to X a subset of the data including only feature columns\n",
    "x = df[feature_cols]\n"
   ]
  },
  {
   "cell_type": "code",
   "execution_count": null,
   "metadata": {},
   "outputs": [],
   "source": [
    "# Assign to y the reponse variable as Pandas series\n",
    "y = df['Digit0']"
   ]
  },
  {
   "cell_type": "code",
   "execution_count": null,
   "metadata": {},
   "outputs": [],
   "source": [
    "# Import SK learn train test split\n",
    "from sklearn.model_selection import train_test_split\n",
    "\n",
    "# Assign variables to capture train test split output\n",
    "X_train, X_test, y_train, y_test = train_test_split(x, y)"
   ]
  },
  {
   "cell_type": "code",
   "execution_count": null,
   "metadata": {},
   "outputs": [],
   "source": [
    "df.info()"
   ]
  },
  {
   "cell_type": "markdown",
   "metadata": {},
   "source": [
    "# Import SK Learn linear regression\n",
    "from sklearn.linear_model import LinearRegression\n",
    "\n",
    "#Instantiate\n",
    "linreg = LinearRegression()\n",
    "\n",
    "#Fit Model to training data i,e) Learn coefficients\n",
    "linreg.fit(X_train, y_train)"
   ]
  },
  {
   "cell_type": "code",
   "execution_count": null,
   "metadata": {},
   "outputs": [],
   "source": [
    "df[:28]['Digit0'].plot(kind ='hist' , x='Digit0', figsize=(16,6), bins=40)\n",
    "#plt.subplot(df['Digit0'])\n",
    "#plt.xlabel(\"Day\")\n",
    "#plt.ylabel(\"Lotto Numbers\")\n",
    "#plt.figure(1, figsize=(9, 3))\n",
    "df['Digit0'].describe()"
   ]
  },
  {
   "cell_type": "code",
   "execution_count": null,
   "metadata": {},
   "outputs": [],
   "source": [
    "df[:20]['Digit1'].plot(kind ='hist' , x='Digit1', figsize=(16,6), bins=40)\n",
    "#plt.subplot(df['Digit0'])\n",
    "#plt.xlabel(\"Day\")\n",
    "#plt.ylabel(\"Lotto Numbers\")\n",
    "#plt.figure(1, figsize=(9, 3))\n",
    "df['Digit1'].describe()"
   ]
  },
  {
   "cell_type": "code",
   "execution_count": null,
   "metadata": {},
   "outputs": [],
   "source": [
    "df['Digit2'].plot(kind ='hist' , x='Digit2', figsize=(16,6), bins=30)\n",
    "#plt.subplot(df['Digit0'])\n",
    "#plt.xlabel(\"Day\")\n",
    "#plt.ylabel(\"Lotto Numbers\")\n",
    "#plt.figure(1, figsize=(9, 3))\n",
    "df['Digit2'].describe()"
   ]
  },
  {
   "cell_type": "code",
   "execution_count": null,
   "metadata": {
    "scrolled": true
   },
   "outputs": [],
   "source": [
    "df['Digit3'].plot(kind ='hist' , x='Digit3', figsize=(16,6), bins=50)\n",
    "#plt.subplot(df['Digit0'])\n",
    "#plt.xlabel(\"Day\")\n",
    "#plt.ylabel(\"Lotto Numbers\")\n",
    "#plt.figure(1, figsize=(9, 3))\n",
    "df['Digit3'].describe()"
   ]
  },
  {
   "cell_type": "code",
   "execution_count": null,
   "metadata": {
    "scrolled": true
   },
   "outputs": [],
   "source": [
    "df['Digit4'].plot(kind ='hist' , x='Digit4', figsize=(16,6), bins=50)\n",
    "#plt.subplot(df['Digit0'])\n",
    "#plt.xlabel(\"Day\")\n",
    "#plt.ylabel(\"Lotto Numbers\")\n",
    "#plt.figure(1, figsize=(9, 3))\n",
    "df['Digit4'].describe()"
   ]
  },
  {
   "cell_type": "code",
   "execution_count": null,
   "metadata": {},
   "outputs": [],
   "source": [
    "df['PB'].plot(kind ='hist' , x='PB', figsize=(16,6), bins=50)\n",
    "#plt.subplot(df['Digit0'])\n",
    "plt.xlabel(\"Number\")\n",
    "#plt.ylabel(\"Lotto Numbers\")\n",
    "#plt.figure(1, figsize=(9, 3))\n",
    "df['PB'].describe()"
   ]
  },
  {
   "cell_type": "code",
   "execution_count": null,
   "metadata": {},
   "outputs": [],
   "source": []
  },
  {
   "cell_type": "code",
   "execution_count": null,
   "metadata": {},
   "outputs": [],
   "source": []
  }
 ],
 "metadata": {
  "kernelspec": {
   "display_name": "Python 3",
   "language": "python",
   "name": "python3"
  },
  "language_info": {
   "codemirror_mode": {
    "name": "ipython",
    "version": 3
   },
   "file_extension": ".py",
   "mimetype": "text/x-python",
   "name": "python",
   "nbconvert_exporter": "python",
   "pygments_lexer": "ipython3",
   "version": "3.6.6"
  }
 },
 "nbformat": 4,
 "nbformat_minor": 2
}
