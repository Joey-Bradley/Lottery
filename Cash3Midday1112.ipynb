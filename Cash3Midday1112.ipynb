{
 "cells": [
  {
   "cell_type": "markdown",
   "metadata": {},
   "source": [
    "# Reading the Web Page into Python"
   ]
  },
  {
   "cell_type": "markdown",
   "metadata": {},
   "source": [
    "# Wrangling Data"
   ]
  },
  {
   "cell_type": "code",
   "execution_count": 1,
   "metadata": {},
   "outputs": [],
   "source": [
    "import requests\n",
    "from bs4 import BeautifulSoup\n",
    "import pandas as pd\n",
    "import numpy as np\n",
    "from itertools import permutations\n",
    "from itertools import combinations\n",
    "import matplotlib.pyplot as plt\n",
    "import seaborn as sns"
   ]
  },
  {
   "cell_type": "code",
   "execution_count": 2,
   "metadata": {},
   "outputs": [],
   "source": [
    "#Plot Customizations\n",
    "sns.set() # matplotlib defaults\n",
    "\n",
    "plt.rcParams['figure.figsize'] = (12,3)\n",
    "%config InlineBackend.figure_format='retina'"
   ]
  },
  {
   "cell_type": "code",
   "execution_count": 3,
   "metadata": {},
   "outputs": [],
   "source": [
    "\n",
    "#def get_url(url):\n",
    "url=['https://www.lotterycorner.com/ga/cash-3-midday/2016',\n",
    "     'https://www.lotterycorner.com/ga/cash-3-midday/2017',\n",
    "     'https://www.lotterycorner.com/ga/cash-3-midday/2018']\n",
    "yr= 0\n",
    "#url=['https://www.lotterycorner.com/ga/cash-3-midday/2018']\n",
    "dfc3 = pd.DataFrame([])\n",
    "for i in url:\n",
    "    r = requests.get(url[yr])\n",
    "    soup= BeautifulSoup(r.text, 'html.parser')\n",
    "    table = soup.find_all('table')[0] \n",
    "    df= pd.read_html(str(table))[0]\n",
    "    #Make first row the column headers\n",
    "    df.columns = df.iloc[0]\n",
    "    df = df[1:]\n",
    "    # Remove all rows with nulls\n",
    "    #df.dropna(inplace=True)----\n",
    "    # Remove the \"Jackpot\" columns\n",
    "    df.drop(['Jackpot'], axis=1, inplace= True)\n",
    "    #Separate and expand data from the 'Winning Numbers' column into other columns beginning with 'Digit'\n",
    "    df = df.join(df['Winning Numbers'].str.split(' ', expand=True).add_prefix('Digit'))\n",
    "        #remove white spaces\n",
    "    df['Winning Numbers'] = df['Winning Numbers'].str.replace(\" \",\"\")\n",
    "        #Add two new columns to dataframe\n",
    "    df['First2']=df['Winning Numbers'].str[0:2]\n",
    "    df['FirstLast']=df['Winning Numbers'].str[0] + df['Winning Numbers'].str[2]\n",
    "    df['Last2']=df['Winning Numbers'].str[1:3]\n",
    "    \n",
    "        #Make the Date column a date type\n",
    "    df['Date'] = pd.to_datetime(df['Date'])\n",
    "        #Set the Date column as the indate\n",
    "    df.set_index('Date', inplace=True)\n",
    "    #df.index.name = None\n",
    "        #Rename Column\n",
    "    df.rename(columns={'Winning Numbers': 'WinNum'}, inplace=True)\n",
    "        #Change data type from object to integer\n",
    "    cols = ['Digit0', 'Digit1', 'Digit2']\n",
    "    df[cols] = df[cols].apply(pd.to_numeric, errors='coerce', axis=1)    \n",
    "    yr=yr+1\n",
    "    dfc3=dfc3.append(df)\n",
    "    #df = df.sort_index(inplace=True)\n",
    "    "
   ]
  },
  {
   "cell_type": "code",
   "execution_count": 4,
   "metadata": {},
   "outputs": [],
   "source": [
    "df=dfc3"
   ]
  },
  {
   "cell_type": "code",
   "execution_count": 5,
   "metadata": {},
   "outputs": [],
   "source": [
    "df.sort_index(inplace=True)"
   ]
  },
  {
   "cell_type": "code",
   "execution_count": 6,
   "metadata": {},
   "outputs": [],
   "source": [
    "df['day_of_week'] = df.index.weekday\n",
    "days = {0:'Mon',1:'Tues',2:'Weds',3:'Thurs',4:'Fri',5:'Sat',6:'Sun'}\n",
    "df['day_of_week'] = df['day_of_week'].apply(lambda x: days[x])"
   ]
  },
  {
   "cell_type": "code",
   "execution_count": 7,
   "metadata": {},
   "outputs": [],
   "source": [
    "#col=df.columns\n",
    "#col\n",
    "df = df[['WinNum','day_of_week', 'Digit0', 'Digit1', 'Digit2', 'First2', 'FirstLast', 'Last2']]"
   ]
  },
  {
   "cell_type": "code",
   "execution_count": 8,
   "metadata": {},
   "outputs": [
    {
     "data": {
      "text/html": [
       "<div>\n",
       "<style scoped>\n",
       "    .dataframe tbody tr th:only-of-type {\n",
       "        vertical-align: middle;\n",
       "    }\n",
       "\n",
       "    .dataframe tbody tr th {\n",
       "        vertical-align: top;\n",
       "    }\n",
       "\n",
       "    .dataframe thead th {\n",
       "        text-align: right;\n",
       "    }\n",
       "</style>\n",
       "<table border=\"1\" class=\"dataframe\">\n",
       "  <thead>\n",
       "    <tr style=\"text-align: right;\">\n",
       "      <th></th>\n",
       "      <th>WinNum</th>\n",
       "      <th>day_of_week</th>\n",
       "      <th>Digit0</th>\n",
       "      <th>Digit1</th>\n",
       "      <th>Digit2</th>\n",
       "      <th>First2</th>\n",
       "      <th>FirstLast</th>\n",
       "      <th>Last2</th>\n",
       "    </tr>\n",
       "    <tr>\n",
       "      <th>Date</th>\n",
       "      <th></th>\n",
       "      <th></th>\n",
       "      <th></th>\n",
       "      <th></th>\n",
       "      <th></th>\n",
       "      <th></th>\n",
       "      <th></th>\n",
       "      <th></th>\n",
       "    </tr>\n",
       "  </thead>\n",
       "  <tbody>\n",
       "    <tr>\n",
       "      <th>2018-11-11</th>\n",
       "      <td>790</td>\n",
       "      <td>Sun</td>\n",
       "      <td>7</td>\n",
       "      <td>9</td>\n",
       "      <td>0</td>\n",
       "      <td>79</td>\n",
       "      <td>70</td>\n",
       "      <td>90</td>\n",
       "    </tr>\n",
       "    <tr>\n",
       "      <th>2018-11-12</th>\n",
       "      <td>188</td>\n",
       "      <td>Mon</td>\n",
       "      <td>1</td>\n",
       "      <td>8</td>\n",
       "      <td>8</td>\n",
       "      <td>18</td>\n",
       "      <td>18</td>\n",
       "      <td>88</td>\n",
       "    </tr>\n",
       "    <tr>\n",
       "      <th>2018-11-13</th>\n",
       "      <td>531</td>\n",
       "      <td>Tues</td>\n",
       "      <td>5</td>\n",
       "      <td>3</td>\n",
       "      <td>1</td>\n",
       "      <td>53</td>\n",
       "      <td>51</td>\n",
       "      <td>31</td>\n",
       "    </tr>\n",
       "    <tr>\n",
       "      <th>2018-11-14</th>\n",
       "      <td>648</td>\n",
       "      <td>Weds</td>\n",
       "      <td>6</td>\n",
       "      <td>4</td>\n",
       "      <td>8</td>\n",
       "      <td>64</td>\n",
       "      <td>68</td>\n",
       "      <td>48</td>\n",
       "    </tr>\n",
       "    <tr>\n",
       "      <th>2018-11-15</th>\n",
       "      <td>531</td>\n",
       "      <td>Thurs</td>\n",
       "      <td>5</td>\n",
       "      <td>3</td>\n",
       "      <td>1</td>\n",
       "      <td>53</td>\n",
       "      <td>51</td>\n",
       "      <td>31</td>\n",
       "    </tr>\n",
       "  </tbody>\n",
       "</table>\n",
       "</div>"
      ],
      "text/plain": [
       "           WinNum day_of_week  Digit0  Digit1  Digit2 First2 FirstLast Last2\n",
       "Date                                                                        \n",
       "2018-11-11    790         Sun       7       9       0     79        70    90\n",
       "2018-11-12    188         Mon       1       8       8     18        18    88\n",
       "2018-11-13    531        Tues       5       3       1     53        51    31\n",
       "2018-11-14    648        Weds       6       4       8     64        68    48\n",
       "2018-11-15    531       Thurs       5       3       1     53        51    31"
      ]
     },
     "execution_count": 8,
     "metadata": {},
     "output_type": "execute_result"
    }
   ],
   "source": [
    "df.tail()"
   ]
  },
  {
   "cell_type": "markdown",
   "metadata": {},
   "source": [
    "vcGrpByD0=df['2018'].groupby(['day_of_week','Digit0'])['DayNxDay0'].value_counts()"
   ]
  },
  {
   "cell_type": "code",
   "execution_count": 9,
   "metadata": {},
   "outputs": [
    {
     "name": "stderr",
     "output_type": "stream",
     "text": [
      "/home/LinuxUser/anaconda3/lib/python3.6/site-packages/ipykernel_launcher.py:2: SettingWithCopyWarning: \n",
      "A value is trying to be set on a copy of a slice from a DataFrame.\n",
      "Try using .loc[row_indexer,col_indexer] = value instead\n",
      "\n",
      "See the caveats in the documentation: http://pandas.pydata.org/pandas-docs/stable/indexing.html#indexing-view-versus-copy\n",
      "  \n"
     ]
    }
   ],
   "source": [
    "#Add Shiftup column with blanks\n",
    "df[\"ShiftUp0\"] = [[] for _ in range(len(df))]"
   ]
  },
  {
   "cell_type": "code",
   "execution_count": 10,
   "metadata": {},
   "outputs": [
    {
     "name": "stderr",
     "output_type": "stream",
     "text": [
      "/home/LinuxUser/anaconda3/lib/python3.6/site-packages/ipykernel_launcher.py:2: SettingWithCopyWarning: \n",
      "A value is trying to be set on a copy of a slice from a DataFrame.\n",
      "Try using .loc[row_indexer,col_indexer] = value instead\n",
      "\n",
      "See the caveats in the documentation: http://pandas.pydata.org/pandas-docs/stable/indexing.html#indexing-view-versus-copy\n",
      "  \n"
     ]
    }
   ],
   "source": [
    "#Add Combination column\n",
    "df[\"Combo\"] = [[] for _ in range(len(df))]"
   ]
  },
  {
   "cell_type": "code",
   "execution_count": 11,
   "metadata": {},
   "outputs": [
    {
     "name": "stderr",
     "output_type": "stream",
     "text": [
      "/home/LinuxUser/anaconda3/lib/python3.6/site-packages/ipykernel_launcher.py:2: SettingWithCopyWarning: \n",
      "A value is trying to be set on a copy of a slice from a DataFrame.\n",
      "Try using .loc[row_indexer,col_indexer] = value instead\n",
      "\n",
      "See the caveats in the documentation: http://pandas.pydata.org/pandas-docs/stable/indexing.html#indexing-view-versus-copy\n",
      "  \n"
     ]
    }
   ],
   "source": [
    "#Add Data to Shiftup column\n",
    "df['ShiftUp0'] = df['Digit0'].shift(-1)\n",
    "#dfc3['ShiftUp0']=dfc3['ShiftUp0'].astype(int)"
   ]
  },
  {
   "cell_type": "code",
   "execution_count": 12,
   "metadata": {},
   "outputs": [
    {
     "name": "stderr",
     "output_type": "stream",
     "text": [
      "/home/LinuxUser/anaconda3/lib/python3.6/site-packages/ipykernel_launcher.py:2: SettingWithCopyWarning: \n",
      "A value is trying to be set on a copy of a slice from a DataFrame.\n",
      "Try using .loc[row_indexer,col_indexer] = value instead\n",
      "\n",
      "See the caveats in the documentation: http://pandas.pydata.org/pandas-docs/stable/indexing.html#indexing-view-versus-copy\n",
      "  \n"
     ]
    }
   ],
   "source": [
    "#Add Data to Shiftup column\n",
    "df['ShiftUp1'] = df['Digit1'].shift(-1)"
   ]
  },
  {
   "cell_type": "code",
   "execution_count": 13,
   "metadata": {},
   "outputs": [
    {
     "name": "stderr",
     "output_type": "stream",
     "text": [
      "/home/LinuxUser/anaconda3/lib/python3.6/site-packages/ipykernel_launcher.py:2: SettingWithCopyWarning: \n",
      "A value is trying to be set on a copy of a slice from a DataFrame.\n",
      "Try using .loc[row_indexer,col_indexer] = value instead\n",
      "\n",
      "See the caveats in the documentation: http://pandas.pydata.org/pandas-docs/stable/indexing.html#indexing-view-versus-copy\n",
      "  \n"
     ]
    }
   ],
   "source": [
    "#Add Data to Shiftup column\n",
    "df['ShiftUp2'] = df['Digit2'].shift(-1)"
   ]
  },
  {
   "cell_type": "code",
   "execution_count": 14,
   "metadata": {},
   "outputs": [
    {
     "name": "stderr",
     "output_type": "stream",
     "text": [
      "/home/LinuxUser/anaconda3/lib/python3.6/site-packages/ipykernel_launcher.py:2: SettingWithCopyWarning: \n",
      "A value is trying to be set on a copy of a slice from a DataFrame.\n",
      "Try using .loc[row_indexer,col_indexer] = value instead\n",
      "\n",
      "See the caveats in the documentation: http://pandas.pydata.org/pandas-docs/stable/indexing.html#indexing-view-versus-copy\n",
      "  \n"
     ]
    }
   ],
   "source": [
    "#Add Data to Shiftup Diff column\n",
    "df['ShiftUp0Diff']=df['ShiftUp0']- df.Digit0"
   ]
  },
  {
   "cell_type": "code",
   "execution_count": 15,
   "metadata": {},
   "outputs": [
    {
     "name": "stderr",
     "output_type": "stream",
     "text": [
      "/home/LinuxUser/anaconda3/lib/python3.6/site-packages/ipykernel_launcher.py:2: SettingWithCopyWarning: \n",
      "A value is trying to be set on a copy of a slice from a DataFrame.\n",
      "Try using .loc[row_indexer,col_indexer] = value instead\n",
      "\n",
      "See the caveats in the documentation: http://pandas.pydata.org/pandas-docs/stable/indexing.html#indexing-view-versus-copy\n",
      "  \n"
     ]
    }
   ],
   "source": [
    "#Add Data to Shiftup Diff column\n",
    "df['ShiftUp1Diff']=df['ShiftUp1']- df.Digit1"
   ]
  },
  {
   "cell_type": "code",
   "execution_count": 16,
   "metadata": {},
   "outputs": [
    {
     "name": "stderr",
     "output_type": "stream",
     "text": [
      "/home/LinuxUser/anaconda3/lib/python3.6/site-packages/ipykernel_launcher.py:2: SettingWithCopyWarning: \n",
      "A value is trying to be set on a copy of a slice from a DataFrame.\n",
      "Try using .loc[row_indexer,col_indexer] = value instead\n",
      "\n",
      "See the caveats in the documentation: http://pandas.pydata.org/pandas-docs/stable/indexing.html#indexing-view-versus-copy\n",
      "  \n"
     ]
    }
   ],
   "source": [
    "#Add Data to Shiftup Diff column\n",
    "df['ShiftUp2Diff']=df['ShiftUp2']- df.Digit2"
   ]
  },
  {
   "cell_type": "code",
   "execution_count": 17,
   "metadata": {},
   "outputs": [
    {
     "name": "stderr",
     "output_type": "stream",
     "text": [
      "/home/LinuxUser/anaconda3/lib/python3.6/site-packages/pandas/core/frame.py:3787: SettingWithCopyWarning: \n",
      "A value is trying to be set on a copy of a slice from a DataFrame\n",
      "\n",
      "See the caveats in the documentation: http://pandas.pydata.org/pandas-docs/stable/indexing.html#indexing-view-versus-copy\n",
      "  downcast=downcast, **kwargs)\n"
     ]
    }
   ],
   "source": [
    "#replace nan with zero\n",
    "df.fillna(0, inplace=True)"
   ]
  },
  {
   "cell_type": "code",
   "execution_count": 18,
   "metadata": {},
   "outputs": [
    {
     "name": "stderr",
     "output_type": "stream",
     "text": [
      "/home/LinuxUser/anaconda3/lib/python3.6/site-packages/ipykernel_launcher.py:2: SettingWithCopyWarning: \n",
      "A value is trying to be set on a copy of a slice from a DataFrame.\n",
      "Try using .loc[row_indexer,col_indexer] = value instead\n",
      "\n",
      "See the caveats in the documentation: http://pandas.pydata.org/pandas-docs/stable/indexing.html#indexing-view-versus-copy\n",
      "  \n",
      "/home/LinuxUser/anaconda3/lib/python3.6/site-packages/ipykernel_launcher.py:3: SettingWithCopyWarning: \n",
      "A value is trying to be set on a copy of a slice from a DataFrame.\n",
      "Try using .loc[row_indexer,col_indexer] = value instead\n",
      "\n",
      "See the caveats in the documentation: http://pandas.pydata.org/pandas-docs/stable/indexing.html#indexing-view-versus-copy\n",
      "  This is separate from the ipykernel package so we can avoid doing imports until\n"
     ]
    }
   ],
   "source": [
    "#Combine ShiftUp and ShiftUpDiff columns\n",
    "df['DayNxDay0']=df.Digit0.astype(str) + df.ShiftUp0.astype(str)\n",
    "df['DayNxDay0']=df['DayNxDay0'].str[:2]"
   ]
  },
  {
   "cell_type": "code",
   "execution_count": 19,
   "metadata": {},
   "outputs": [
    {
     "name": "stderr",
     "output_type": "stream",
     "text": [
      "/home/LinuxUser/anaconda3/lib/python3.6/site-packages/ipykernel_launcher.py:2: SettingWithCopyWarning: \n",
      "A value is trying to be set on a copy of a slice from a DataFrame.\n",
      "Try using .loc[row_indexer,col_indexer] = value instead\n",
      "\n",
      "See the caveats in the documentation: http://pandas.pydata.org/pandas-docs/stable/indexing.html#indexing-view-versus-copy\n",
      "  \n",
      "/home/LinuxUser/anaconda3/lib/python3.6/site-packages/ipykernel_launcher.py:3: SettingWithCopyWarning: \n",
      "A value is trying to be set on a copy of a slice from a DataFrame.\n",
      "Try using .loc[row_indexer,col_indexer] = value instead\n",
      "\n",
      "See the caveats in the documentation: http://pandas.pydata.org/pandas-docs/stable/indexing.html#indexing-view-versus-copy\n",
      "  This is separate from the ipykernel package so we can avoid doing imports until\n"
     ]
    }
   ],
   "source": [
    "#Combine ShiftUp and ShiftUpDiff columns\n",
    "df['DayNxDay1']=df.Digit1.astype(str) + df.ShiftUp1.astype(str)\n",
    "df['DayNxDay1']=df['DayNxDay1'].str[:2]"
   ]
  },
  {
   "cell_type": "code",
   "execution_count": 20,
   "metadata": {},
   "outputs": [
    {
     "name": "stderr",
     "output_type": "stream",
     "text": [
      "/home/LinuxUser/anaconda3/lib/python3.6/site-packages/ipykernel_launcher.py:2: SettingWithCopyWarning: \n",
      "A value is trying to be set on a copy of a slice from a DataFrame.\n",
      "Try using .loc[row_indexer,col_indexer] = value instead\n",
      "\n",
      "See the caveats in the documentation: http://pandas.pydata.org/pandas-docs/stable/indexing.html#indexing-view-versus-copy\n",
      "  \n",
      "/home/LinuxUser/anaconda3/lib/python3.6/site-packages/ipykernel_launcher.py:3: SettingWithCopyWarning: \n",
      "A value is trying to be set on a copy of a slice from a DataFrame.\n",
      "Try using .loc[row_indexer,col_indexer] = value instead\n",
      "\n",
      "See the caveats in the documentation: http://pandas.pydata.org/pandas-docs/stable/indexing.html#indexing-view-versus-copy\n",
      "  This is separate from the ipykernel package so we can avoid doing imports until\n"
     ]
    }
   ],
   "source": [
    "#Combine ShiftUp and ShiftUpDiff columns\n",
    "df['DayNxDay2']=df.Digit2.astype(str) + df.ShiftUp2.astype(str)\n",
    "df['DayNxDay2']=df['DayNxDay2'].str[:2]"
   ]
  },
  {
   "cell_type": "code",
   "execution_count": 47,
   "metadata": {},
   "outputs": [
    {
     "name": "stderr",
     "output_type": "stream",
     "text": [
      "/home/LinuxUser/anaconda3/lib/python3.6/site-packages/ipykernel_launcher.py:2: SettingWithCopyWarning: \n",
      "A value is trying to be set on a copy of a slice from a DataFrame.\n",
      "Try using .loc[row_indexer,col_indexer] = value instead\n",
      "\n",
      "See the caveats in the documentation: http://pandas.pydata.org/pandas-docs/stable/indexing.html#indexing-view-versus-copy\n",
      "  \n",
      "/home/LinuxUser/anaconda3/lib/python3.6/site-packages/ipykernel_launcher.py:3: SettingWithCopyWarning: \n",
      "A value is trying to be set on a copy of a slice from a DataFrame.\n",
      "Try using .loc[row_indexer,col_indexer] = value instead\n",
      "\n",
      "See the caveats in the documentation: http://pandas.pydata.org/pandas-docs/stable/indexing.html#indexing-view-versus-copy\n",
      "  This is separate from the ipykernel package so we can avoid doing imports until\n",
      "/home/LinuxUser/anaconda3/lib/python3.6/site-packages/ipykernel_launcher.py:4: SettingWithCopyWarning: \n",
      "A value is trying to be set on a copy of a slice from a DataFrame.\n",
      "Try using .loc[row_indexer,col_indexer] = value instead\n",
      "\n",
      "See the caveats in the documentation: http://pandas.pydata.org/pandas-docs/stable/indexing.html#indexing-view-versus-copy\n",
      "  after removing the cwd from sys.path.\n"
     ]
    }
   ],
   "source": [
    "#Add Shiftup column\n",
    "df['EvenOdd0'] = [[] for _ in range(len(df))]\n",
    "df[\"EvenOdd1\"] = [[] for _ in range(len(df))]\n",
    "df[\"EvenOdd2\"] = [[] for _ in range(len(df))]"
   ]
  },
  {
   "cell_type": "code",
   "execution_count": 41,
   "metadata": {},
   "outputs": [
    {
     "name": "stderr",
     "output_type": "stream",
     "text": [
      "/home/LinuxUser/anaconda3/lib/python3.6/site-packages/pandas/core/indexing.py:543: SettingWithCopyWarning: \n",
      "A value is trying to be set on a copy of a slice from a DataFrame.\n",
      "Try using .loc[row_indexer,col_indexer] = value instead\n",
      "\n",
      "See the caveats in the documentation: http://pandas.pydata.org/pandas-docs/stable/indexing.html#indexing-view-versus-copy\n",
      "  self.obj[item] = s\n"
     ]
    }
   ],
   "source": [
    "#Reordering Digit0 - 2 lowest to highest and placing in tuple into the Comb Column\n",
    "singleNum=[]\n",
    "doubleNum=[]\n",
    "for index, row in df.iterrows():\n",
    "    a=(row['Digit0'] ,row['Digit1'],row['Digit2'])\n",
    "    Maxa = max(a)\n",
    "    Mina = min(a)\n",
    "    maxmin=(Mina,Maxa)\n",
    "    ChkDigitCount=list(set([x for x in a if a.count(x) > 1]))    \n",
    " #Check if digit exist more than once\n",
    "    if (row['Digit0']==row['Digit1']) & (row['Digit0']==row['Digit2']):\n",
    "        df.loc[index,'Combo']= str(row['Digit0'])+ str(row['Digit1'])+str(row['Digit2'])\n",
    "        df.loc[index,'PermComb']='AllDigitSame'\n",
    "    elif ChkDigitCount==[]:\n",
    "        MiddleNum =set(maxmin).symmetric_difference(a)\n",
    "        result=str(MiddleNum).replace('{',\"\").replace('}',\"\")\n",
    "        MiddleNum=result *1  #change string to integer\n",
    "        #df18.set_value(index,'Comb', (Mina,MiddleNum,Maxa))\n",
    "        df.loc[index,'Combo']=str(Mina)+str(MiddleNum)+str(Maxa)\n",
    "        df.loc[index,'PermComb']='NoDigitSame' \n",
    "        singleNum.append(str(Mina)+str(MiddleNum)+str(Maxa))\n",
    "    elif ChkDigitCount[0] >= 0:\n",
    "        #row['Comb']=(Mina,ChkDigitCount[0],Maxa)\n",
    "        df.loc[index,'Combo']=str(Mina)+str(ChkDigitCount[0])+str(Maxa)\n",
    "        #df.loc[index,'Combo']=(Mina,ChkDigitCount[0],Maxa) \n",
    "        df.loc[index,'PermComb']='TwoDigitSame'\n",
    "        doubleNum.append(str(Mina)+str(ChkDigitCount[0])+str(Maxa))"
   ]
  },
  {
   "cell_type": "code",
   "execution_count": 23,
   "metadata": {},
   "outputs": [],
   "source": [
    "#Compare if number is even/odd & and higher,lower or the same as than the next day number **FOR DIGIT 0**\n",
    "#Digit=[row['Digit0'], row['Digit1'], row['Digit2']]\n",
    "#ShiftUp=[row['ShiftUp0'], row['ShiftUp1'], row['ShiftUp2']]\n",
    "#EOdd=['EvenOdd0', 'EvenOdd1', 'EvenOdd2']\n",
    "#i=[0,1,2.3]\n",
    "#for i in Digit:  \n",
    "#n=0\n",
    "#while i[n]!=3:\n",
    "#i=0\n",
    "    \n",
    "for index, row in df.iterrows():\n",
    "        if  row['Digit0'] % 2 == 0:\n",
    "            ChkEven=True\n",
    "            ChkOdd=''\n",
    "        else:\n",
    "            ChkOdd=True\n",
    "            ChkEven=''\n",
    "\n",
    "        if row['ShiftUp0'] % 2 == 0:\n",
    "            ChkEvenShiftUp=True\n",
    "            ChkOddShiftUp=''\n",
    "        else:\n",
    "            ChkOddShiftUp=True\n",
    "            ChkEvenShiftUp=''\n",
    "\n",
    "\n",
    "        if ((ChkEven == True) & (row['Digit0']>row['ShiftUp0']) & (ChkEvenShiftUp==True)):\n",
    "            df.at[index,'EvenOdd0']=\"Even_down\"\n",
    "            #df.at[index,'EvenOdd1']=\"Even_down\" \n",
    "        elif ((ChkEven == True) & (row['Digit0']<row['ShiftUp0'])& (ChkEvenShiftUp==True)):\n",
    "            df.at[index,'EvenOdd0']=\"Even_up\" \n",
    "        elif ((ChkOdd== True) & (row['Digit0']>row['ShiftUp0']) & (ChkOddShiftUp==True)):\n",
    "            df.at[index,'EvenOdd0']=\"Odd_down\" \n",
    "        elif ((ChkOdd == True) & (row['Digit0']<row['ShiftUp0'])& (ChkOddShiftUp==True)):\n",
    "            df.at[index,'EvenOdd0']=\"Odd_up\" \n",
    "        elif ((ChkEven == True) & (row['Digit0']>row['ShiftUp0']) & (ChkOddShiftUp==True)):\n",
    "            df.at[index,'EvenOdd0']=\"Even_to_Odd_down\" \n",
    "        elif ((ChkEven == True) & (row['Digit0']<row['ShiftUp0'])& (ChkOddShiftUp==True)):\n",
    "            df.at[index,'EvenOdd0']=\"Even_to_Odd_up\" \n",
    "        elif ((ChkOdd== True) & (row['Digit0']>row['ShiftUp0']) & (ChkEvenShiftUp==True)):\n",
    "            df.at[index,'EvenOdd0']=\"Odd_to_Even_down\" \n",
    "        elif ((ChkOdd == True) & (row['Digit0']<row['ShiftUp0'])& (ChkEvenShiftUp==True)):\n",
    "            df.at[index,'EvenOdd0']=\"Odd_to_Even_up\" \n",
    "        else:\n",
    "            df.at[index,'EvenOdd0']=\"Same\" \n",
    " "
   ]
  },
  {
   "cell_type": "code",
   "execution_count": 24,
   "metadata": {},
   "outputs": [],
   "source": [
    "#Compare if number is even/odd & and higher,lower or the same as than the next day number **FOR DIGIT 1**\n",
    "for index, row in df.iterrows():\n",
    "    if row['Digit1'] % 2 == 0:\n",
    "        ChkEven=True\n",
    "        ChkOdd=''\n",
    "    else:\n",
    "        ChkOdd=True\n",
    "        ChkEven=''\n",
    "        \n",
    "    if row['ShiftUp1'] % 2 == 0:\n",
    "        ChkEvenShiftUp=True\n",
    "        ChkOddShiftUp=''\n",
    "    else:\n",
    "        ChkOddShiftUp=True\n",
    "        ChkEvenShiftUp=''\n",
    "        \n",
    "        \n",
    "    if ((ChkEven == True) & (row['Digit1']>row['ShiftUp1']) & (ChkEvenShiftUp==True)):\n",
    "        df.at[index,'EvenOdd1']=\"Even_down\" \n",
    "    elif ((ChkEven == True) & (row['Digit1']<row['ShiftUp1'])& (ChkEvenShiftUp==True)):\n",
    "        df.at[index,'EvenOdd1']=\"Even_up\" \n",
    "    elif ((ChkOdd== True) & (row['Digit1']>row['ShiftUp1']) & (ChkOddShiftUp==True)):\n",
    "        df.at[index,'EvenOdd1']=\"Odd_down\" \n",
    "    elif ((ChkOdd == True) & (row['Digit1']<row['ShiftUp1'])& (ChkOddShiftUp==True)):\n",
    "        df.at[index,'EvenOdd1']=\"Odd_up\" \n",
    "    elif ((ChkEven == True) & (row['Digit1']>row['ShiftUp1']) & (ChkOddShiftUp==True)):\n",
    "        df.at[index,'EvenOdd1']=\"Even_to_Odd_down\" \n",
    "    elif ((ChkEven == True) & (row['Digit1']<row['ShiftUp1'])& (ChkOddShiftUp==True)):\n",
    "        df.at[index,'EvenOdd1']=\"Even_to_Odd_up\" \n",
    "    elif ((ChkOdd== True) & (row['Digit1']>row['ShiftUp1']) & (ChkEvenShiftUp==True)):\n",
    "        df.at[index,'EvenOdd1']=\"Odd_to_Even_down\" \n",
    "    elif ((ChkOdd == True) & (row['Digit1']<row['ShiftUp1'])& (ChkEvenShiftUp==True)):\n",
    "        df.at[index,'EvenOdd1']=\"Odd_to_Even_up\" \n",
    "    else:\n",
    "        df.at[index,'EvenOdd1']=\"Same\" "
   ]
  },
  {
   "cell_type": "code",
   "execution_count": 115,
   "metadata": {},
   "outputs": [
    {
     "name": "stderr",
     "output_type": "stream",
     "text": [
      "/home/LinuxUser/anaconda3/lib/python3.6/site-packages/pandas/core/indexing.py:543: SettingWithCopyWarning: \n",
      "A value is trying to be set on a copy of a slice from a DataFrame.\n",
      "Try using .loc[row_indexer,col_indexer] = value instead\n",
      "\n",
      "See the caveats in the documentation: http://pandas.pydata.org/pandas-docs/stable/indexing.html#indexing-view-versus-copy\n",
      "  self.obj[item] = s\n"
     ]
    }
   ],
   "source": [
    "#Compare if number is even/odd & and higher,lower or the same as than the next day number **FOR DIGIT 2**\n",
    "for index, row in df.iterrows():\n",
    "    if row['Digit2'] % 2 == 0:\n",
    "        ChkEven=True\n",
    "        ChkOdd=''\n",
    "    else:\n",
    "        ChkOdd=True\n",
    "        ChkEven=''\n",
    "        \n",
    "    if row['ShiftUp2'] % 2 == 0:\n",
    "        ChkEvenShiftUp=True\n",
    "        ChkOddShiftUp=''\n",
    "    else:\n",
    "        ChkOddShiftUp=True\n",
    "        ChkEvenShiftUp=''\n",
    "        \n",
    "        \n",
    "    if ((ChkEven == True) & (row['Digit2']>row['ShiftUp2']) & (ChkEvenShiftUp==True)):\n",
    "        df.loc[index,'EvenOdd2']=\"Even_down\" \n",
    "    elif ((ChkEven == True) & (row['Digit2']<row['ShiftUp2'])& (ChkEvenShiftUp==True)):\n",
    "        df.loc[index,'EvenOdd2']=\"Even_up\" \n",
    "    elif ((ChkOdd== True) & (row['Digit2']>row['ShiftUp2']) & (ChkOddShiftUp==True)):\n",
    "        df.loc[index,'EvenOdd2']=\"Odd_down\" \n",
    "    elif ((ChkOdd == True) & (row['Digit2']<row['ShiftUp2'])& (ChkOddShiftUp==True)):\n",
    "        df.loc[index,'EvenOdd2']=\"Odd_up\" \n",
    "    elif ((ChkEven == True) & (row['Digit2']>row['ShiftUp2']) & (ChkOddShiftUp==True)):\n",
    "        df.loc[index,'EvenOdd2']=\"Even_to_Odd_down\" \n",
    "    elif ((ChkEven == True) & (row['Digit2']<row['ShiftUp2'])& (ChkOddShiftUp==True)):\n",
    "        df.loc[index,'EvenOdd2']=\"Even_to_Odd_up\" \n",
    "    elif ((ChkOdd== True) & (row['Digit2']>row['ShiftUp2']) & (ChkEvenShiftUp==True)):\n",
    "        df.loc[index,'EvenOdd2']=\"Odd_to_Even_down\" \n",
    "    elif ((ChkOdd == True) & (row['Digit2']<row['ShiftUp2'])& (ChkEvenShiftUp==True)):\n",
    "        df.loc[index,'EvenOdd2']=\"Odd_to_Even_up\" \n",
    "        #dfc.loc[0,'A'] = 11\n",
    "    else:\n",
    "        df.loc[index,'EvenOdd2']=\"Same\" "
   ]
  },
  {
   "cell_type": "markdown",
   "metadata": {},
   "source": [
    "print(len(doubleNum),\" 2 or more numbers are the same\")\n",
    "print(\"No numbers are the same\",len(singleNum))"
   ]
  },
  {
   "cell_type": "code",
   "execution_count": 26,
   "metadata": {},
   "outputs": [
    {
     "name": "stdout",
     "output_type": "stream",
     "text": [
      "(319, 8)\n",
      "(365, 8)\n",
      "(366, 8)\n"
     ]
    }
   ],
   "source": [
    "#filter data by year\n",
    "#pd.DatetimeIndex(dfc3['date']).year\n",
    "df18=dfc3['2018']\n",
    "df17=dfc3['2017']\n",
    "df16=dfc3['2016']\n",
    "#df18=df18.sort_index()\n",
    "print(df18.shape)\n",
    "print(df17.shape)\n",
    "print(df16.shape)"
   ]
  },
  {
   "cell_type": "code",
   "execution_count": 27,
   "metadata": {},
   "outputs": [
    {
     "data": {
      "text/html": [
       "<div>\n",
       "<style scoped>\n",
       "    .dataframe tbody tr th:only-of-type {\n",
       "        vertical-align: middle;\n",
       "    }\n",
       "\n",
       "    .dataframe tbody tr th {\n",
       "        vertical-align: top;\n",
       "    }\n",
       "\n",
       "    .dataframe thead th {\n",
       "        text-align: right;\n",
       "    }\n",
       "</style>\n",
       "<table border=\"1\" class=\"dataframe\">\n",
       "  <thead>\n",
       "    <tr style=\"text-align: right;\">\n",
       "      <th></th>\n",
       "      <th>WinNum</th>\n",
       "      <th>day_of_week</th>\n",
       "      <th>Digit0</th>\n",
       "      <th>Digit1</th>\n",
       "      <th>Digit2</th>\n",
       "      <th>First2</th>\n",
       "      <th>FirstLast</th>\n",
       "      <th>Last2</th>\n",
       "      <th>ShiftUp0</th>\n",
       "      <th>Combo</th>\n",
       "      <th>...</th>\n",
       "      <th>ShiftUp0Diff</th>\n",
       "      <th>ShiftUp1Diff</th>\n",
       "      <th>ShiftUp2Diff</th>\n",
       "      <th>DayNxDay0</th>\n",
       "      <th>DayNxDay1</th>\n",
       "      <th>DayNxDay2</th>\n",
       "      <th>EvenOdd0</th>\n",
       "      <th>EvenOdd1</th>\n",
       "      <th>EvenOdd2</th>\n",
       "      <th>PermComb</th>\n",
       "    </tr>\n",
       "    <tr>\n",
       "      <th>Date</th>\n",
       "      <th></th>\n",
       "      <th></th>\n",
       "      <th></th>\n",
       "      <th></th>\n",
       "      <th></th>\n",
       "      <th></th>\n",
       "      <th></th>\n",
       "      <th></th>\n",
       "      <th></th>\n",
       "      <th></th>\n",
       "      <th></th>\n",
       "      <th></th>\n",
       "      <th></th>\n",
       "      <th></th>\n",
       "      <th></th>\n",
       "      <th></th>\n",
       "      <th></th>\n",
       "      <th></th>\n",
       "      <th></th>\n",
       "      <th></th>\n",
       "      <th></th>\n",
       "    </tr>\n",
       "  </thead>\n",
       "  <tbody>\n",
       "    <tr>\n",
       "      <th>2018-11-11</th>\n",
       "      <td>790</td>\n",
       "      <td>Sun</td>\n",
       "      <td>7</td>\n",
       "      <td>9</td>\n",
       "      <td>0</td>\n",
       "      <td>79</td>\n",
       "      <td>70</td>\n",
       "      <td>90</td>\n",
       "      <td>1.0</td>\n",
       "      <td>079</td>\n",
       "      <td>...</td>\n",
       "      <td>-6.0</td>\n",
       "      <td>-1.0</td>\n",
       "      <td>8.0</td>\n",
       "      <td>71</td>\n",
       "      <td>98</td>\n",
       "      <td>08</td>\n",
       "      <td>Odd_down</td>\n",
       "      <td>Odd_to_Even_down</td>\n",
       "      <td>Even_up</td>\n",
       "      <td>NoDigitSame</td>\n",
       "    </tr>\n",
       "    <tr>\n",
       "      <th>2018-11-12</th>\n",
       "      <td>188</td>\n",
       "      <td>Mon</td>\n",
       "      <td>1</td>\n",
       "      <td>8</td>\n",
       "      <td>8</td>\n",
       "      <td>18</td>\n",
       "      <td>18</td>\n",
       "      <td>88</td>\n",
       "      <td>5.0</td>\n",
       "      <td>188</td>\n",
       "      <td>...</td>\n",
       "      <td>4.0</td>\n",
       "      <td>-5.0</td>\n",
       "      <td>-7.0</td>\n",
       "      <td>15</td>\n",
       "      <td>83</td>\n",
       "      <td>81</td>\n",
       "      <td>Odd_up</td>\n",
       "      <td>Even_to_Odd_down</td>\n",
       "      <td>Even_to_Odd_down</td>\n",
       "      <td>TwoDigitSame</td>\n",
       "    </tr>\n",
       "    <tr>\n",
       "      <th>2018-11-13</th>\n",
       "      <td>531</td>\n",
       "      <td>Tues</td>\n",
       "      <td>5</td>\n",
       "      <td>3</td>\n",
       "      <td>1</td>\n",
       "      <td>53</td>\n",
       "      <td>51</td>\n",
       "      <td>31</td>\n",
       "      <td>6.0</td>\n",
       "      <td>135</td>\n",
       "      <td>...</td>\n",
       "      <td>1.0</td>\n",
       "      <td>1.0</td>\n",
       "      <td>7.0</td>\n",
       "      <td>56</td>\n",
       "      <td>34</td>\n",
       "      <td>18</td>\n",
       "      <td>Odd_to_Even_up</td>\n",
       "      <td>Odd_to_Even_up</td>\n",
       "      <td>Odd_to_Even_up</td>\n",
       "      <td>NoDigitSame</td>\n",
       "    </tr>\n",
       "    <tr>\n",
       "      <th>2018-11-14</th>\n",
       "      <td>648</td>\n",
       "      <td>Weds</td>\n",
       "      <td>6</td>\n",
       "      <td>4</td>\n",
       "      <td>8</td>\n",
       "      <td>64</td>\n",
       "      <td>68</td>\n",
       "      <td>48</td>\n",
       "      <td>5.0</td>\n",
       "      <td>468</td>\n",
       "      <td>...</td>\n",
       "      <td>-1.0</td>\n",
       "      <td>-1.0</td>\n",
       "      <td>-7.0</td>\n",
       "      <td>65</td>\n",
       "      <td>43</td>\n",
       "      <td>81</td>\n",
       "      <td>Even_to_Odd_down</td>\n",
       "      <td>Even_to_Odd_down</td>\n",
       "      <td>Even_to_Odd_down</td>\n",
       "      <td>NoDigitSame</td>\n",
       "    </tr>\n",
       "    <tr>\n",
       "      <th>2018-11-15</th>\n",
       "      <td>531</td>\n",
       "      <td>Thurs</td>\n",
       "      <td>5</td>\n",
       "      <td>3</td>\n",
       "      <td>1</td>\n",
       "      <td>53</td>\n",
       "      <td>51</td>\n",
       "      <td>31</td>\n",
       "      <td>0.0</td>\n",
       "      <td>135</td>\n",
       "      <td>...</td>\n",
       "      <td>0.0</td>\n",
       "      <td>0.0</td>\n",
       "      <td>0.0</td>\n",
       "      <td>50</td>\n",
       "      <td>30</td>\n",
       "      <td>10</td>\n",
       "      <td>Odd_to_Even_down</td>\n",
       "      <td>Odd_to_Even_down</td>\n",
       "      <td>Odd_to_Even_down</td>\n",
       "      <td>NoDigitSame</td>\n",
       "    </tr>\n",
       "  </tbody>\n",
       "</table>\n",
       "<p>5 rows × 22 columns</p>\n",
       "</div>"
      ],
      "text/plain": [
       "           WinNum day_of_week  Digit0  Digit1  Digit2 First2 FirstLast Last2  \\\n",
       "Date                                                                           \n",
       "2018-11-11    790         Sun       7       9       0     79        70    90   \n",
       "2018-11-12    188         Mon       1       8       8     18        18    88   \n",
       "2018-11-13    531        Tues       5       3       1     53        51    31   \n",
       "2018-11-14    648        Weds       6       4       8     64        68    48   \n",
       "2018-11-15    531       Thurs       5       3       1     53        51    31   \n",
       "\n",
       "            ShiftUp0 Combo      ...       ShiftUp0Diff  ShiftUp1Diff  \\\n",
       "Date                            ...                                    \n",
       "2018-11-11       1.0   079      ...               -6.0          -1.0   \n",
       "2018-11-12       5.0   188      ...                4.0          -5.0   \n",
       "2018-11-13       6.0   135      ...                1.0           1.0   \n",
       "2018-11-14       5.0   468      ...               -1.0          -1.0   \n",
       "2018-11-15       0.0   135      ...                0.0           0.0   \n",
       "\n",
       "            ShiftUp2Diff  DayNxDay0  DayNxDay1 DayNxDay2          EvenOdd0  \\\n",
       "Date                                                                         \n",
       "2018-11-11           8.0         71         98        08          Odd_down   \n",
       "2018-11-12          -7.0         15         83        81            Odd_up   \n",
       "2018-11-13           7.0         56         34        18    Odd_to_Even_up   \n",
       "2018-11-14          -7.0         65         43        81  Even_to_Odd_down   \n",
       "2018-11-15           0.0         50         30        10  Odd_to_Even_down   \n",
       "\n",
       "                    EvenOdd1          EvenOdd2      PermComb  \n",
       "Date                                                          \n",
       "2018-11-11  Odd_to_Even_down           Even_up   NoDigitSame  \n",
       "2018-11-12  Even_to_Odd_down  Even_to_Odd_down  TwoDigitSame  \n",
       "2018-11-13    Odd_to_Even_up    Odd_to_Even_up   NoDigitSame  \n",
       "2018-11-14  Even_to_Odd_down  Even_to_Odd_down   NoDigitSame  \n",
       "2018-11-15  Odd_to_Even_down  Odd_to_Even_down   NoDigitSame  \n",
       "\n",
       "[5 rows x 22 columns]"
      ]
     },
     "execution_count": 27,
     "metadata": {},
     "output_type": "execute_result"
    }
   ],
   "source": [
    "df.tail()"
   ]
  },
  {
   "cell_type": "markdown",
   "metadata": {},
   "source": [
    "zero = 0\n",
    "string_in_string = \"Digit{}\".format(zero)\n",
    "print(string_in_string)"
   ]
  },
  {
   "cell_type": "markdown",
   "metadata": {},
   "source": [
    "# Start Data Analysis for 2016-2018"
   ]
  },
  {
   "cell_type": "code",
   "execution_count": 28,
   "metadata": {},
   "outputs": [],
   "source": [
    "#Display options And Customizations\n",
    "#pd.set_option('display.max_columns', None)  # or 1000\n",
    "pd.set_option('display.max_rows', None)  # or 1000\n",
    "#pd.set_option('display.max_colwidth', -1)  # or 199"
   ]
  },
  {
   "cell_type": "code",
   "execution_count": 29,
   "metadata": {},
   "outputs": [],
   "source": [
    "#Ranges used for analysis\n",
    "rng0to99=np.arange(0, 100)\n",
    "rng0to999=np.arange(0, 1000)\n",
    "rng0to999t=[\"%.3d\" % i for i in range(1000)]\n",
    "rng0to99t=[\"%.2d\" % i for i in range(100)]"
   ]
  },
  {
   "cell_type": "code",
   "execution_count": 30,
   "metadata": {},
   "outputs": [
    {
     "name": "stdout",
     "output_type": "stream",
     "text": [
      "Day of year for 2018:  320\n"
     ]
    }
   ],
   "source": [
    "#Get the Day of the Year\n",
    "import time\n",
    "import datetime\n",
    "dayofyr=datetime.date.today().strftime(\"%j\")\n",
    "print(\"Day of year for 2018: \", dayofyr)"
   ]
  },
  {
   "cell_type": "code",
   "execution_count": 31,
   "metadata": {},
   "outputs": [
    {
     "data": {
      "text/plain": [
       "<matplotlib.axes._subplots.AxesSubplot at 0x7f520f95ba90>"
      ]
     },
     "execution_count": 31,
     "metadata": {},
     "output_type": "execute_result"
    },
    {
     "data": {
      "image/png": "[encoded data removed]",
      "text/plain": [
       "<Figure size 864x216 with 1 Axes>"
      ]
     },
     "metadata": {
      "image/png": {
       "height": 193,
       "width": 727
      }
     },
     "output_type": "display_data"
    }
   ],
   "source": [
    "df['2018-11'].Digit0.plot(kind='kde')"
   ]
  },
  {
   "cell_type": "code",
   "execution_count": 32,
   "metadata": {},
   "outputs": [
    {
     "data": {
      "text/plain": [
       "Index(['WinNum', 'day_of_week', 'Digit0', 'Digit1', 'Digit2', 'First2',\n",
       "       'FirstLast', 'Last2', 'ShiftUp0', 'Combo', 'ShiftUp1', 'ShiftUp2',\n",
       "       'ShiftUp0Diff', 'ShiftUp1Diff', 'ShiftUp2Diff', 'DayNxDay0',\n",
       "       'DayNxDay1', 'DayNxDay2', 'EvenOdd0', 'EvenOdd1', 'EvenOdd2',\n",
       "       'PermComb'],\n",
       "      dtype='object')"
      ]
     },
     "execution_count": 32,
     "metadata": {},
     "output_type": "execute_result"
    }
   ],
   "source": [
    "df.columns"
   ]
  },
  {
   "cell_type": "code",
   "execution_count": 61,
   "metadata": {
    "scrolled": true
   },
   "outputs": [
    {
     "data": {
      "image/png": "[encoded data removed]",
      "text/plain": [
       "<Figure size 864x216 with 1 Axes>"
      ]
     },
     "metadata": {
      "image/png": {
       "height": 206,
       "width": 705
      }
     },
     "output_type": "display_data"
    }
   ],
   "source": [
    "#df18[-10:]['ShiftUp0Diff'].plot()\n",
    "#x = df['2018-11'].index.astype(int)\n",
    "#y = df['2018-11']['ShiftUp0Diff'].astype(int)\n",
    "x = df['2018-11-07':'2018-11-15'].index.astype(int)\n",
    "y = df['2018-11-07':'2018-11-15']['ShiftUp0Diff'].astype(int)\n",
    "plt.scatter(x, y)\n",
    "\n",
    "z = np.polyfit(x, y, 1)\n",
    "p = np.poly1d(z)\n",
    "plt.plot(x,p(x),\"r--\")\n",
    "\n",
    "plt.show()"
   ]
  },
  {
   "cell_type": "code",
   "execution_count": 62,
   "metadata": {},
   "outputs": [
    {
     "data": {
      "image/png": "[encoded data removed]",
      "text/plain": [
       "<Figure size 864x216 with 1 Axes>"
      ]
     },
     "metadata": {
      "image/png": {
       "height": 206,
       "width": 697
      }
     },
     "output_type": "display_data"
    }
   ],
   "source": [
    "#df18[-10:]['ShiftUp0Diff'].plot()\n",
    "#x = df['2018-11'].index.astype(int)\n",
    "#y = df['2018-11']['Digit0'].astype(int)\n",
    "x = df['2018-11-07':'2018-11-15'].index.astype(int)\n",
    "y = df['2018-11-07':'2018-11-15']['Digit0'].astype(int)\n",
    "plt.scatter(x, y)\n",
    "\n",
    "z = np.polyfit(x, y, 1)\n",
    "p = np.poly1d(z)\n",
    "plt.plot(x,p(x),\"r--\")\n",
    "\n",
    "plt.show()"
   ]
  },
  {
   "cell_type": "code",
   "execution_count": 90,
   "metadata": {},
   "outputs": [
    {
     "data": {
      "text/plain": [
       "Digit0  DayNxDay0\n",
       "0       01           14\n",
       "        05           14\n",
       "        04           13\n",
       "        00           12\n",
       "1       15           16\n",
       "        11           14\n",
       "        17           12\n",
       "2       25           14\n",
       "        24           12\n",
       "3       35           18\n",
       "        30           13\n",
       "        38           13\n",
       "4       46           19\n",
       "        44           14\n",
       "        48           14\n",
       "        49           12\n",
       "5       52           21\n",
       "        54           16\n",
       "        59           15\n",
       "        55           14\n",
       "        51           13\n",
       "        53           13\n",
       "        58           13\n",
       "6       66           15\n",
       "        63           14\n",
       "        65           13\n",
       "        68           12\n",
       "7       70           18\n",
       "        72           16\n",
       "        75           13\n",
       "8       84           15\n",
       "        87           15\n",
       "        88           14\n",
       "        89           13\n",
       "        80           12\n",
       "9       93           14\n",
       "        95           14\n",
       "Name: DayNxDay0, dtype: int64"
      ]
     },
     "execution_count": 90,
     "metadata": {},
     "output_type": "execute_result"
    }
   ],
   "source": [
    "#Start analysis for first digit\n",
    "#vcGrpByD0=df['2018'].groupby(['Digit0','EvenOdd0'])['DayNxDay0'].value_counts()\n",
    "vcGrpByD0=df.groupby(['Digit0'])['DayNxDay0'].value_counts()\n",
    "vcGrpByD0Mn=vcGrpByD0.mean()\n",
    "vcGrpByD0[vcGrpByD0>vcGrpByD0Mn+1]"
   ]
  },
  {
   "cell_type": "code",
   "execution_count": 65,
   "metadata": {
    "scrolled": true
   },
   "outputs": [
    {
     "data": {
      "image/png": "[encoded data removed]",
      "text/plain": [
       "<Figure size 864x216 with 1 Axes>"
      ]
     },
     "metadata": {
      "image/png": {
       "height": 206,
       "width": 705
      }
     },
     "output_type": "display_data"
    }
   ],
   "source": [
    "#df18[-10:]['ShiftUp0Diff'].plot()\n",
    "#x = df['2018-11'].index.astype(int)\n",
    "#y = df['2018-11']['ShiftUp0Diff'].astype(int)\n",
    "x = df['2018-11-07':'2018-11-15'].index.astype(int)\n",
    "y = df['2018-11-07':'2018-11-15']['ShiftUp1Diff'].astype(int)\n",
    "plt.scatter(x, y)\n",
    "\n",
    "z = np.polyfit(x, y, 1)\n",
    "p = np.poly1d(z)\n",
    "plt.plot(x,p(x),\"r--\")\n",
    "\n",
    "plt.show()"
   ]
  },
  {
   "cell_type": "code",
   "execution_count": 86,
   "metadata": {},
   "outputs": [
    {
     "data": {
      "text/plain": [
       "day_of_week  Digit0\n",
       "Fri          5         13.333333\n",
       "             1         12.666667\n",
       "             8         12.000000\n",
       "             0         10.666667\n",
       "             7         10.666667\n",
       "Mon          4         14.000000\n",
       "             6         12.000000\n",
       "             5         10.666667\n",
       "             8         10.666667\n",
       "Sat          5         14.000000\n",
       "             6         12.666667\n",
       "             4         11.333333\n",
       "             0         10.666667\n",
       "Sun          4         14.000000\n",
       "             3         12.666667\n",
       "             5         11.333333\n",
       "             6         10.666667\n",
       "             7         10.666667\n",
       "Thurs        2         14.000000\n",
       "             5         13.333333\n",
       "             1         12.000000\n",
       "             4         10.666667\n",
       "Tues         8         14.666667\n",
       "             5         13.333333\n",
       "             9         12.666667\n",
       "             3         10.666667\n",
       "Weds         0         12.000000\n",
       "             2         12.000000\n",
       "             5         11.333333\n",
       "             9         11.333333\n",
       "Name: Digit0, dtype: float64"
      ]
     },
     "execution_count": 86,
     "metadata": {},
     "output_type": "execute_result"
    }
   ],
   "source": [
    "#df.groupby('day_of_week').Digit0.mean()\n",
    "#vcdw=df['2018'].groupby(['day_of_week'])['Digit0'].value_counts(normalize=True)*100\n",
    "vcdw=df.groupby(['day_of_week'])['Digit0'].value_counts(normalize=True)*100\n",
    "vcdw[vcdw>vcdw.mean()]"
   ]
  },
  {
   "cell_type": "code",
   "execution_count": 66,
   "metadata": {},
   "outputs": [
    {
     "data": {
      "image/png": "[encoded data removed]",
      "text/plain": [
       "<Figure size 864x216 with 1 Axes>"
      ]
     },
     "metadata": {
      "image/png": {
       "height": 206,
       "width": 697
      }
     },
     "output_type": "display_data"
    }
   ],
   "source": [
    "#df18[-10:]['ShiftUp0Diff'].plot()\n",
    "#x = df['2018-11'].index.astype(int)\n",
    "#y = df['2018-11']['Digit0'].astype(int)\n",
    "x = df['2018-11-07':'2018-11-15'].index.astype(int)\n",
    "y = df['2018-11-07':'2018-11-15']['Digit1'].astype(int)\n",
    "plt.scatter(x, y)\n",
    "\n",
    "z = np.polyfit(x, y, 1)\n",
    "p = np.poly1d(z)\n",
    "plt.plot(x,p(x),\"r--\")\n",
    "\n",
    "plt.show()"
   ]
  },
  {
   "cell_type": "code",
   "execution_count": 36,
   "metadata": {},
   "outputs": [
    {
     "data": {
      "text/plain": [
       "Index(['WinNum', 'day_of_week', 'Digit0', 'Digit1', 'Digit2', 'First2',\n",
       "       'FirstLast', 'Last2', 'ShiftUp0', 'Combo', 'ShiftUp1', 'ShiftUp2',\n",
       "       'ShiftUp0Diff', 'ShiftUp1Diff', 'ShiftUp2Diff', 'DayNxDay0',\n",
       "       'DayNxDay1', 'DayNxDay2', 'EvenOdd0', 'EvenOdd1', 'EvenOdd2',\n",
       "       'PermComb'],\n",
       "      dtype='object')"
      ]
     },
     "execution_count": 36,
     "metadata": {},
     "output_type": "execute_result"
    }
   ],
   "source": [
    "df.columns"
   ]
  },
  {
   "cell_type": "markdown",
   "metadata": {},
   "source": [
    "df['2018-11'][['EvenOdd0', 'EvenOdd1', 'EvenOdd2']].stack().value_counts(normalize=True)*100"
   ]
  },
  {
   "cell_type": "markdown",
   "metadata": {},
   "source": [
    "df['2018'][['Digit0', 'Digit1', 'Digit2']].stack().value_counts()"
   ]
  },
  {
   "cell_type": "code",
   "execution_count": 81,
   "metadata": {},
   "outputs": [
    {
     "data": {
      "text/plain": [
       "Digit1  DayNxDay1\n",
       "0       00           13\n",
       "        07           13\n",
       "        02           12\n",
       "        05           12\n",
       "        01           11\n",
       "1       18           15\n",
       "        11           14\n",
       "        17           13\n",
       "        14           12\n",
       "        16           12\n",
       "        12           11\n",
       "2       26           17\n",
       "        21           16\n",
       "        23           15\n",
       "        24           15\n",
       "        25           14\n",
       "        20           12\n",
       "        27           11\n",
       "        29           11\n",
       "3       30           16\n",
       "        34           16\n",
       "        36           14\n",
       "        37           14\n",
       "        32           11\n",
       "4       42           19\n",
       "        45           11\n",
       "5       52           18\n",
       "        50           13\n",
       "        57           12\n",
       "6       63           16\n",
       "        61           13\n",
       "        62           13\n",
       "        66           13\n",
       "        69           13\n",
       "        65           11\n",
       "7       73           17\n",
       "        72           15\n",
       "        77           15\n",
       "        70           12\n",
       "        78           12\n",
       "8       89           15\n",
       "        83           13\n",
       "        87           13\n",
       "9       92           17\n",
       "        96           13\n",
       "        97           12\n",
       "        99           12\n",
       "        93           11\n",
       "Name: DayNxDay1, dtype: int64"
      ]
     },
     "execution_count": 81,
     "metadata": {},
     "output_type": "execute_result"
    }
   ],
   "source": [
    "vcGrpByD1=df.groupby(['Digit1'])['DayNxDay1'].value_counts()\n",
    "vcGrpByD1[vcGrpByD1>vcGrpByD1.mean()]"
   ]
  },
  {
   "cell_type": "code",
   "execution_count": 67,
   "metadata": {},
   "outputs": [
    {
     "data": {
      "text/plain": [
       "day_of_week  Digit1\n",
       "Fri          3         14.666667\n",
       "             4         12.666667\n",
       "             7         12.666667\n",
       "             2         12.000000\n",
       "             0         10.666667\n",
       "             6         10.000000\n",
       "Mon          7         13.333333\n",
       "             2         12.666667\n",
       "             3         12.000000\n",
       "             5         10.666667\n",
       "             8         10.666667\n",
       "Sat          3         13.333333\n",
       "             1         11.333333\n",
       "             2         11.333333\n",
       "             5         11.333333\n",
       "             4         10.666667\n",
       "             6         10.000000\n",
       "Sun          6         15.333333\n",
       "             9         12.000000\n",
       "             0         11.333333\n",
       "             1         10.666667\n",
       "             7         10.666667\n",
       "Thurs        7         13.333333\n",
       "             8         12.000000\n",
       "             9         11.333333\n",
       "             1         10.666667\n",
       "             2         10.666667\n",
       "             5         10.666667\n",
       "Tues         1         12.666667\n",
       "             2         11.333333\n",
       "             3         11.333333\n",
       "             4         11.333333\n",
       "             6         10.666667\n",
       "             7         10.666667\n",
       "Weds         2         17.333333\n",
       "             0         12.000000\n",
       "             8         10.666667\n",
       "             6         10.000000\n",
       "             9         10.000000\n",
       "Name: Digit1, dtype: float64"
      ]
     },
     "execution_count": 67,
     "metadata": {},
     "output_type": "execute_result"
    }
   ],
   "source": [
    "vcdw1=df.groupby(['day_of_week'])['Digit1'].value_counts(normalize=True)*100\n",
    "vcdw1[vcdw1>vcdw1.mean()]"
   ]
  },
  {
   "cell_type": "code",
   "execution_count": 74,
   "metadata": {},
   "outputs": [
    {
     "data": {
      "text/plain": [
       "Index(['WinNum', 'day_of_week', 'Digit0', 'Digit1', 'Digit2', 'First2',\n",
       "       'FirstLast', 'Last2', 'ShiftUp0', 'Combo', 'ShiftUp1', 'ShiftUp2',\n",
       "       'ShiftUp0Diff', 'ShiftUp1Diff', 'ShiftUp2Diff', 'DayNxDay0',\n",
       "       'DayNxDay1', 'DayNxDay2', 'EvenOdd0', 'EvenOdd1', 'EvenOdd2',\n",
       "       'PermComb'],\n",
       "      dtype='object')"
      ]
     },
     "execution_count": 74,
     "metadata": {},
     "output_type": "execute_result"
    }
   ],
   "source": [
    "df.columns"
   ]
  },
  {
   "cell_type": "code",
   "execution_count": 84,
   "metadata": {},
   "outputs": [
    {
     "data": {
      "text/plain": [
       "Digit2  DayNxDay2\n",
       "0       08           17\n",
       "        03           12\n",
       "        02           11\n",
       "1       18           15\n",
       "        19           13\n",
       "        16           12\n",
       "        11           11\n",
       "        14           11\n",
       "2       26           14\n",
       "        29           14\n",
       "        20           13\n",
       "        22           13\n",
       "        21           11\n",
       "        23           11\n",
       "3       37           13\n",
       "        32           12\n",
       "        36           12\n",
       "        39           11\n",
       "4       47           17\n",
       "        41           15\n",
       "        42           12\n",
       "        40           11\n",
       "        44           11\n",
       "        45           11\n",
       "5       54           19\n",
       "        56           16\n",
       "        59           14\n",
       "        58           12\n",
       "6       66           19\n",
       "        60           18\n",
       "        65           14\n",
       "        62           13\n",
       "        64           13\n",
       "        67           13\n",
       "        61           12\n",
       "        63           11\n",
       "7       76           14\n",
       "        79           14\n",
       "        70           12\n",
       "        71           12\n",
       "        73           12\n",
       "8       86           14\n",
       "        88           14\n",
       "        82           13\n",
       "        84           13\n",
       "        89           12\n",
       "9       97           16\n",
       "        91           14\n",
       "        95           13\n",
       "        92           12\n",
       "        96           11\n",
       "Name: DayNxDay2, dtype: int64"
      ]
     },
     "execution_count": 84,
     "metadata": {},
     "output_type": "execute_result"
    }
   ],
   "source": [
    "vcGrpByD2=df.groupby(['Digit2',''])['DayNxDay2'].value_counts()\n",
    "vcGrpByD2Mn=vcGrpByD2.mean()\n",
    "vcGrpByD2[vcGrpByD2>vcGrpByD2Mn]"
   ]
  },
  {
   "cell_type": "code",
   "execution_count": 69,
   "metadata": {
    "scrolled": true
   },
   "outputs": [
    {
     "data": {
      "image/png": "[encoded data removed]",
      "text/plain": [
       "<Figure size 864x216 with 1 Axes>"
      ]
     },
     "metadata": {
      "image/png": {
       "height": 206,
       "width": 715
      }
     },
     "output_type": "display_data"
    }
   ],
   "source": [
    "#df18[-10:]['ShiftUp0Diff'].plot()\n",
    "#x = df['2018-11'].index.astype(int)\n",
    "#y = df['2018-11']['ShiftUp0Diff'].astype(int)\n",
    "x = df['2018-11-07':'2018-11-15'].index.astype(int)\n",
    "y = df['2018-11-07':'2018-11-15']['ShiftUp2Diff'].astype(int)\n",
    "plt.scatter(x, y)\n",
    "\n",
    "z = np.polyfit(x, y, 1)\n",
    "p = np.poly1d(z)\n",
    "plt.plot(x,p(x),\"r--\")\n",
    "\n",
    "plt.show()"
   ]
  },
  {
   "cell_type": "code",
   "execution_count": 70,
   "metadata": {},
   "outputs": [
    {
     "data": {
      "image/png": "[encoded data removed]",
      "text/plain": [
       "<Figure size 864x216 with 1 Axes>"
      ]
     },
     "metadata": {
      "image/png": {
       "height": 206,
       "width": 697
      }
     },
     "output_type": "display_data"
    }
   ],
   "source": [
    "#df18[-10:]['ShiftUp0Diff'].plot()\n",
    "#x = df['2018-11'].index.astype(int)\n",
    "#y = df['2018-11']['Digit0'].astype(int)\n",
    "x = df['2018-11-07':'2018-11-15'].index.astype(int)\n",
    "y = df['2018-11-07':'2018-11-15']['Digit2'].astype(int)\n",
    "plt.scatter(x, y)\n",
    "\n",
    "z = np.polyfit(x, y, 1)\n",
    "p = np.poly1d(z)\n",
    "plt.plot(x,p(x),\"r--\")\n",
    "\n",
    "plt.show()"
   ]
  },
  {
   "cell_type": "code",
   "execution_count": 68,
   "metadata": {},
   "outputs": [
    {
     "data": {
      "text/plain": [
       "day_of_week  Digit2\n",
       "Fri          4         13.333333\n",
       "             2         12.666667\n",
       "             6         12.000000\n",
       "             9         11.333333\n",
       "             7         10.666667\n",
       "Mon          7         13.333333\n",
       "             8         12.666667\n",
       "             9         12.000000\n",
       "             6         10.666667\n",
       "             1         10.000000\n",
       "             4         10.000000\n",
       "Sat          6         15.333333\n",
       "             0         12.666667\n",
       "             5         12.666667\n",
       "             4         11.333333\n",
       "             7         11.333333\n",
       "Sun          6         12.000000\n",
       "             0         11.333333\n",
       "             1         11.333333\n",
       "             2         11.333333\n",
       "             8         11.333333\n",
       "             4         10.666667\n",
       "             5         10.000000\n",
       "Thurs        1         13.333333\n",
       "             7         12.666667\n",
       "             4         11.333333\n",
       "             5         11.333333\n",
       "             9         10.666667\n",
       "Tues         1         15.333333\n",
       "             7         11.333333\n",
       "             2         10.666667\n",
       "             3         10.666667\n",
       "             8         10.666667\n",
       "Weds         6         16.000000\n",
       "             2         14.666667\n",
       "             8         14.000000\n",
       "             9         13.333333\n",
       "Name: Digit2, dtype: float64"
      ]
     },
     "execution_count": 68,
     "metadata": {},
     "output_type": "execute_result"
    }
   ],
   "source": [
    "vcdw2=df.groupby(['day_of_week'])['Digit2'].value_counts(normalize=True)*100\n",
    "vcdw2[vcdw2>vcdw2.mean()]"
   ]
  },
  {
   "cell_type": "code",
   "execution_count": 93,
   "metadata": {},
   "outputs": [
    {
     "name": "stdout",
     "output_type": "stream",
     "text": [
      "Count of Numbers  54\n",
      "[('4', '7', '6'), ('4', '7', '9'), ('4', '7', '8'), ('4', '7', '2'), ('4', '6', '7'), ('4', '6', '9'), ('4', '6', '8'), ('4', '6', '2'), ('4', '9', '7'), ('4', '9', '6'), ('4', '9', '8'), ('4', '9', '2'), ('4', '8', '7'), ('4', '8', '6'), ('4', '8', '9'), ('4', '8', '2'), ('4', '2', '7'), ('4', '2', '6'), ('4', '2', '9'), ('4', '2', '8'), ('7', '4', '6'), ('7', '4', '9'), ('7', '4', '8'), ('7', '4', '2'), ('7', '6', '4'), ('7', '6', '9'), ('7', '6', '8'), ('7', '6', '2'), ('7', '9', '4'), ('7', '9', '6'), ('7', '9', '8'), ('7', '9', '2'), ('7', '8', '4'), ('7', '8', '6'), ('7', '8', '9'), ('7', '8', '2'), ('7', '2', '4'), ('7', '2', '6'), ('7', '2', '9'), ('7', '2', '8'), ('6', '4', '7'), ('6', '4', '9'), ('6', '4', '8'), ('6', '4', '2'), ('6', '7', '4'), ('6', '7', '9'), ('6', '7', '8'), ('6', '7', '2'), ('6', '9', '4'), ('6', '9', '7'), ('6', '9', '8'), ('6', '9', '2'), ('6', '8', '4'), ('6', '8', '7'), ('6', '8', '9'), ('6', '8', '2'), ('6', '2', '4'), ('6', '2', '7'), ('6', '2', '9'), ('6', '2', '8'), ('9', '4', '7'), ('9', '4', '6'), ('9', '4', '8'), ('9', '4', '2'), ('9', '7', '4'), ('9', '7', '6'), ('9', '7', '8'), ('9', '7', '2'), ('9', '6', '4'), ('9', '6', '7'), ('9', '6', '8'), ('9', '6', '2'), ('9', '8', '4'), ('9', '8', '7'), ('9', '8', '6'), ('9', '8', '2'), ('9', '2', '4'), ('9', '2', '7'), ('9', '2', '6'), ('9', '2', '8'), ('8', '4', '7'), ('8', '4', '6'), ('8', '4', '9'), ('8', '4', '2'), ('8', '7', '4'), ('8', '7', '6'), ('8', '7', '9'), ('8', '7', '2'), ('8', '6', '4'), ('8', '6', '7'), ('8', '6', '9'), ('8', '6', '2'), ('8', '9', '4'), ('8', '9', '7'), ('8', '9', '6'), ('8', '9', '2'), ('8', '2', '4'), ('8', '2', '7'), ('8', '2', '6'), ('8', '2', '9'), ('2', '4', '7'), ('2', '4', '6'), ('2', '4', '9'), ('2', '4', '8'), ('2', '7', '4'), ('2', '7', '6'), ('2', '7', '9'), ('2', '7', '8'), ('2', '6', '4'), ('2', '6', '7'), ('2', '6', '9'), ('2', '6', '8'), ('2', '9', '4'), ('2', '9', '7'), ('2', '9', '6'), ('2', '9', '8'), ('2', '8', '4'), ('2', '8', '7'), ('2', '8', '6'), ('2', '8', '9')]\n"
     ]
    }
   ],
   "source": [
    "#Numbers to Play based on Analysis\n",
    "\n",
    "\n",
    "import itertools\n",
    "results=[]\n",
    "a = [ '9','8','7']\n",
    "b = ['4' ,'6','7']\n",
    "c = ['4','7','6','9','8','2']\n",
    "for r in itertools.product(a, b, c):\n",
    "    results.append(r[0] + r[1]+ r[2])\n",
    "    \n",
    "print(\"Count of Numbers \", len(results))\n",
    "results = list(map(int, results))\n",
    "#print(results)\n",
    "print(list(itertools.permutations(['4','7','6','9','8','2'], 3)))\n",
    "\n",
    "#digit0[2,3,4,5]  digit1 [0,6,2,7]"
   ]
  },
  {
   "cell_type": "markdown",
   "metadata": {},
   "source": [
    "# Numbers To Play"
   ]
  },
  {
   "cell_type": "code",
   "execution_count": 92,
   "metadata": {},
   "outputs": [
    {
     "name": "stdout",
     "output_type": "stream",
     "text": [
      "Count of Numbers  54\n",
      "[944, 947, 946, 949, 948, 942, 964, 967, 966, 969, 968, 962, 974, 977, 976, 979, 978, 972, 844, 847, 846, 849, 848, 842, 864, 867, 866, 869, 868, 862, 874, 877, 876, 879, 878, 872, 744, 747, 746, 749, 748, 742, 764, 767, 766, 769, 768, 762, 774, 777, 776, 779, 778, 772]\n"
     ]
    }
   ],
   "source": [
    "#Numbers to Play based on Analysis\n",
    "\n",
    "import itertools\n",
    "results=[]\n",
    "a = [ '9','8','7']\n",
    "b = ['4' ,'6','7']\n",
    "c = ['4','7','6','9','8','2']\n",
    "for r in itertools.product(a, b, c):\n",
    "    results.append(r[0] + r[1]+ r[2])\n",
    "    \n",
    "print(\"Count of Numbers \", len(results))\n",
    "results = list(map(int, results))\n",
    "print(results)\n",
    "\n",
    "#digit0[2,3,4,5]  digit1 [0,6,2,7]"
   ]
  },
  {
   "cell_type": "code",
   "execution_count": 94,
   "metadata": {},
   "outputs": [
    {
     "name": "stdout",
     "output_type": "stream",
     "text": [
      "Count of Numbers Played Twice from 2016-2018: 364\n",
      "Count of Numbers Not Played from 2016-2018: 350\n",
      "[2, 3, 8, 14, 15, 18, 23, 27, 32, 42, 43, 45, 49, 51, 52, 53, 55, 60, 62, 67, 75, 79, 81, 83, 84, 86, 91, 93, 97, 99, 101, 105, 109, 111, 116, 117, 120, 121, 122, 123, 124, 126, 130, 131, 134, 137, 138, 141, 142, 143, 146, 150, 155, 156, 158, 160, 163, 167, 168, 171, 174, 175, 182, 185, 186, 192, 198, 199, 205, 208, 213, 214, 216, 218, 222, 224, 225, 233, 239, 240, 241, 243, 245, 248, 251, 255, 256, 260, 263, 265, 266, 267, 270, 271, 277, 282, 283, 284, 285, 290, 297, 300, 302, 304, 310, 314, 315, 317, 320, 323, 327, 330, 331, 333, 337, 341, 345, 349, 355, 356, 360, 363, 364, 366, 371, 372, 373, 374, 379, 382, 383, 384, 387, 388, 389, 393, 395, 397, 398, 400, 402, 406, 421, 427, 428, 431, 433, 434, 437, 439, 440, 441, 442, 449, 451, 453, 458, 460, 463, 465, 466, 467, 471, 472, 476, 477, 479, 484, 485, 486, 488, 489, 491, 497, 498, 501, 502, 504, 509, 517, 518, 519, 528, 532, 539, 542, 551, 552, 553, 560, 563, 570, 571, 575, 581, 583, 585, 587, 589, 591, 593, 595, 600, 601, 604, 607, 613, 615, 616, 619, 620, 622, 623, 627, 628, 630, 632, 635, 636, 639, 641, 642, 650, 651, 653, 655, 659, 665, 666, 668, 670, 672, 679, 680, 681, 683, 686, 690, 693, 694, 698, 700, 703, 704, 705, 707, 709, 711, 714, 715, 717, 718, 721, 722, 724, 725, 728, 734, 735, 736, 737, 739, 742, 744, 745, 749, 751, 752, 754, 755, 759, 767, 772, 780, 783, 785, 787, 788, 789, 797, 800, 804, 813, 814, 815, 819, 820, 825, 840, 841, 843, 844, 845, 848, 849, 851, 853, 855, 859, 863, 864, 865, 868, 873, 881, 885, 886, 887, 892, 895, 898, 899, 900, 901, 904, 907, 908, 910, 913, 925, 928, 930, 931, 932, 933, 937, 939, 940, 941, 954, 956, 957, 958, 962, 967, 968, 970, 972, 973, 976, 979, 981, 984, 986, 990, 992, 993, 995, 998, 999]\n"
     ]
    }
   ],
   "source": [
    "#Picked 3 Numbers Not Picked from 2016-2018\n",
    "vcWinNum=df.WinNum.astype(int).value_counts().sort_index()\n",
    "NumNotPlayed=set(vcWinNum.index).symmetric_difference(np.arange(0, 1000))\n",
    "print(\"Count of Numbers Played Twice from 2016-2018:\" ,len(vcWinNum[vcWinNum<vcWinNum.mean()]))\n",
    "#print(len(vcWinNum[vcWinNum==2]))\n",
    "print(\"Count of Numbers Not Played from 2016-2018:\" ,len(NumNotPlayed))\n",
    "\n",
    "NumNotPlayed = list(map(int, NumNotPlayed))\n",
    "print(NumNotPlayed)\n"
   ]
  },
  {
   "cell_type": "code",
   "execution_count": 95,
   "metadata": {},
   "outputs": [
    {
     "name": "stdout",
     "output_type": "stream",
     "text": [
      "Count of numbers to play: 16\n",
      "{864, 962, 868, 772, 742, 967, 968, 744, 972, 844, 749, 976, 849, 848, 979, 767}\n"
     ]
    }
   ],
   "source": [
    "#Generated List vs Numbers Not Played to filter numbers to play All data 2016 -2018\n",
    "print(\"Count of numbers to play:\",len(set(NumNotPlayed).intersection(results)))\n",
    "print(set(NumNotPlayed).intersection(results))"
   ]
  },
  {
   "cell_type": "code",
   "execution_count": null,
   "metadata": {
    "scrolled": true
   },
   "outputs": [],
   "source": [
    "#Generated List vs Numbers Not Played to filter numbers to play for data 2018\n",
    "print(\"Count of numbers to play:\",len(set(NumNotPlayed).intersection(results)))\n",
    "print(set(NumNotPlayed).intersection(results))"
   ]
  },
  {
   "cell_type": "code",
   "execution_count": 100,
   "metadata": {},
   "outputs": [
    {
     "name": "stdout",
     "output_type": "stream",
     "text": [
      "Count of Digit pulled 4\n"
     ]
    },
    {
     "data": {
      "text/html": [
       "<div>\n",
       "<style scoped>\n",
       "    .dataframe tbody tr th:only-of-type {\n",
       "        vertical-align: middle;\n",
       "    }\n",
       "\n",
       "    .dataframe tbody tr th {\n",
       "        vertical-align: top;\n",
       "    }\n",
       "\n",
       "    .dataframe thead th {\n",
       "        text-align: right;\n",
       "    }\n",
       "</style>\n",
       "<table border=\"1\" class=\"dataframe\">\n",
       "  <thead>\n",
       "    <tr style=\"text-align: right;\">\n",
       "      <th></th>\n",
       "      <th>WinNum</th>\n",
       "      <th>day_of_week</th>\n",
       "      <th>Digit0</th>\n",
       "      <th>Digit1</th>\n",
       "      <th>Digit2</th>\n",
       "      <th>First2</th>\n",
       "      <th>FirstLast</th>\n",
       "      <th>Last2</th>\n",
       "      <th>ShiftUp0</th>\n",
       "      <th>Combo</th>\n",
       "      <th>...</th>\n",
       "      <th>ShiftUp0Diff</th>\n",
       "      <th>ShiftUp1Diff</th>\n",
       "      <th>ShiftUp2Diff</th>\n",
       "      <th>DayNxDay0</th>\n",
       "      <th>DayNxDay1</th>\n",
       "      <th>DayNxDay2</th>\n",
       "      <th>EvenOdd0</th>\n",
       "      <th>EvenOdd1</th>\n",
       "      <th>EvenOdd2</th>\n",
       "      <th>PermComb</th>\n",
       "    </tr>\n",
       "    <tr>\n",
       "      <th>Date</th>\n",
       "      <th></th>\n",
       "      <th></th>\n",
       "      <th></th>\n",
       "      <th></th>\n",
       "      <th></th>\n",
       "      <th></th>\n",
       "      <th></th>\n",
       "      <th></th>\n",
       "      <th></th>\n",
       "      <th></th>\n",
       "      <th></th>\n",
       "      <th></th>\n",
       "      <th></th>\n",
       "      <th></th>\n",
       "      <th></th>\n",
       "      <th></th>\n",
       "      <th></th>\n",
       "      <th></th>\n",
       "      <th></th>\n",
       "      <th></th>\n",
       "      <th></th>\n",
       "    </tr>\n",
       "  </thead>\n",
       "  <tbody>\n",
       "    <tr>\n",
       "      <th>2018-09-01</th>\n",
       "      <td>535</td>\n",
       "      <td>Sat</td>\n",
       "      <td>5</td>\n",
       "      <td>3</td>\n",
       "      <td>5</td>\n",
       "      <td>53</td>\n",
       "      <td>55</td>\n",
       "      <td>35</td>\n",
       "      <td>6.0</td>\n",
       "      <td>355</td>\n",
       "      <td>...</td>\n",
       "      <td>1.0</td>\n",
       "      <td>3.0</td>\n",
       "      <td>-1.0</td>\n",
       "      <td>56</td>\n",
       "      <td>36</td>\n",
       "      <td>54</td>\n",
       "      <td>[]</td>\n",
       "      <td>[]</td>\n",
       "      <td>[]</td>\n",
       "      <td>TwoDigitSame</td>\n",
       "    </tr>\n",
       "    <tr>\n",
       "      <th>2018-09-09</th>\n",
       "      <td>533</td>\n",
       "      <td>Sun</td>\n",
       "      <td>5</td>\n",
       "      <td>3</td>\n",
       "      <td>3</td>\n",
       "      <td>53</td>\n",
       "      <td>53</td>\n",
       "      <td>33</td>\n",
       "      <td>7.0</td>\n",
       "      <td>335</td>\n",
       "      <td>...</td>\n",
       "      <td>2.0</td>\n",
       "      <td>-1.0</td>\n",
       "      <td>4.0</td>\n",
       "      <td>57</td>\n",
       "      <td>32</td>\n",
       "      <td>37</td>\n",
       "      <td>[]</td>\n",
       "      <td>[]</td>\n",
       "      <td>[]</td>\n",
       "      <td>TwoDigitSame</td>\n",
       "    </tr>\n",
       "    <tr>\n",
       "      <th>2018-11-13</th>\n",
       "      <td>531</td>\n",
       "      <td>Tues</td>\n",
       "      <td>5</td>\n",
       "      <td>3</td>\n",
       "      <td>1</td>\n",
       "      <td>53</td>\n",
       "      <td>51</td>\n",
       "      <td>31</td>\n",
       "      <td>6.0</td>\n",
       "      <td>135</td>\n",
       "      <td>...</td>\n",
       "      <td>1.0</td>\n",
       "      <td>1.0</td>\n",
       "      <td>7.0</td>\n",
       "      <td>56</td>\n",
       "      <td>34</td>\n",
       "      <td>18</td>\n",
       "      <td>[]</td>\n",
       "      <td>[]</td>\n",
       "      <td>[]</td>\n",
       "      <td>NoDigitSame</td>\n",
       "    </tr>\n",
       "    <tr>\n",
       "      <th>2018-11-15</th>\n",
       "      <td>531</td>\n",
       "      <td>Thurs</td>\n",
       "      <td>5</td>\n",
       "      <td>3</td>\n",
       "      <td>1</td>\n",
       "      <td>53</td>\n",
       "      <td>51</td>\n",
       "      <td>31</td>\n",
       "      <td>0.0</td>\n",
       "      <td>135</td>\n",
       "      <td>...</td>\n",
       "      <td>0.0</td>\n",
       "      <td>0.0</td>\n",
       "      <td>0.0</td>\n",
       "      <td>50</td>\n",
       "      <td>30</td>\n",
       "      <td>10</td>\n",
       "      <td>[]</td>\n",
       "      <td>[]</td>\n",
       "      <td>[]</td>\n",
       "      <td>NoDigitSame</td>\n",
       "    </tr>\n",
       "  </tbody>\n",
       "</table>\n",
       "<p>4 rows × 22 columns</p>\n",
       "</div>"
      ],
      "text/plain": [
       "           WinNum day_of_week  Digit0  Digit1  Digit2 First2 FirstLast Last2  \\\n",
       "Date                                                                           \n",
       "2018-09-01    535         Sat       5       3       5     53        55    35   \n",
       "2018-09-09    533         Sun       5       3       3     53        53    33   \n",
       "2018-11-13    531        Tues       5       3       1     53        51    31   \n",
       "2018-11-15    531       Thurs       5       3       1     53        51    31   \n",
       "\n",
       "            ShiftUp0 Combo      ...       ShiftUp0Diff  ShiftUp1Diff  \\\n",
       "Date                            ...                                    \n",
       "2018-09-01       6.0   355      ...                1.0           3.0   \n",
       "2018-09-09       7.0   335      ...                2.0          -1.0   \n",
       "2018-11-13       6.0   135      ...                1.0           1.0   \n",
       "2018-11-15       0.0   135      ...                0.0           0.0   \n",
       "\n",
       "            ShiftUp2Diff  DayNxDay0  DayNxDay1 DayNxDay2 EvenOdd0 EvenOdd1  \\\n",
       "Date                                                                         \n",
       "2018-09-01          -1.0         56         36        54       []       []   \n",
       "2018-09-09           4.0         57         32        37       []       []   \n",
       "2018-11-13           7.0         56         34        18       []       []   \n",
       "2018-11-15           0.0         50         30        10       []       []   \n",
       "\n",
       "           EvenOdd2      PermComb  \n",
       "Date                               \n",
       "2018-09-01       []  TwoDigitSame  \n",
       "2018-09-09       []  TwoDigitSame  \n",
       "2018-11-13       []   NoDigitSame  \n",
       "2018-11-15       []   NoDigitSame  \n",
       "\n",
       "[4 rows x 22 columns]"
      ]
     },
     "execution_count": 100,
     "metadata": {},
     "output_type": "execute_result"
    }
   ],
   "source": [
    "#Able to search for a First2 data\n",
    "print('Count of Digit pulled', len(df['2018'][df['2018']['First2'] == '53']))\n",
    "df['2018'][df['2018']['First2'] == '53']"
   ]
  },
  {
   "cell_type": "code",
   "execution_count": 102,
   "metadata": {},
   "outputs": [
    {
     "name": "stdout",
     "output_type": "stream",
     "text": [
      "Count of Digit pulled 0\n"
     ]
    },
    {
     "data": {
      "text/html": [
       "<div>\n",
       "<style scoped>\n",
       "    .dataframe tbody tr th:only-of-type {\n",
       "        vertical-align: middle;\n",
       "    }\n",
       "\n",
       "    .dataframe tbody tr th {\n",
       "        vertical-align: top;\n",
       "    }\n",
       "\n",
       "    .dataframe thead th {\n",
       "        text-align: right;\n",
       "    }\n",
       "</style>\n",
       "<table border=\"1\" class=\"dataframe\">\n",
       "  <thead>\n",
       "    <tr style=\"text-align: right;\">\n",
       "      <th></th>\n",
       "      <th>WinNum</th>\n",
       "      <th>day_of_week</th>\n",
       "      <th>Digit0</th>\n",
       "      <th>Digit1</th>\n",
       "      <th>Digit2</th>\n",
       "      <th>First2</th>\n",
       "      <th>FirstLast</th>\n",
       "      <th>Last2</th>\n",
       "      <th>ShiftUp0</th>\n",
       "      <th>Combo</th>\n",
       "      <th>...</th>\n",
       "      <th>ShiftUp0Diff</th>\n",
       "      <th>ShiftUp1Diff</th>\n",
       "      <th>ShiftUp2Diff</th>\n",
       "      <th>DayNxDay0</th>\n",
       "      <th>DayNxDay1</th>\n",
       "      <th>DayNxDay2</th>\n",
       "      <th>EvenOdd0</th>\n",
       "      <th>EvenOdd1</th>\n",
       "      <th>EvenOdd2</th>\n",
       "      <th>PermComb</th>\n",
       "    </tr>\n",
       "    <tr>\n",
       "      <th>Date</th>\n",
       "      <th></th>\n",
       "      <th></th>\n",
       "      <th></th>\n",
       "      <th></th>\n",
       "      <th></th>\n",
       "      <th></th>\n",
       "      <th></th>\n",
       "      <th></th>\n",
       "      <th></th>\n",
       "      <th></th>\n",
       "      <th></th>\n",
       "      <th></th>\n",
       "      <th></th>\n",
       "      <th></th>\n",
       "      <th></th>\n",
       "      <th></th>\n",
       "      <th></th>\n",
       "      <th></th>\n",
       "      <th></th>\n",
       "      <th></th>\n",
       "      <th></th>\n",
       "    </tr>\n",
       "  </thead>\n",
       "  <tbody>\n",
       "  </tbody>\n",
       "</table>\n",
       "<p>0 rows × 22 columns</p>\n",
       "</div>"
      ],
      "text/plain": [
       "Empty DataFrame\n",
       "Columns: [WinNum, day_of_week, Digit0, Digit1, Digit2, First2, FirstLast, Last2, ShiftUp0, Combo, ShiftUp1, ShiftUp2, ShiftUp0Diff, ShiftUp1Diff, ShiftUp2Diff, DayNxDay0, DayNxDay1, DayNxDay2, EvenOdd0, EvenOdd1, EvenOdd2, PermComb]\n",
       "Index: []\n",
       "\n",
       "[0 rows x 22 columns]"
      ]
     },
     "execution_count": 102,
     "metadata": {},
     "output_type": "execute_result"
    }
   ],
   "source": [
    "#Able to search for a First2 data\n",
    "print('Count of Digit pulled', len(df[df['WinNum'] == '976']))\n",
    "df[df['WinNum'] == '976']"
   ]
  },
  {
   "cell_type": "code",
   "execution_count": 113,
   "metadata": {},
   "outputs": [
    {
     "data": {
      "text/plain": [
       "<matplotlib.axes._subplots.AxesSubplot at 0x7f520b174550>"
      ]
     },
     "execution_count": 113,
     "metadata": {},
     "output_type": "execute_result"
    },
    {
     "data": {
      "image/png": "[encoded data removed]",
      "text/plain": [
       "<Figure size 864x216 with 1 Axes>"
      ]
     },
     "metadata": {
      "image/png": {
       "height": 190,
       "width": 713
      }
     },
     "output_type": "display_data"
    }
   ],
   "source": [
    "df['2018-04':'2018-11'].Digit0.value_counts(normalize=True).plot(kind='bar')"
   ]
  },
  {
   "cell_type": "code",
   "execution_count": null,
   "metadata": {},
   "outputs": [],
   "source": []
  }
 ],
 "metadata": {
  "kernelspec": {
   "display_name": "Python 3",
   "language": "python",
   "name": "python3"
  },
  "language_info": {
   "codemirror_mode": {
    "name": "ipython",
    "version": 3
   },
   "file_extension": ".py",
   "mimetype": "text/x-python",
   "name": "python",
   "nbconvert_exporter": "python",
   "pygments_lexer": "ipython3",
   "version": "3.6.5"
  }
 },
 "nbformat": 4,
 "nbformat_minor": 2
}
