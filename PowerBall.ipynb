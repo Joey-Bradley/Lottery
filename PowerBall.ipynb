{
 "cells": [
  {
   "cell_type": "markdown",
   "metadata": {},
   "source": [
    "# Reading the Web Page into Python"
   ]
  },
  {
   "cell_type": "markdown",
   "metadata": {},
   "source": [
    "*/Powerball® costs $2 per play. \n",
    "\n",
    "Select five numbers from 1 to 69 for the white balls; then select one number from 1 to 26 for the red Powerball.\n",
    "\n",
    "Choose your numbers on a play slip or let the lottery terminal randomly pick your numbers.\n",
    "\n",
    "Jackpots start at $40 million and grow from there!\n",
    "\n",
    "Players win a prize by matching one of the 9 Ways to Win./*"
   ]
  },
  {
   "cell_type": "code",
   "execution_count": 1,
   "metadata": {},
   "outputs": [],
   "source": [
    "import requests\n",
    "import pandas as pd\n",
    "import numpy as np\n",
    "\n",
    "# url with data\n",
    "r = requests.get('https://www.lotteryusa.com/powerball/pb-year.html')\n"
   ]
  },
  {
   "cell_type": "code",
   "execution_count": 2,
   "metadata": {},
   "outputs": [],
   "source": [
    "%matplotlib inline\n",
    "import seaborn as sns\n",
    "import matplotlib.pyplot as plt"
   ]
  },
  {
   "cell_type": "code",
   "execution_count": 3,
   "metadata": {},
   "outputs": [],
   "source": [
    "from bs4 import BeautifulSoup\n",
    "soup = BeautifulSoup(r.text, 'html.parser')"
   ]
  },
  {
   "cell_type": "code",
   "execution_count": 4,
   "metadata": {},
   "outputs": [],
   "source": [
    "# Get table data and load in a pandas data frame\n",
    "\n",
    "table = soup.find_all('table')[0] \n",
    "df = pd.read_html(str(table))[0]"
   ]
  },
  {
   "cell_type": "code",
   "execution_count": 5,
   "metadata": {},
   "outputs": [],
   "source": [
    "# Remove all rows with nulls\n",
    "df.dropna(inplace=True)"
   ]
  },
  {
   "cell_type": "code",
   "execution_count": 7,
   "metadata": {},
   "outputs": [
    {
     "data": {
      "text/html": [
       "<div>\n",
       "<style scoped>\n",
       "    .dataframe tbody tr th:only-of-type {\n",
       "        vertical-align: middle;\n",
       "    }\n",
       "\n",
       "    .dataframe tbody tr th {\n",
       "        vertical-align: top;\n",
       "    }\n",
       "\n",
       "    .dataframe thead th {\n",
       "        text-align: right;\n",
       "    }\n",
       "</style>\n",
       "<table border=\"1\" class=\"dataframe\">\n",
       "  <thead>\n",
       "    <tr style=\"text-align: right;\">\n",
       "      <th></th>\n",
       "      <th>Date</th>\n",
       "      <th>Result</th>\n",
       "      <th>Jackpot</th>\n",
       "    </tr>\n",
       "  </thead>\n",
       "  <tbody>\n",
       "    <tr>\n",
       "      <th>1</th>\n",
       "      <td>Wednesday, Mar 18, 2020</td>\n",
       "      <td>15 27 44 59 63  PB: 8  Power Play: 4</td>\n",
       "      <td>Est. Jackpot  $130 Million</td>\n",
       "    </tr>\n",
       "    <tr>\n",
       "      <th>4</th>\n",
       "      <td>Saturday, Mar 14, 2020</td>\n",
       "      <td>9 23 26 30 32  PB: 8  Power Play: 3</td>\n",
       "      <td>Est. Jackpot  $120 Million</td>\n",
       "    </tr>\n",
       "    <tr>\n",
       "      <th>5</th>\n",
       "      <td>Wednesday, Mar 11, 2020</td>\n",
       "      <td>4 29 49 50 67  PB: 2  Power Play: 4</td>\n",
       "      <td>Est. Jackpot  $110 Million</td>\n",
       "    </tr>\n",
       "    <tr>\n",
       "      <th>6</th>\n",
       "      <td>Saturday, Mar 07, 2020</td>\n",
       "      <td>7 15 21 33 62  PB: 23  Power Play: 2</td>\n",
       "      <td>Est. Jackpot  $100 Million</td>\n",
       "    </tr>\n",
       "    <tr>\n",
       "      <th>7</th>\n",
       "      <td>Wednesday, Mar 04, 2020</td>\n",
       "      <td>18 43 58 60 68  PB: 14  Power Play: 2</td>\n",
       "      <td>Est. Jackpot  $90 Million</td>\n",
       "    </tr>\n",
       "  </tbody>\n",
       "</table>\n",
       "</div>"
      ],
      "text/plain": [
       "                      Date                                 Result  \\\n",
       "1  Wednesday, Mar 18, 2020   15 27 44 59 63  PB: 8  Power Play: 4   \n",
       "4   Saturday, Mar 14, 2020    9 23 26 30 32  PB: 8  Power Play: 3   \n",
       "5  Wednesday, Mar 11, 2020    4 29 49 50 67  PB: 2  Power Play: 4   \n",
       "6   Saturday, Mar 07, 2020   7 15 21 33 62  PB: 23  Power Play: 2   \n",
       "7  Wednesday, Mar 04, 2020  18 43 58 60 68  PB: 14  Power Play: 2   \n",
       "\n",
       "                      Jackpot  \n",
       "1  Est. Jackpot  $130 Million  \n",
       "4  Est. Jackpot  $120 Million  \n",
       "5  Est. Jackpot  $110 Million  \n",
       "6  Est. Jackpot  $100 Million  \n",
       "7   Est. Jackpot  $90 Million  "
      ]
     },
     "execution_count": 7,
     "metadata": {},
     "output_type": "execute_result"
    }
   ],
   "source": [
    "df.head()"
   ]
  },
  {
   "cell_type": "code",
   "execution_count": 8,
   "metadata": {},
   "outputs": [],
   "source": [
    "# Remove the 'Date' and \"Jackpot\" columns\n",
    "#df.drop(['Date', 'Jackpot'], axis=1, inplace= True)\n",
    "df.drop(['Jackpot'], axis=1, inplace= True)"
   ]
  },
  {
   "cell_type": "code",
   "execution_count": 9,
   "metadata": {},
   "outputs": [
    {
     "data": {
      "text/html": [
       "<div>\n",
       "<style scoped>\n",
       "    .dataframe tbody tr th:only-of-type {\n",
       "        vertical-align: middle;\n",
       "    }\n",
       "\n",
       "    .dataframe tbody tr th {\n",
       "        vertical-align: top;\n",
       "    }\n",
       "\n",
       "    .dataframe thead th {\n",
       "        text-align: right;\n",
       "    }\n",
       "</style>\n",
       "<table border=\"1\" class=\"dataframe\">\n",
       "  <thead>\n",
       "    <tr style=\"text-align: right;\">\n",
       "      <th></th>\n",
       "      <th>Date</th>\n",
       "      <th>Result</th>\n",
       "    </tr>\n",
       "  </thead>\n",
       "  <tbody>\n",
       "    <tr>\n",
       "      <th>1</th>\n",
       "      <td>Wednesday, Mar 18, 2020</td>\n",
       "      <td>15 27 44 59 63  PB: 8  Power Play: 4</td>\n",
       "    </tr>\n",
       "    <tr>\n",
       "      <th>4</th>\n",
       "      <td>Saturday, Mar 14, 2020</td>\n",
       "      <td>9 23 26 30 32  PB: 8  Power Play: 3</td>\n",
       "    </tr>\n",
       "    <tr>\n",
       "      <th>5</th>\n",
       "      <td>Wednesday, Mar 11, 2020</td>\n",
       "      <td>4 29 49 50 67  PB: 2  Power Play: 4</td>\n",
       "    </tr>\n",
       "    <tr>\n",
       "      <th>6</th>\n",
       "      <td>Saturday, Mar 07, 2020</td>\n",
       "      <td>7 15 21 33 62  PB: 23  Power Play: 2</td>\n",
       "    </tr>\n",
       "    <tr>\n",
       "      <th>7</th>\n",
       "      <td>Wednesday, Mar 04, 2020</td>\n",
       "      <td>18 43 58 60 68  PB: 14  Power Play: 2</td>\n",
       "    </tr>\n",
       "  </tbody>\n",
       "</table>\n",
       "</div>"
      ],
      "text/plain": [
       "                      Date                                 Result\n",
       "1  Wednesday, Mar 18, 2020   15 27 44 59 63  PB: 8  Power Play: 4\n",
       "4   Saturday, Mar 14, 2020    9 23 26 30 32  PB: 8  Power Play: 3\n",
       "5  Wednesday, Mar 11, 2020    4 29 49 50 67  PB: 2  Power Play: 4\n",
       "6   Saturday, Mar 07, 2020   7 15 21 33 62  PB: 23  Power Play: 2\n",
       "7  Wednesday, Mar 04, 2020  18 43 58 60 68  PB: 14  Power Play: 2"
      ]
     },
     "execution_count": 9,
     "metadata": {},
     "output_type": "execute_result"
    }
   ],
   "source": [
    "df.head()"
   ]
  },
  {
   "cell_type": "code",
   "execution_count": 10,
   "metadata": {},
   "outputs": [],
   "source": [
    "# Expand 'Result' Column into multiple columns\n",
    "df = df.join(df['Result'].str.split(' ', expand=True).add_prefix('D'))"
   ]
  },
  {
   "cell_type": "code",
   "execution_count": null,
   "metadata": {},
   "outputs": [],
   "source": []
  },
  {
   "cell_type": "code",
   "execution_count": 11,
   "metadata": {},
   "outputs": [],
   "source": [
    "# Remove the 'Result' columns\n",
    "df.drop(['Result', 'D5','D6','D8', 'D9', 'D10', 'D11'], axis=1, inplace= True)"
   ]
  },
  {
   "cell_type": "code",
   "execution_count": 12,
   "metadata": {},
   "outputs": [],
   "source": [
    "#Convert 'Date' column to actual dates\n",
    "df['Date']=pd.to_datetime(df['Date'])"
   ]
  },
  {
   "cell_type": "code",
   "execution_count": 13,
   "metadata": {},
   "outputs": [],
   "source": [
    "# Set Date column as index\n",
    "df.set_index('Date', inplace=True)\n"
   ]
  },
  {
   "cell_type": "code",
   "execution_count": 14,
   "metadata": {},
   "outputs": [],
   "source": [
    "df.index.name = None"
   ]
  },
  {
   "cell_type": "code",
   "execution_count": 15,
   "metadata": {},
   "outputs": [
    {
     "data": {
      "text/html": [
       "<div>\n",
       "<style scoped>\n",
       "    .dataframe tbody tr th:only-of-type {\n",
       "        vertical-align: middle;\n",
       "    }\n",
       "\n",
       "    .dataframe tbody tr th {\n",
       "        vertical-align: top;\n",
       "    }\n",
       "\n",
       "    .dataframe thead th {\n",
       "        text-align: right;\n",
       "    }\n",
       "</style>\n",
       "<table border=\"1\" class=\"dataframe\">\n",
       "  <thead>\n",
       "    <tr style=\"text-align: right;\">\n",
       "      <th></th>\n",
       "      <th>D0</th>\n",
       "      <th>D1</th>\n",
       "      <th>D2</th>\n",
       "      <th>D3</th>\n",
       "      <th>D4</th>\n",
       "      <th>D7</th>\n",
       "    </tr>\n",
       "  </thead>\n",
       "  <tbody>\n",
       "    <tr>\n",
       "      <th>2020-03-18</th>\n",
       "      <td>15</td>\n",
       "      <td>27</td>\n",
       "      <td>44</td>\n",
       "      <td>59</td>\n",
       "      <td>63</td>\n",
       "      <td>8</td>\n",
       "    </tr>\n",
       "    <tr>\n",
       "      <th>2020-03-14</th>\n",
       "      <td>9</td>\n",
       "      <td>23</td>\n",
       "      <td>26</td>\n",
       "      <td>30</td>\n",
       "      <td>32</td>\n",
       "      <td>8</td>\n",
       "    </tr>\n",
       "    <tr>\n",
       "      <th>2020-03-11</th>\n",
       "      <td>4</td>\n",
       "      <td>29</td>\n",
       "      <td>49</td>\n",
       "      <td>50</td>\n",
       "      <td>67</td>\n",
       "      <td>2</td>\n",
       "    </tr>\n",
       "    <tr>\n",
       "      <th>2020-03-07</th>\n",
       "      <td>7</td>\n",
       "      <td>15</td>\n",
       "      <td>21</td>\n",
       "      <td>33</td>\n",
       "      <td>62</td>\n",
       "      <td>23</td>\n",
       "    </tr>\n",
       "    <tr>\n",
       "      <th>2020-03-04</th>\n",
       "      <td>18</td>\n",
       "      <td>43</td>\n",
       "      <td>58</td>\n",
       "      <td>60</td>\n",
       "      <td>68</td>\n",
       "      <td>14</td>\n",
       "    </tr>\n",
       "  </tbody>\n",
       "</table>\n",
       "</div>"
      ],
      "text/plain": [
       "            D0  D1  D2  D3  D4  D7\n",
       "2020-03-18  15  27  44  59  63   8\n",
       "2020-03-14   9  23  26  30  32   8\n",
       "2020-03-11   4  29  49  50  67   2\n",
       "2020-03-07   7  15  21  33  62  23\n",
       "2020-03-04  18  43  58  60  68  14"
      ]
     },
     "execution_count": 15,
     "metadata": {},
     "output_type": "execute_result"
    }
   ],
   "source": [
    "df.head()"
   ]
  },
  {
   "cell_type": "code",
   "execution_count": 16,
   "metadata": {},
   "outputs": [],
   "source": [
    "#Use the df.rename() function and refer the columns to be renamed\n",
    "df = df.rename(columns={\"D7\": \"PB\"})"
   ]
  },
  {
   "cell_type": "code",
   "execution_count": 17,
   "metadata": {},
   "outputs": [],
   "source": [
    "#df['Dates']=df.index\n",
    "#df['Day']=df.index.dt.weekday_name"
   ]
  },
  {
   "cell_type": "code",
   "execution_count": 18,
   "metadata": {},
   "outputs": [],
   "source": [
    "cols = ['D0', 'D1', 'D2', 'D3', 'D4','PB']\n",
    "df[cols] = df[cols].apply(pd.to_numeric, errors='coerce', axis=1)"
   ]
  },
  {
   "cell_type": "code",
   "execution_count": 26,
   "metadata": {},
   "outputs": [
    {
     "name": "stdout",
     "output_type": "stream",
     "text": [
      "Count 14\n",
      "[5, 6, 13, 22, 28, 34, 40, 42, 45, 48, 52, 64, 65, 69]\n"
     ]
    }
   ],
   "source": [
    "all2019=df['2019'][['D0', 'D1', 'D2', 'D3', 'D4']].stack().value_counts()\n",
    "all2020=df['2020'][['D0', 'D1', 'D2', 'D3', 'D4']].stack().value_counts()\n",
    "diff19_20=set(all2019.index).difference(all2020.index)\n",
    "print('Count', len(diff19_20))\n",
    "print(list(diff19_20))"
   ]
  },
  {
   "cell_type": "code",
   "execution_count": 37,
   "metadata": {},
   "outputs": [
    {
     "name": "stdout",
     "output_type": "stream",
     "text": [
      "Count 24\n",
      "Int64Index([15, 30, 33, 67,  4, 18,  7, 62,  9, 43, 44, 26, 63, 68, 49, 50, 21,\n",
      "            58, 23, 59, 27, 60, 29, 32],\n",
      "           dtype='int64')\n",
      "count 38\n",
      "[5, 6, 13, 22, 28, 34, 40, 42, 45, 48, 52, 64, 65, 69, 15, 30, 33, 67, 4, 18, 7, 62, 9, 43, 44, 26, 63, 68, 49, 50, 21, 58, 23, 59, 27, 60, 29, 32]\n",
      "Count of Numbers to Play 31\n",
      "{1, 2, 3, 8, 10, 11, 12, 14, 16, 17, 19, 20, 24, 25, 31, 35, 36, 37, 38, 39, 41, 46, 47, 51, 53, 54, 55, 56, 57, 61, 66}\n"
     ]
    }
   ],
   "source": [
    "mar20=df['2020-03'][['D0', 'D1', 'D2', 'D3', 'D4']].stack().value_counts()\n",
    "print('Count', len(mar20))\n",
    "print(mar20.index)\n",
    "#rmvNum=diff19_20 + mar20.index\n",
    "#print(rmvNum)\n",
    "dif12=list(diff19_20)\n",
    "\n",
    "dif12.extend(mar20.index)\n",
    "print('count',len(dif12))\n",
    "print(dif12)\n",
    "playnumbers=set(all2019.index).difference(dif12)\n",
    "print('Count of Numbers to Play', len(playnumbers))\n",
    "print(playnumbers)"
   ]
  },
  {
   "cell_type": "markdown",
   "metadata": {},
   "source": [
    "# PICK FROM THESE NUMBER"
   ]
  },
  {
   "cell_type": "code",
   "execution_count": 18,
   "metadata": {},
   "outputs": [
    {
     "data": {
      "text/plain": [
       "(104, 6)"
      ]
     },
     "execution_count": 18,
     "metadata": {},
     "output_type": "execute_result"
    }
   ],
   "source": [
    "df.shape"
   ]
  },
  {
   "cell_type": "code",
   "execution_count": 74,
   "metadata": {},
   "outputs": [
    {
     "name": "stdout",
     "output_type": "stream",
     "text": [
      "[1, 2, 3, 4, 5, 6, 7, 8, 9, 10, 11, 12, 13, 14, 15, 16, 17, 18, 19, 20, 21, 22, 23, 24, 25, 26, 27, 28, 29, 30, 31, 32, 33, 34, 35, 36, 37, 38, 39, 40, 41, 42, 43, 44, 45, 46, 47, 48, 49, 50, 51, 52, 53, 54, 55, 56, 57, 58, 59, 60, 61, 62, 63, 64, 65, 66, 67, 68, 69]\n",
      "[1, 2, 3, 4, 5, 6, 7, 8, 9, 10, 11, 12, 13, 14, 15, 16, 17, 18, 19, 20, 21, 22, 23, 24, 25, 26]\n"
     ]
    }
   ],
   "source": [
    "rng1_69 = list(range(1, 70))\n",
    "rng1_26 = list(range(1, 27))\n",
    "print(rng1_69)\n",
    "print(rng1_26)"
   ]
  },
  {
   "cell_type": "code",
   "execution_count": 24,
   "metadata": {},
   "outputs": [
    {
     "data": {
      "text/html": [
       "<div>\n",
       "<style scoped>\n",
       "    .dataframe tbody tr th:only-of-type {\n",
       "        vertical-align: middle;\n",
       "    }\n",
       "\n",
       "    .dataframe tbody tr th {\n",
       "        vertical-align: top;\n",
       "    }\n",
       "\n",
       "    .dataframe thead th {\n",
       "        text-align: right;\n",
       "    }\n",
       "</style>\n",
       "<table border=\"1\" class=\"dataframe\">\n",
       "  <thead>\n",
       "    <tr style=\"text-align: right;\">\n",
       "      <th></th>\n",
       "      <th>D0</th>\n",
       "      <th>D1</th>\n",
       "      <th>D2</th>\n",
       "      <th>D3</th>\n",
       "      <th>D4</th>\n",
       "      <th>PB</th>\n",
       "    </tr>\n",
       "  </thead>\n",
       "  <tbody>\n",
       "  </tbody>\n",
       "</table>\n",
       "</div>"
      ],
      "text/plain": [
       "Empty DataFrame\n",
       "Columns: [D0, D1, D2, D3, D4, PB]\n",
       "Index: []"
      ]
     },
     "execution_count": 24,
     "metadata": {},
     "output_type": "execute_result"
    }
   ],
   "source": [
    "df.loc['2020-01-01':'2020-01-15']"
   ]
  },
  {
   "cell_type": "code",
   "execution_count": 60,
   "metadata": {},
   "outputs": [
    {
     "name": "stdout",
     "output_type": "stream",
     "text": [
      "All numbers for 2020\n",
      "Int64Index([59, 68, 15, 50,  9, 12, 21, 23, 67, 35, 36, 44, 49, 33, 62, 54, 60,\n",
      "            56, 57, 25, 11, 24, 53,  7, 27, 29, 30, 31, 32,  4,  2, 39, 41, 43,\n",
      "            55, 46, 47,  3,  8, 66, 10, 63, 14, 51, 16, 17, 18, 19, 20, 61, 26,\n",
      "            58, 37, 38,  1],\n",
      "           dtype='int64')\n",
      "Count 19\n",
      "Int64Index([59, 68, 56, 25, 12, 15, 23, 24, 62, 60, 33, 36, 39, 41, 44, 49, 54,\n",
      "            55, 57],\n",
      "           dtype='int64')\n",
      "March info\n",
      "Int64Index([59, 68, 15, 23, 62, 60, 33, 44, 49], dtype='int64')\n",
      "            D0  D1  D2  D3  D4  PB\n",
      "2020-03-18  15  27  44  59  63   8\n",
      "2020-03-14   9  23  26  30  32   8\n",
      "2020-03-11   4  29  49  50  67   2\n",
      "2020-03-07   7  15  21  33  62  23\n",
      "2020-03-04  18  43  58  60  68  14\n",
      "2020-02-29  24  44  46  50  51  13\n",
      "2020-02-26   8  27  29  36  47  24\n",
      "2020-02-22  25  37  39  61  62  11\n",
      "2020-02-19  10  12  15  19  56  19\n",
      "2020-02-15  16  32  35  36  46   3\n",
      "2020-02-12  14  47  54  55  68  25\n",
      "2020-02-08  35  49  50  59  66   6\n",
      "2020-02-05  23  30  35  41  57   2\n",
      "2020-02-01  12  33  54  57  60  13\n",
      "2020-01-29   9  12  15  31  60   2\n",
      "2020-01-25   2   9  17  36  67  18\n",
      "2020-01-22  11  33  44  59  67   8\n",
      "2020-01-18  20  24  38  56  68  18\n",
      "2020-01-15  39  41  53  55  68  19\n",
      "2020-01-11   3  21  23  31  59   3\n",
      "2020-01-08   2   4   7  43  56  22\n",
      "2020-01-04   1  11  21  25  54   7\n",
      "2020-01-01  49  53  57  59  62  26\n"
     ]
    }
   ],
   "source": [
    "all2020=df['2020'][['D0', 'D1', 'D2', 'D3', 'D4']].stack().value_counts()\n",
    "jan20=df['2020-01'][['D0', 'D1', 'D2', 'D3', 'D4']].stack().value_counts()\n",
    "feb20=df['2020-02'][['D0', 'D1', 'D2', 'D3', 'D4']].stack().value_counts()\n",
    "mar20=df['2020-03'][['D0', 'D1', 'D2', 'D3', 'D4']].stack().value_counts()\n",
    "#print('Jan',(jan20))\n",
    "#print('Feb',(feb20))\n",
    "#janfeb=df['2020-01':'2020-02'][['D0', 'D1', 'D2', 'D3', 'D4']].stack().value_counts()\n",
    "intjf=(jan20.index).intersection(feb20.index)\n",
    "print('All numbers for 2020')\n",
    "print(all2020.index)\n",
    "print('Count', len(intjf))\n",
    "print(intjf)\n",
    "print('March info')\n",
    "intjfm=(intjf).intersection(mar20.index)\n",
    "print(intjfm)\n",
    "print(df['2020'])\n",
    "\n"
   ]
  },
  {
   "cell_type": "code",
   "execution_count": 114,
   "metadata": {},
   "outputs": [
    {
     "name": "stdout",
     "output_type": "stream",
     "text": [
      "Int64Index([68, 15, 23, 62, 60, 33, 49], dtype='int64')\n"
     ]
    }
   ],
   "source": [
    "mar20=df['2020-03'][['D0', 'D1', 'D2', 'D3', 'D4']].stack().value_counts()\n",
    "#print(mar20.index)\n",
    "print(intjf.intersection(mar20.index))"
   ]
  },
  {
   "cell_type": "code",
   "execution_count": 103,
   "metadata": {},
   "outputs": [
    {
     "data": {
      "text/plain": [
       "2     0.136364\n",
       "19    0.090909\n",
       "18    0.090909\n",
       "13    0.090909\n",
       "8     0.090909\n",
       "3     0.090909\n",
       "26    0.045455\n",
       "25    0.045455\n",
       "24    0.045455\n",
       "23    0.045455\n",
       "22    0.045455\n",
       "14    0.045455\n",
       "11    0.045455\n",
       "7     0.045455\n",
       "6     0.045455\n",
       "Name: PB, dtype: float64"
      ]
     },
     "execution_count": 103,
     "metadata": {},
     "output_type": "execute_result"
    }
   ],
   "source": [
    "df['2020'].PB.value_counts(normalize=True)"
   ]
  },
  {
   "cell_type": "code",
   "execution_count": 106,
   "metadata": {},
   "outputs": [
    {
     "data": {
      "text/plain": [
       "Series([], Name: D0, dtype: int64)"
      ]
     },
     "execution_count": 106,
     "metadata": {},
     "output_type": "execute_result"
    }
   ],
   "source": [
    "df['2019-11':'2020-01'].D0"
   ]
  },
  {
   "cell_type": "code",
   "execution_count": 101,
   "metadata": {},
   "outputs": [
    {
     "name": "stdout",
     "output_type": "stream",
     "text": [
      "<class 'numpy.int64'>\n"
     ]
    },
    {
     "data": {
      "text/plain": [
       "int"
      ]
     },
     "execution_count": 101,
     "metadata": {},
     "output_type": "execute_result"
    }
   ],
   "source": [
    "allnum=df['2020'][['D0', 'D1', 'D2','D3', 'D4']].stack().value_counts()\n",
    "#(allnum.index).difference(rng1_69)\n",
    "#(allnum.index).difference(rng1_69)\n",
    "print(type(allnum.index[0]))\n",
    "type(rng1_69[67])"
   ]
  },
  {
   "cell_type": "code",
   "execution_count": 80,
   "metadata": {},
   "outputs": [
    {
     "data": {
      "text/plain": [
       "3     0.084337\n",
       "4     0.072289\n",
       "21    0.072289\n",
       "6     0.060241\n",
       "18    0.060241\n",
       "1     0.048193\n",
       "2     0.048193\n",
       "8     0.048193\n",
       "10    0.048193\n",
       "14    0.048193\n",
       "25    0.048193\n",
       "12    0.036145\n",
       "11    0.036145\n",
       "26    0.036145\n",
       "23    0.036145\n",
       "13    0.036145\n",
       "15    0.024096\n",
       "17    0.024096\n",
       "19    0.024096\n",
       "7     0.024096\n",
       "20    0.024096\n",
       "22    0.024096\n",
       "9     0.012048\n",
       "5     0.012048\n",
       "24    0.012048\n",
       "Name: PB, dtype: float64"
      ]
     },
     "execution_count": 80,
     "metadata": {},
     "output_type": "execute_result"
    }
   ],
   "source": [
    "df['2019'].PB.value_counts(normalize=True)"
   ]
  },
  {
   "cell_type": "code",
   "execution_count": 66,
   "metadata": {},
   "outputs": [
    {
     "data": {
      "image/png": "[encoded data removed]",
      "text/plain": [
       "<Figure size 1152x216 with 1 Axes>"
      ]
     },
     "metadata": {
      "needs_background": "light"
     },
     "output_type": "display_data"
    }
   ],
   "source": [
    "Days14 = df['2020']\n",
    "vc14=Days14[['D0', 'D1', 'D2', 'D3', 'D4']].stack().value_counts(normalize=True)\n",
    "#vc14LTM=vc14[vc14 < 2]\n",
    "vc14.plot(kind='bar', figsize=(16,3))\n",
    "plt.show()"
   ]
  },
  {
   "cell_type": "code",
   "execution_count": 19,
   "metadata": {},
   "outputs": [
    {
     "name": "stdout",
     "output_type": "stream",
     "text": [
      "31\n"
     ]
    },
    {
     "data": {
      "text/plain": [
       "<function matplotlib.pyplot.show(*args, **kw)>"
      ]
     },
     "execution_count": 19,
     "metadata": {},
     "output_type": "execute_result"
    },
    {
     "data": {
      "image/png": "[encoded data removed]",
      "text/plain": [
       "<Figure size 1152x216 with 1 Axes>"
      ]
     },
     "metadata": {
      "needs_background": "light"
     },
     "output_type": "display_data"
    }
   ],
   "source": [
    "vc2018=df[['D0', 'D1', 'D2', 'D3', 'D4']].stack().value_counts()\n",
    "print(len(vc2018[vc2018 <= 7.4]))\n",
    "(vc2018[vc2018 <= 7.4]).plot(kind='bar', figsize=(16,3))\n",
    "plt.show"
   ]
  },
  {
   "cell_type": "markdown",
   "metadata": {},
   "source": [
    "set(vc14LTM.index).symmetric_difference(vc2018.index)"
   ]
  },
  {
   "cell_type": "markdown",
   "metadata": {},
   "source": [
    "# PB Analysis"
   ]
  },
  {
   "cell_type": "code",
   "execution_count": 20,
   "metadata": {},
   "outputs": [
    {
     "data": {
      "text/plain": [
       "<matplotlib.axes._subplots.AxesSubplot at 0x7f1dbe27abe0>"
      ]
     },
     "execution_count": 20,
     "metadata": {},
     "output_type": "execute_result"
    },
    {
     "data": {
      "image/png": "[encoded data removed]",
      "text/plain": [
       "<Figure size 1152x216 with 1 Axes>"
      ]
     },
     "metadata": {
      "needs_background": "light"
     },
     "output_type": "display_data"
    }
   ],
   "source": [
    "df['PB'].value_counts().plot(kind='bar', figsize=(16,3))"
   ]
  },
  {
   "cell_type": "code",
   "execution_count": 21,
   "metadata": {},
   "outputs": [
    {
     "data": {
      "text/plain": [
       "<matplotlib.axes._subplots.AxesSubplot at 0x7f1dbdd5a320>"
      ]
     },
     "execution_count": 21,
     "metadata": {},
     "output_type": "execute_result"
    },
    {
     "data": {
      "image/png": "[encoded data removed]",
      "text/plain": [
       "<Figure size 1152x216 with 1 Axes>"
      ]
     },
     "metadata": {
      "needs_background": "light"
     },
     "output_type": "display_data"
    }
   ],
   "source": [
    "df[:14]['PB'].value_counts().plot(kind='bar', figsize=(16,3))"
   ]
  },
  {
   "cell_type": "code",
   "execution_count": 22,
   "metadata": {},
   "outputs": [
    {
     "data": {
      "text/plain": [
       "DatetimeIndex(['2018-09-16', '2018-09-23', '2018-09-30', '2018-10-07',\n",
       "               '2018-10-14', '2018-10-21', '2018-10-28'],\n",
       "              dtype='datetime64[ns]', freq='W-SUN')"
      ]
     },
     "execution_count": 22,
     "metadata": {},
     "output_type": "execute_result"
    }
   ],
   "source": [
    "rng=pd.date_range(start='09/11/2018', periods=7, freq='W')\n",
    "rng"
   ]
  },
  {
   "cell_type": "code",
   "execution_count": 23,
   "metadata": {},
   "outputs": [],
   "source": [
    "#Ranges 1-69\n",
    "rng1to69=list(range(1,70))\n",
    "#=[\"%.1d\" % i for i in range(1,70)]\n",
    "#Ranges 1-69\n",
    "rngpb26=[\"%.1d\" % i for i in range(1, 27)]"
   ]
  },
  {
   "cell_type": "code",
   "execution_count": 22,
   "metadata": {},
   "outputs": [
    {
     "name": "stdout",
     "output_type": "stream",
     "text": [
      "Count Int64Index([35, 57, 36, 12, 54, 50, 47, 46, 19, 27, 25, 24, 23, 15, 16, 30, 14,\n",
      "            10,  8, 68, 29, 62, 32, 33, 61, 37, 39, 41, 44, 49, 51, 55, 56, 59,\n",
      "            60, 66],\n",
      "           dtype='int64')\n"
     ]
    }
   ],
   "source": [
    "#stack D columns toget total value counts of all drawings for the year 14 days\n",
    "AllNum= df['2020-02'][['D0', 'D1', 'D2', 'D3', 'D4']].stack().value_counts()\n",
    "PickedNums = AllNum.index\n",
    "print('Count', PickedNums)"
   ]
  },
  {
   "cell_type": "code",
   "execution_count": 25,
   "metadata": {},
   "outputs": [
    {
     "data": {
      "text/plain": [
       "{2, 17, 18, 30, 31, 35, 41, 44, 48, 63, 66}"
      ]
     },
     "execution_count": 25,
     "metadata": {},
     "output_type": "execute_result"
    }
   ],
   "source": [
    "NotPicked_14 = set(rng1to69).symmetric_difference(PickedNums)\n",
    "NotPicked_14"
   ]
  },
  {
   "cell_type": "code",
   "execution_count": 26,
   "metadata": {},
   "outputs": [
    {
     "name": "stdout",
     "output_type": "stream",
     "text": [
      "34    3\n",
      "7     3\n",
      "11    3\n",
      "47    2\n",
      "8     2\n",
      "9     2\n",
      "14    2\n",
      "19    2\n",
      "21    2\n",
      "29    2\n",
      "32    2\n",
      "68    2\n",
      "38    2\n",
      "42    2\n",
      "69    2\n",
      "4     2\n",
      "58    2\n",
      "55    2\n",
      "dtype: int64\n"
     ]
    }
   ],
   "source": [
    "#stack D columns toget total value counts of most recent 14 drawings \n",
    "AllNum_14= df[1:15][['D0', 'D1', 'D2', 'D3', 'D4']].stack().value_counts()\n",
    "PickedNums_14 = AllNum_14.index\n",
    "print(AllNum_14[AllNum_14>1])"
   ]
  },
  {
   "cell_type": "code",
   "execution_count": 27,
   "metadata": {},
   "outputs": [
    {
     "data": {
      "text/plain": [
       "Int64Index([26, 11, 18, 5, 20, 10, 25, 24, 23, 21, 17], dtype='int64')"
      ]
     },
     "execution_count": 27,
     "metadata": {},
     "output_type": "execute_result"
    }
   ],
   "source": [
    "AllNum_PB= df[0:14][['PB']].stack().value_counts()\n",
    "PickedPB = AllNum_PB.index\n",
    "PickedPB\n"
   ]
  },
  {
   "cell_type": "code",
   "execution_count": 28,
   "metadata": {},
   "outputs": [],
   "source": [
    "PB14 = df[:14][['PB']].stack().value_counts()\n",
    "PB14i =PB14.index\n",
    "PB28 = df[:28][['PB']].stack().value_counts()\n",
    "PB28i =PB28.index"
   ]
  },
  {
   "cell_type": "markdown",
   "metadata": {},
   "source": [
    "#pb diff between 14 and 28 drawings\n",
    "diffpb=PB28.index\n",
    "e=diffpb\n",
    "f=pb2.index\n",
    "set(f).intersection(e)"
   ]
  },
  {
   "cell_type": "markdown",
   "metadata": {},
   "source": [
    "sns.pairplot(df)"
   ]
  }
 ],
 "metadata": {
  "kernelspec": {
   "display_name": "Python 3",
   "language": "python",
   "name": "python3"
  },
  "language_info": {
   "codemirror_mode": {
    "name": "ipython",
    "version": 3
   },
   "file_extension": ".py",
   "mimetype": "text/x-python",
   "name": "python",
   "nbconvert_exporter": "python",
   "pygments_lexer": "ipython3",
   "version": "3.6.6"
  }
 },
 "nbformat": 4,
 "nbformat_minor": 2
}
